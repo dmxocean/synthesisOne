{
 "cells": [
  {
   "cell_type": "code",
   "execution_count": null,
   "id": "e44a1883",
   "metadata": {},
   "outputs": [],
   "source": [
    "import pandas as pd\n",
    "import re\n",
    "import os\n",
    "import sys\n",
    "\n",
    "path_base = os.path.dirname(os.path.dirname(os.getcwd()))\n",
    "sys.path.append(path_base)\n",
    "print(\"Base path added to sys.path:\", path_base)\n",
    "\n",
    "data_raw_dir = os.path.join(path_base, \"data\", \"raw\")\n",
    "print(\"Data/raw directory:\", data_raw_dir)"
   ]
  },
  {
   "cell_type": "code",
   "execution_count": null,
   "id": "82044a9f",
   "metadata": {},
   "outputs": [],
   "source": [
    "# Load all CSV files\n",
    "df_clients = pd.read_csv(os.path.join(data_raw_dir, \"clients.csv\"))\n",
    "df_data = pd.read_csv(os.path.join(data_raw_dir, \"data.csv\"))\n",
    "df_schedules = pd.read_csv(os.path.join(data_raw_dir, \"schedules.csv\"))\n",
    "df_translators = pd.read_csv(os.path.join(data_raw_dir, \"translatorsCostPairs.csv\"))\n",
    "\n",
    "print(\"Clients shape:\", df_clients.shape)\n",
    "print(\"Data shape:\", df_data.shape)\n",
    "print(\"Schedules shape:\", df_schedules.shape)\n",
    "print(\"Translators shape:\", df_translators.shape)"
   ]
  },
  {
   "cell_type": "markdown",
   "id": "a3b6fd65",
   "metadata": {},
   "source": [
    "### Clients"
   ]
  },
  {
   "cell_type": "code",
   "execution_count": null,
   "id": "dc448ba7",
   "metadata": {},
   "outputs": [],
   "source": [
    "df_clients = df_clients.drop_duplicates()\n",
    "df_clients = df_clients.dropna()\n",
    "print(\"Clients shape after cleaning:\", df_clients.shape)\n",
    "\n",
    "# Save\n",
    "df_clients.to_csv(os.path.join(data_raw_dir, \"clients.csv\"), index=False)\n",
    "print(\"Saved cleaned clients to:\", os.path.join(data_raw_dir, \"clients.csv\"))"
   ]
  },
  {
   "cell_type": "markdown",
   "id": "4ed2e959",
   "metadata": {},
   "source": [
    "### Data"
   ]
  },
  {
   "cell_type": "code",
   "execution_count": null,
   "id": "9b3eeaa2",
   "metadata": {},
   "outputs": [],
   "source": [
    "df_data = df_data.drop_duplicates()\n",
    "print(\"Data shape after cleaning:\", df_data.shape)\n",
    "\n",
    "# Save\n",
    "df_data.to_csv(os.path.join(data_raw_dir, \"data.csv\"), index=False)\n",
    "print(\"Saved cleaned data to:\", os.path.join(data_raw_dir, \"data.csv\"))"
   ]
  },
  {
   "cell_type": "markdown",
   "id": "519b87c3",
   "metadata": {},
   "source": [
    "### Schedules"
   ]
  },
  {
   "cell_type": "code",
   "execution_count": null,
   "id": "4a05ffbb",
   "metadata": {},
   "outputs": [],
   "source": [
    "# Define a regex pattern for HH:MM:SS format\n",
    "time_pattern = re.compile(r\"^\\d{2}:\\d{2}:\\d{2}$\")\n",
    "\n",
    "# Check for invalid START or END times before cleaning\n",
    "invalid_rows_before = df_schedules[\n",
    "    ~df_schedules[\"START\"].str.match(time_pattern) | ~df_schedules[\"END\"].str.match(time_pattern)\n",
    "]\n",
    "print(\"Invalid rows before cleaning:\")\n",
    "# print(invalid_rows_before)\n",
    "\n",
    "# Remove the \"YYYY-MM-DD \" part from START and END columns\n",
    "df_schedules[\"START\"] = df_schedules[\"START\"].str.split(\" \").str[-1]\n",
    "df_schedules[\"END\"] = df_schedules[\"END\"].str.split(\" \").str[-1]\n",
    "\n",
    "# Check for invalid START or END times after cleaning\n",
    "invalid_rows_after = df_schedules[\n",
    "    ~df_schedules[\"START\"].str.match(time_pattern) | ~df_schedules[\"END\"].str.match(time_pattern)\n",
    "]\n",
    "\n",
    "print(\"\\nInvalid rows after cleaning:\")\n",
    "print(invalid_rows_after)\n",
    "\n",
    "print(\"\\nData shape after cleaning:\", df_data.shape)\n",
    "\n",
    "# Save\n",
    "df_schedules.to_csv(os.path.join(data_raw_dir, \"schedules.csv\"), index=False)\n",
    "print(\"Saved cleaned schedules to:\", os.path.join(data_raw_dir, \"schedules.csv\"))"
   ]
  },
  {
   "cell_type": "markdown",
   "id": "2bce9112",
   "metadata": {},
   "source": [
    "### Translators Cost Pairs"
   ]
  },
  {
   "cell_type": "code",
   "execution_count": null,
   "id": "f37ce41f",
   "metadata": {},
   "outputs": [],
   "source": [
    "df_translators = df_translators.drop_duplicates()\n",
    "df_translators = df_translators.dropna()\n",
    "print(\"Translators shape after cleaning:\", df_translators.shape)\n",
    "\n",
    "# Save\n",
    "df_translators.to_csv(os.path.join(data_raw_dir, \"translatorsCostPairs.csv\"), index=False)\n",
    "print(\"Saved cleaned translators to:\", os.path.join(data_raw_dir, \"translatorsCostPairs.csv\"))"
   ]
  }
 ],
 "metadata": {
  "kernelspec": {
   "display_name": "Synthesis",
   "language": "python",
   "name": "python3"
  },
  "language_info": {
   "codemirror_mode": {
    "name": "ipython",
    "version": 3
   },
   "file_extension": ".py",
   "mimetype": "text/x-python",
   "name": "python",
   "nbconvert_exporter": "python",
   "pygments_lexer": "ipython3",
   "version": "3.10.16"
  }
 },
 "nbformat": 4,
 "nbformat_minor": 5
}
