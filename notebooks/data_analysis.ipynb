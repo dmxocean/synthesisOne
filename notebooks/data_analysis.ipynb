{
 "cells": [
  {
   "cell_type": "markdown",
   "metadata": {},
   "source": [
    "# Data Analysis"
   ]
  },
  {
   "cell_type": "markdown",
   "metadata": {},
   "source": [
    "### Setup"
   ]
  },
  {
   "cell_type": "code",
   "execution_count": 173,
   "metadata": {},
   "outputs": [],
   "source": [
    "# Libraries\n",
    "import os\n",
    "import sys\n",
    "import re\n",
    "\n",
    "import time\n",
    "import datetime\n",
    "\n",
    "import difflib\n",
    "import pandas as pd\n",
    "import numpy as np\n",
    "import matplotlib.pyplot as plt\n",
    "import seaborn as sns"
   ]
  },
  {
   "cell_type": "code",
   "execution_count": 174,
   "metadata": {},
   "outputs": [],
   "source": [
    "# Set display options\n",
    "pd.set_option(\"display.max_columns\", None)\n",
    "pd.set_option(\"display.max_rows\", 50)\n",
    "pd.set_option(\"display.width\", 1000)"
   ]
  },
  {
   "cell_type": "code",
   "execution_count": 175,
   "metadata": {},
   "outputs": [],
   "source": [
    "# Define path to the CSV files\n",
    "data_path = \"../data/raw/\""
   ]
  },
  {
   "cell_type": "code",
   "execution_count": 176,
   "metadata": {},
   "outputs": [],
   "source": [
    "# Load the CSV data into a pandas DataFrame\n",
    "try: \n",
    "    clients_df = pd.read_csv(os.path.join(data_path, \"clients.csv\"))\n",
    "    sample_df = pd.read_csv(os.path.join(data_path, \"sample.csv\"))\n",
    "    schedules_df = pd.read_csv(os.path.join(data_path, \"schedules.csv\"))\n",
    "    translators_df = pd.read_csv(os.path.join(data_path, \"translatorsCostPairs.csv\"))\n",
    "except FileNotFoundError as e:\n",
    "    print(f\"File not found: {e}\")"
   ]
  },
  {
   "cell_type": "markdown",
   "metadata": {},
   "source": [
    "### Overview"
   ]
  },
  {
   "cell_type": "code",
   "execution_count": 177,
   "metadata": {},
   "outputs": [
    {
     "name": "stdout",
     "output_type": "stream",
     "text": [
      "CSV Client Data\n"
     ]
    },
    {
     "data": {
      "application/vnd.microsoft.datawrangler.viewer.v0+json": {
       "columns": [
        {
         "name": "index",
         "rawType": "int64",
         "type": "integer"
        },
        {
         "name": "CLIENT_NAME",
         "rawType": "object",
         "type": "string"
        },
        {
         "name": "SELLING_HOURLY_PRICE",
         "rawType": "int64",
         "type": "integer"
        },
        {
         "name": "MIN_QUALITY",
         "rawType": "float64",
         "type": "float"
        },
        {
         "name": "WILDCARD",
         "rawType": "object",
         "type": "string"
        }
       ],
       "conversionMethod": "pd.DataFrame",
       "ref": "de116b25-edd4-4353-aadd-66e4f875b372",
       "rows": [
        [
         "0",
         "Accesstra",
         "25",
         "7.0",
         "Quality"
        ],
        [
         "1",
         "AccuBank Industries",
         "30",
         "7.0",
         "Deadline"
        ],
        [
         "2",
         "AccuBuild Industries",
         "35",
         "7.5",
         "Quality"
        ],
        [
         "3",
         "AccuPulse",
         "25",
         "7.5",
         "Deadline"
        ],
        [
         "4",
         "Accura Systems",
         "40",
         "7.5",
         "Price"
        ]
       ],
       "shape": {
        "columns": 4,
        "rows": 5
       }
      },
      "text/html": [
       "<div>\n",
       "<style scoped>\n",
       "    .dataframe tbody tr th:only-of-type {\n",
       "        vertical-align: middle;\n",
       "    }\n",
       "\n",
       "    .dataframe tbody tr th {\n",
       "        vertical-align: top;\n",
       "    }\n",
       "\n",
       "    .dataframe thead th {\n",
       "        text-align: right;\n",
       "    }\n",
       "</style>\n",
       "<table border=\"1\" class=\"dataframe\">\n",
       "  <thead>\n",
       "    <tr style=\"text-align: right;\">\n",
       "      <th></th>\n",
       "      <th>CLIENT_NAME</th>\n",
       "      <th>SELLING_HOURLY_PRICE</th>\n",
       "      <th>MIN_QUALITY</th>\n",
       "      <th>WILDCARD</th>\n",
       "    </tr>\n",
       "  </thead>\n",
       "  <tbody>\n",
       "    <tr>\n",
       "      <th>0</th>\n",
       "      <td>Accesstra</td>\n",
       "      <td>25</td>\n",
       "      <td>7.0</td>\n",
       "      <td>Quality</td>\n",
       "    </tr>\n",
       "    <tr>\n",
       "      <th>1</th>\n",
       "      <td>AccuBank Industries</td>\n",
       "      <td>30</td>\n",
       "      <td>7.0</td>\n",
       "      <td>Deadline</td>\n",
       "    </tr>\n",
       "    <tr>\n",
       "      <th>2</th>\n",
       "      <td>AccuBuild Industries</td>\n",
       "      <td>35</td>\n",
       "      <td>7.5</td>\n",
       "      <td>Quality</td>\n",
       "    </tr>\n",
       "    <tr>\n",
       "      <th>3</th>\n",
       "      <td>AccuPulse</td>\n",
       "      <td>25</td>\n",
       "      <td>7.5</td>\n",
       "      <td>Deadline</td>\n",
       "    </tr>\n",
       "    <tr>\n",
       "      <th>4</th>\n",
       "      <td>Accura Systems</td>\n",
       "      <td>40</td>\n",
       "      <td>7.5</td>\n",
       "      <td>Price</td>\n",
       "    </tr>\n",
       "  </tbody>\n",
       "</table>\n",
       "</div>"
      ],
      "text/plain": [
       "            CLIENT_NAME  SELLING_HOURLY_PRICE  MIN_QUALITY  WILDCARD\n",
       "0             Accesstra                    25          7.0   Quality\n",
       "1   AccuBank Industries                    30          7.0  Deadline\n",
       "2  AccuBuild Industries                    35          7.5   Quality\n",
       "3             AccuPulse                    25          7.5  Deadline\n",
       "4        Accura Systems                    40          7.5     Price"
      ]
     },
     "metadata": {},
     "output_type": "display_data"
    },
    {
     "name": "stdout",
     "output_type": "stream",
     "text": [
      "CSV Sample Data\n"
     ]
    },
    {
     "data": {
      "application/vnd.microsoft.datawrangler.viewer.v0+json": {
       "columns": [
        {
         "name": "index",
         "rawType": "int64",
         "type": "integer"
        },
        {
         "name": "PROJECT_ID",
         "rawType": "object",
         "type": "string"
        },
        {
         "name": "PM",
         "rawType": "object",
         "type": "string"
        },
        {
         "name": "TASK_ID",
         "rawType": "int64",
         "type": "integer"
        },
        {
         "name": "START",
         "rawType": "object",
         "type": "string"
        },
        {
         "name": "END",
         "rawType": "object",
         "type": "string"
        },
        {
         "name": "TASK_TYPE",
         "rawType": "object",
         "type": "string"
        },
        {
         "name": "SOURCE_LANG",
         "rawType": "object",
         "type": "string"
        },
        {
         "name": "TARGET_LANG",
         "rawType": "object",
         "type": "string"
        },
        {
         "name": "TRANSLATOR",
         "rawType": "object",
         "type": "string"
        },
        {
         "name": "ASSIGNED",
         "rawType": "object",
         "type": "string"
        },
        {
         "name": "READY",
         "rawType": "object",
         "type": "string"
        },
        {
         "name": "WORKING",
         "rawType": "object",
         "type": "string"
        },
        {
         "name": "DELIVERED",
         "rawType": "object",
         "type": "string"
        },
        {
         "name": "RECEIVED",
         "rawType": "object",
         "type": "string"
        },
        {
         "name": "CLOSE",
         "rawType": "object",
         "type": "string"
        },
        {
         "name": "FORECAST",
         "rawType": "float64",
         "type": "float"
        },
        {
         "name": "HOURLY_RATE",
         "rawType": "int64",
         "type": "integer"
        },
        {
         "name": "COST",
         "rawType": "float64",
         "type": "float"
        },
        {
         "name": "QUALITY_EVALUATION",
         "rawType": "int64",
         "type": "integer"
        },
        {
         "name": "MANUFACTURER",
         "rawType": "object",
         "type": "string"
        },
        {
         "name": "MANUFACTURER_SECTOR",
         "rawType": "object",
         "type": "string"
        },
        {
         "name": "MANUFACTURER_INDUSTRY_GROUP",
         "rawType": "object",
         "type": "string"
        },
        {
         "name": "MANUFACTURER_INDUSTRY",
         "rawType": "object",
         "type": "string"
        },
        {
         "name": "MANUFACTURER_SUBINDUSTRY",
         "rawType": "object",
         "type": "string"
        }
       ],
       "conversionMethod": "pd.DataFrame",
       "ref": "b314ff9a-e0c3-4f52-92dc-ec307130208d",
       "rows": [
        [
         "0",
         "213494",
         "KMT",
         "10048285",
         "2014-11-26 10:36:00",
         "2014-11-26 15:30:00",
         "Engineering",
         "English",
         "Portuguese (Brazil)",
         "Estela",
         "2014-11-26 16:34:23",
         "2014-11-26 16:34:25",
         "2014-11-26 16:34:27",
         "2014-11-26 17:50:07",
         "2014-11-26 17:51:46",
         "2014-11-26 17:51:48",
         "0.25",
         "24",
         "6.0",
         "7",
         "Coastal Cottage",
         "Consumer Discretionary",
         "Consumer Services",
         "Hotels, Restaurants & Leisure",
         "Hotels, Resorts & Cruise Lines"
        ],
        [
         "1",
         "214198",
         "KMT",
         "10048285",
         "2015-09-09 17:29:00",
         "2015-09-10 11:00:00",
         "Engineering",
         "English",
         "Spanish (Iberian)",
         "Jeronimo",
         "2015-09-09 17:31:52",
         "2015-09-09 17:34:56",
         "2015-09-09 17:35:48",
         "2015-09-10 16:42:21",
         "2015-09-10 17:33:05",
         "2015-09-10 17:33:07",
         "1.5",
         "20",
         "30.0",
         "7",
         "HealthyLife",
         "Health Care",
         "Health Care Providers",
         "Health Care Facilities",
         "Long-Term Care Facilities"
        ],
        [
         "2",
         "213094",
         "PMT",
         "10048285",
         "2014-05-01 19:27:00",
         "2014-05-02 19:00:00",
         "Engineering",
         "Catalan",
         "Catalan",
         "Octavi",
         "2014-05-02 13:29:33",
         "2014-05-02 13:29:35",
         "2014-05-02 13:29:37",
         "2014-05-02 13:29:39",
         "2014-05-02 13:29:42",
         "2014-05-02 13:29:44",
         "0.33",
         "15",
         "4.95",
         "6",
         "AeroSysTech",
         "Information Technology",
         "Software & Services",
         "Application Software",
         "Systems Software"
        ],
        [
         "3",
         "211967",
         "KMT",
         "10048285",
         "2013-07-17 17:40:00",
         "2013-08-31 18:00:00",
         "Management",
         "English",
         "Spanish (Iberian)",
         "Ramiro Josafat",
         "2013-07-22 15:35:11",
         "2013-07-22 15:35:33",
         "2013-08-30 15:55:01",
         "2013-08-30 15:55:04",
         "2013-08-31 16:28:14",
         "2013-08-31 16:28:18",
         "0.5",
         "20",
         "10.0",
         "6",
         "MetaPro",
         "Industrials",
         "Electrical Equipment",
         "Electrical Components & Equipment",
         "Electrical Components & Equipment"
        ],
        [
         "4",
         "212331",
         "PMT",
         "10048285",
         "2013-11-01 13:13:00",
         "2013-10-31 19:00:00",
         "Miscellaneous",
         "Catalan",
         "Catalan",
         "Victor",
         "2013-10-31 13:14:35",
         "2013-10-31 13:18:25",
         "2013-10-31 13:18:27",
         "2013-10-31 13:18:29",
         "2013-10-31 13:18:31",
         "2013-10-31 13:18:34",
         "0.0",
         "11",
         "0.0",
         "8",
         "SunTech",
         "Information Technology",
         "Technology Hardware & Equipment",
         "Technology Hardware, Storage & Peripherals",
         "Technology Hardware, Storage & Peripherals"
        ]
       ],
       "shape": {
        "columns": 24,
        "rows": 5
       }
      },
      "text/html": [
       "<div>\n",
       "<style scoped>\n",
       "    .dataframe tbody tr th:only-of-type {\n",
       "        vertical-align: middle;\n",
       "    }\n",
       "\n",
       "    .dataframe tbody tr th {\n",
       "        vertical-align: top;\n",
       "    }\n",
       "\n",
       "    .dataframe thead th {\n",
       "        text-align: right;\n",
       "    }\n",
       "</style>\n",
       "<table border=\"1\" class=\"dataframe\">\n",
       "  <thead>\n",
       "    <tr style=\"text-align: right;\">\n",
       "      <th></th>\n",
       "      <th>PROJECT_ID</th>\n",
       "      <th>PM</th>\n",
       "      <th>TASK_ID</th>\n",
       "      <th>START</th>\n",
       "      <th>END</th>\n",
       "      <th>TASK_TYPE</th>\n",
       "      <th>SOURCE_LANG</th>\n",
       "      <th>TARGET_LANG</th>\n",
       "      <th>TRANSLATOR</th>\n",
       "      <th>ASSIGNED</th>\n",
       "      <th>READY</th>\n",
       "      <th>WORKING</th>\n",
       "      <th>DELIVERED</th>\n",
       "      <th>RECEIVED</th>\n",
       "      <th>CLOSE</th>\n",
       "      <th>FORECAST</th>\n",
       "      <th>HOURLY_RATE</th>\n",
       "      <th>COST</th>\n",
       "      <th>QUALITY_EVALUATION</th>\n",
       "      <th>MANUFACTURER</th>\n",
       "      <th>MANUFACTURER_SECTOR</th>\n",
       "      <th>MANUFACTURER_INDUSTRY_GROUP</th>\n",
       "      <th>MANUFACTURER_INDUSTRY</th>\n",
       "      <th>MANUFACTURER_SUBINDUSTRY</th>\n",
       "    </tr>\n",
       "  </thead>\n",
       "  <tbody>\n",
       "    <tr>\n",
       "      <th>0</th>\n",
       "      <td>213494</td>\n",
       "      <td>KMT</td>\n",
       "      <td>10048285</td>\n",
       "      <td>2014-11-26 10:36:00</td>\n",
       "      <td>2014-11-26 15:30:00</td>\n",
       "      <td>Engineering</td>\n",
       "      <td>English</td>\n",
       "      <td>Portuguese (Brazil)</td>\n",
       "      <td>Estela</td>\n",
       "      <td>2014-11-26 16:34:23</td>\n",
       "      <td>2014-11-26 16:34:25</td>\n",
       "      <td>2014-11-26 16:34:27</td>\n",
       "      <td>2014-11-26 17:50:07</td>\n",
       "      <td>2014-11-26 17:51:46</td>\n",
       "      <td>2014-11-26 17:51:48</td>\n",
       "      <td>0.25</td>\n",
       "      <td>24</td>\n",
       "      <td>6.00</td>\n",
       "      <td>7</td>\n",
       "      <td>Coastal Cottage</td>\n",
       "      <td>Consumer Discretionary</td>\n",
       "      <td>Consumer Services</td>\n",
       "      <td>Hotels, Restaurants &amp; Leisure</td>\n",
       "      <td>Hotels, Resorts &amp; Cruise Lines</td>\n",
       "    </tr>\n",
       "    <tr>\n",
       "      <th>1</th>\n",
       "      <td>214198</td>\n",
       "      <td>KMT</td>\n",
       "      <td>10048285</td>\n",
       "      <td>2015-09-09 17:29:00</td>\n",
       "      <td>2015-09-10 11:00:00</td>\n",
       "      <td>Engineering</td>\n",
       "      <td>English</td>\n",
       "      <td>Spanish (Iberian)</td>\n",
       "      <td>Jeronimo</td>\n",
       "      <td>2015-09-09 17:31:52</td>\n",
       "      <td>2015-09-09 17:34:56</td>\n",
       "      <td>2015-09-09 17:35:48</td>\n",
       "      <td>2015-09-10 16:42:21</td>\n",
       "      <td>2015-09-10 17:33:05</td>\n",
       "      <td>2015-09-10 17:33:07</td>\n",
       "      <td>1.50</td>\n",
       "      <td>20</td>\n",
       "      <td>30.00</td>\n",
       "      <td>7</td>\n",
       "      <td>HealthyLife</td>\n",
       "      <td>Health Care</td>\n",
       "      <td>Health Care Providers</td>\n",
       "      <td>Health Care Facilities</td>\n",
       "      <td>Long-Term Care Facilities</td>\n",
       "    </tr>\n",
       "    <tr>\n",
       "      <th>2</th>\n",
       "      <td>213094</td>\n",
       "      <td>PMT</td>\n",
       "      <td>10048285</td>\n",
       "      <td>2014-05-01 19:27:00</td>\n",
       "      <td>2014-05-02 19:00:00</td>\n",
       "      <td>Engineering</td>\n",
       "      <td>Catalan</td>\n",
       "      <td>Catalan</td>\n",
       "      <td>Octavi</td>\n",
       "      <td>2014-05-02 13:29:33</td>\n",
       "      <td>2014-05-02 13:29:35</td>\n",
       "      <td>2014-05-02 13:29:37</td>\n",
       "      <td>2014-05-02 13:29:39</td>\n",
       "      <td>2014-05-02 13:29:42</td>\n",
       "      <td>2014-05-02 13:29:44</td>\n",
       "      <td>0.33</td>\n",
       "      <td>15</td>\n",
       "      <td>4.95</td>\n",
       "      <td>6</td>\n",
       "      <td>AeroSysTech</td>\n",
       "      <td>Information Technology</td>\n",
       "      <td>Software &amp; Services</td>\n",
       "      <td>Application Software</td>\n",
       "      <td>Systems Software</td>\n",
       "    </tr>\n",
       "    <tr>\n",
       "      <th>3</th>\n",
       "      <td>211967</td>\n",
       "      <td>KMT</td>\n",
       "      <td>10048285</td>\n",
       "      <td>2013-07-17 17:40:00</td>\n",
       "      <td>2013-08-31 18:00:00</td>\n",
       "      <td>Management</td>\n",
       "      <td>English</td>\n",
       "      <td>Spanish (Iberian)</td>\n",
       "      <td>Ramiro Josafat</td>\n",
       "      <td>2013-07-22 15:35:11</td>\n",
       "      <td>2013-07-22 15:35:33</td>\n",
       "      <td>2013-08-30 15:55:01</td>\n",
       "      <td>2013-08-30 15:55:04</td>\n",
       "      <td>2013-08-31 16:28:14</td>\n",
       "      <td>2013-08-31 16:28:18</td>\n",
       "      <td>0.50</td>\n",
       "      <td>20</td>\n",
       "      <td>10.00</td>\n",
       "      <td>6</td>\n",
       "      <td>MetaPro</td>\n",
       "      <td>Industrials</td>\n",
       "      <td>Electrical Equipment</td>\n",
       "      <td>Electrical Components &amp; Equipment</td>\n",
       "      <td>Electrical Components &amp; Equipment</td>\n",
       "    </tr>\n",
       "    <tr>\n",
       "      <th>4</th>\n",
       "      <td>212331</td>\n",
       "      <td>PMT</td>\n",
       "      <td>10048285</td>\n",
       "      <td>2013-11-01 13:13:00</td>\n",
       "      <td>2013-10-31 19:00:00</td>\n",
       "      <td>Miscellaneous</td>\n",
       "      <td>Catalan</td>\n",
       "      <td>Catalan</td>\n",
       "      <td>Victor</td>\n",
       "      <td>2013-10-31 13:14:35</td>\n",
       "      <td>2013-10-31 13:18:25</td>\n",
       "      <td>2013-10-31 13:18:27</td>\n",
       "      <td>2013-10-31 13:18:29</td>\n",
       "      <td>2013-10-31 13:18:31</td>\n",
       "      <td>2013-10-31 13:18:34</td>\n",
       "      <td>0.00</td>\n",
       "      <td>11</td>\n",
       "      <td>0.00</td>\n",
       "      <td>8</td>\n",
       "      <td>SunTech</td>\n",
       "      <td>Information Technology</td>\n",
       "      <td>Technology Hardware &amp; Equipment</td>\n",
       "      <td>Technology Hardware, Storage &amp; Peripherals</td>\n",
       "      <td>Technology Hardware, Storage &amp; Peripherals</td>\n",
       "    </tr>\n",
       "  </tbody>\n",
       "</table>\n",
       "</div>"
      ],
      "text/plain": [
       "  PROJECT_ID   PM   TASK_ID                START                  END      TASK_TYPE SOURCE_LANG          TARGET_LANG      TRANSLATOR             ASSIGNED                READY              WORKING            DELIVERED             RECEIVED                CLOSE  FORECAST  HOURLY_RATE   COST  QUALITY_EVALUATION     MANUFACTURER     MANUFACTURER_SECTOR      MANUFACTURER_INDUSTRY_GROUP                       MANUFACTURER_INDUSTRY                    MANUFACTURER_SUBINDUSTRY\n",
       "0     213494  KMT  10048285  2014-11-26 10:36:00  2014-11-26 15:30:00    Engineering     English  Portuguese (Brazil)          Estela  2014-11-26 16:34:23  2014-11-26 16:34:25  2014-11-26 16:34:27  2014-11-26 17:50:07  2014-11-26 17:51:46  2014-11-26 17:51:48      0.25           24   6.00                   7  Coastal Cottage  Consumer Discretionary                Consumer Services               Hotels, Restaurants & Leisure              Hotels, Resorts & Cruise Lines\n",
       "1     214198  KMT  10048285  2015-09-09 17:29:00  2015-09-10 11:00:00    Engineering     English    Spanish (Iberian)        Jeronimo  2015-09-09 17:31:52  2015-09-09 17:34:56  2015-09-09 17:35:48  2015-09-10 16:42:21  2015-09-10 17:33:05  2015-09-10 17:33:07      1.50           20  30.00                   7      HealthyLife             Health Care            Health Care Providers                      Health Care Facilities                   Long-Term Care Facilities\n",
       "2     213094  PMT  10048285  2014-05-01 19:27:00  2014-05-02 19:00:00    Engineering     Catalan              Catalan          Octavi  2014-05-02 13:29:33  2014-05-02 13:29:35  2014-05-02 13:29:37  2014-05-02 13:29:39  2014-05-02 13:29:42  2014-05-02 13:29:44      0.33           15   4.95                   6      AeroSysTech  Information Technology              Software & Services                        Application Software                            Systems Software\n",
       "3     211967  KMT  10048285  2013-07-17 17:40:00  2013-08-31 18:00:00     Management     English    Spanish (Iberian)  Ramiro Josafat  2013-07-22 15:35:11  2013-07-22 15:35:33  2013-08-30 15:55:01  2013-08-30 15:55:04  2013-08-31 16:28:14  2013-08-31 16:28:18      0.50           20  10.00                   6          MetaPro             Industrials             Electrical Equipment           Electrical Components & Equipment           Electrical Components & Equipment\n",
       "4     212331  PMT  10048285  2013-11-01 13:13:00  2013-10-31 19:00:00  Miscellaneous     Catalan              Catalan          Victor  2013-10-31 13:14:35  2013-10-31 13:18:25  2013-10-31 13:18:27  2013-10-31 13:18:29  2013-10-31 13:18:31  2013-10-31 13:18:34      0.00           11   0.00                   8          SunTech  Information Technology  Technology Hardware & Equipment  Technology Hardware, Storage & Peripherals  Technology Hardware, Storage & Peripherals"
      ]
     },
     "metadata": {},
     "output_type": "display_data"
    },
    {
     "name": "stdout",
     "output_type": "stream",
     "text": [
      "CSV Schedules Data\n"
     ]
    },
    {
     "data": {
      "application/vnd.microsoft.datawrangler.viewer.v0+json": {
       "columns": [
        {
         "name": "index",
         "rawType": "int64",
         "type": "integer"
        },
        {
         "name": "NAME",
         "rawType": "object",
         "type": "string"
        },
        {
         "name": "START",
         "rawType": "object",
         "type": "string"
        },
        {
         "name": "END",
         "rawType": "object",
         "type": "string"
        },
        {
         "name": "MON",
         "rawType": "int64",
         "type": "integer"
        },
        {
         "name": "TUES",
         "rawType": "int64",
         "type": "integer"
        },
        {
         "name": "WED",
         "rawType": "int64",
         "type": "integer"
        },
        {
         "name": "THURS",
         "rawType": "int64",
         "type": "integer"
        },
        {
         "name": "FRI",
         "rawType": "int64",
         "type": "integer"
        },
        {
         "name": "SAT",
         "rawType": "int64",
         "type": "integer"
        },
        {
         "name": "SUN",
         "rawType": "int64",
         "type": "integer"
        }
       ],
       "conversionMethod": "pd.DataFrame",
       "ref": "aedc786d-e967-4eff-b2b5-b60c39828473",
       "rows": [
        [
         "0",
         "Abigail",
         "8:00:00 AM",
         "6:00:00 PM",
         "1",
         "1",
         "1",
         "1",
         "1",
         "0",
         "0"
        ],
        [
         "1",
         "Abelardo",
         "6:00:00 AM",
         "4:00:00 PM",
         "1",
         "1",
         "1",
         "1",
         "1",
         "1",
         "1"
        ],
        [
         "2",
         "Margarita",
         "8:00:00 AM",
         "6:00:00 PM",
         "1",
         "1",
         "1",
         "1",
         "1",
         "1",
         "1"
        ],
        [
         "3",
         "Davide",
         "9:00:00 AM",
         "7:00:00 PM",
         "1",
         "1",
         "1",
         "1",
         "1",
         "1",
         "1"
        ],
        [
         "4",
         "Paul",
         "7:00:00 AM",
         "5:00:00 PM",
         "1",
         "1",
         "1",
         "1",
         "1",
         "1",
         "1"
        ]
       ],
       "shape": {
        "columns": 10,
        "rows": 5
       }
      },
      "text/html": [
       "<div>\n",
       "<style scoped>\n",
       "    .dataframe tbody tr th:only-of-type {\n",
       "        vertical-align: middle;\n",
       "    }\n",
       "\n",
       "    .dataframe tbody tr th {\n",
       "        vertical-align: top;\n",
       "    }\n",
       "\n",
       "    .dataframe thead th {\n",
       "        text-align: right;\n",
       "    }\n",
       "</style>\n",
       "<table border=\"1\" class=\"dataframe\">\n",
       "  <thead>\n",
       "    <tr style=\"text-align: right;\">\n",
       "      <th></th>\n",
       "      <th>NAME</th>\n",
       "      <th>START</th>\n",
       "      <th>END</th>\n",
       "      <th>MON</th>\n",
       "      <th>TUES</th>\n",
       "      <th>WED</th>\n",
       "      <th>THURS</th>\n",
       "      <th>FRI</th>\n",
       "      <th>SAT</th>\n",
       "      <th>SUN</th>\n",
       "    </tr>\n",
       "  </thead>\n",
       "  <tbody>\n",
       "    <tr>\n",
       "      <th>0</th>\n",
       "      <td>Abigail</td>\n",
       "      <td>8:00:00 AM</td>\n",
       "      <td>6:00:00 PM</td>\n",
       "      <td>1</td>\n",
       "      <td>1</td>\n",
       "      <td>1</td>\n",
       "      <td>1</td>\n",
       "      <td>1</td>\n",
       "      <td>0</td>\n",
       "      <td>0</td>\n",
       "    </tr>\n",
       "    <tr>\n",
       "      <th>1</th>\n",
       "      <td>Abelardo</td>\n",
       "      <td>6:00:00 AM</td>\n",
       "      <td>4:00:00 PM</td>\n",
       "      <td>1</td>\n",
       "      <td>1</td>\n",
       "      <td>1</td>\n",
       "      <td>1</td>\n",
       "      <td>1</td>\n",
       "      <td>1</td>\n",
       "      <td>1</td>\n",
       "    </tr>\n",
       "    <tr>\n",
       "      <th>2</th>\n",
       "      <td>Margarita</td>\n",
       "      <td>8:00:00 AM</td>\n",
       "      <td>6:00:00 PM</td>\n",
       "      <td>1</td>\n",
       "      <td>1</td>\n",
       "      <td>1</td>\n",
       "      <td>1</td>\n",
       "      <td>1</td>\n",
       "      <td>1</td>\n",
       "      <td>1</td>\n",
       "    </tr>\n",
       "    <tr>\n",
       "      <th>3</th>\n",
       "      <td>Davide</td>\n",
       "      <td>9:00:00 AM</td>\n",
       "      <td>7:00:00 PM</td>\n",
       "      <td>1</td>\n",
       "      <td>1</td>\n",
       "      <td>1</td>\n",
       "      <td>1</td>\n",
       "      <td>1</td>\n",
       "      <td>1</td>\n",
       "      <td>1</td>\n",
       "    </tr>\n",
       "    <tr>\n",
       "      <th>4</th>\n",
       "      <td>Paul</td>\n",
       "      <td>7:00:00 AM</td>\n",
       "      <td>5:00:00 PM</td>\n",
       "      <td>1</td>\n",
       "      <td>1</td>\n",
       "      <td>1</td>\n",
       "      <td>1</td>\n",
       "      <td>1</td>\n",
       "      <td>1</td>\n",
       "      <td>1</td>\n",
       "    </tr>\n",
       "  </tbody>\n",
       "</table>\n",
       "</div>"
      ],
      "text/plain": [
       "        NAME       START         END  MON  TUES  WED  THURS  FRI  SAT  SUN\n",
       "0    Abigail  8:00:00 AM  6:00:00 PM    1     1    1      1    1    0    0\n",
       "1   Abelardo  6:00:00 AM  4:00:00 PM    1     1    1      1    1    1    1\n",
       "2  Margarita  8:00:00 AM  6:00:00 PM    1     1    1      1    1    1    1\n",
       "3     Davide  9:00:00 AM  7:00:00 PM    1     1    1      1    1    1    1\n",
       "4       Paul  7:00:00 AM  5:00:00 PM    1     1    1      1    1    1    1"
      ]
     },
     "metadata": {},
     "output_type": "display_data"
    },
    {
     "name": "stdout",
     "output_type": "stream",
     "text": [
      "CSV Translators Data\n"
     ]
    },
    {
     "data": {
      "application/vnd.microsoft.datawrangler.viewer.v0+json": {
       "columns": [
        {
         "name": "index",
         "rawType": "int64",
         "type": "integer"
        },
        {
         "name": "TRANSLATOR",
         "rawType": "object",
         "type": "string"
        },
        {
         "name": "SOURCE_LANG",
         "rawType": "object",
         "type": "string"
        },
        {
         "name": "TARGET_LANG",
         "rawType": "object",
         "type": "string"
        },
        {
         "name": "HOURLY_RATE",
         "rawType": "int64",
         "type": "integer"
        }
       ],
       "conversionMethod": "pd.DataFrame",
       "ref": "7171c1bd-ee22-4590-acf9-21a5aa3ae890",
       "rows": [
        [
         "0",
         "Aaron",
         "English",
         "Basque",
         "27"
        ],
        [
         "1",
         "Aaron",
         "English",
         "Catalan",
         "17"
        ],
        [
         "2",
         "Aaron",
         "English",
         "Galician",
         "20"
        ],
        [
         "3",
         "Aaron",
         "English",
         "German",
         "32"
        ],
        [
         "4",
         "Aaron",
         "English",
         "Portuguese (Brazil)",
         "21"
        ]
       ],
       "shape": {
        "columns": 4,
        "rows": 5
       }
      },
      "text/html": [
       "<div>\n",
       "<style scoped>\n",
       "    .dataframe tbody tr th:only-of-type {\n",
       "        vertical-align: middle;\n",
       "    }\n",
       "\n",
       "    .dataframe tbody tr th {\n",
       "        vertical-align: top;\n",
       "    }\n",
       "\n",
       "    .dataframe thead th {\n",
       "        text-align: right;\n",
       "    }\n",
       "</style>\n",
       "<table border=\"1\" class=\"dataframe\">\n",
       "  <thead>\n",
       "    <tr style=\"text-align: right;\">\n",
       "      <th></th>\n",
       "      <th>TRANSLATOR</th>\n",
       "      <th>SOURCE_LANG</th>\n",
       "      <th>TARGET_LANG</th>\n",
       "      <th>HOURLY_RATE</th>\n",
       "    </tr>\n",
       "  </thead>\n",
       "  <tbody>\n",
       "    <tr>\n",
       "      <th>0</th>\n",
       "      <td>Aaron</td>\n",
       "      <td>English</td>\n",
       "      <td>Basque</td>\n",
       "      <td>27</td>\n",
       "    </tr>\n",
       "    <tr>\n",
       "      <th>1</th>\n",
       "      <td>Aaron</td>\n",
       "      <td>English</td>\n",
       "      <td>Catalan</td>\n",
       "      <td>17</td>\n",
       "    </tr>\n",
       "    <tr>\n",
       "      <th>2</th>\n",
       "      <td>Aaron</td>\n",
       "      <td>English</td>\n",
       "      <td>Galician</td>\n",
       "      <td>20</td>\n",
       "    </tr>\n",
       "    <tr>\n",
       "      <th>3</th>\n",
       "      <td>Aaron</td>\n",
       "      <td>English</td>\n",
       "      <td>German</td>\n",
       "      <td>32</td>\n",
       "    </tr>\n",
       "    <tr>\n",
       "      <th>4</th>\n",
       "      <td>Aaron</td>\n",
       "      <td>English</td>\n",
       "      <td>Portuguese (Brazil)</td>\n",
       "      <td>21</td>\n",
       "    </tr>\n",
       "  </tbody>\n",
       "</table>\n",
       "</div>"
      ],
      "text/plain": [
       "  TRANSLATOR SOURCE_LANG          TARGET_LANG  HOURLY_RATE\n",
       "0      Aaron     English               Basque           27\n",
       "1      Aaron     English              Catalan           17\n",
       "2      Aaron     English             Galician           20\n",
       "3      Aaron     English               German           32\n",
       "4      Aaron     English  Portuguese (Brazil)           21"
      ]
     },
     "metadata": {},
     "output_type": "display_data"
    }
   ],
   "source": [
    "print(\"CSV Client Data\")\n",
    "display(clients_df.head())\n",
    "\n",
    "print(\"CSV Sample Data\")\n",
    "display(sample_df.head())\n",
    "\n",
    "print(\"CSV Schedules Data\")\n",
    "display(schedules_df.head())\n",
    "\n",
    "print(\"CSV Translators Data\")\n",
    "display(translators_df.head())"
   ]
  },
  {
   "cell_type": "markdown",
   "metadata": {},
   "source": [
    "### Inspection"
   ]
  },
  {
   "cell_type": "code",
   "execution_count": 178,
   "metadata": {},
   "outputs": [],
   "source": [
    "tuples_df = {\n",
    "    \"Clients\": clients_df,\n",
    "    \"Sample\": sample_df,\n",
    "    \"Schedules\": schedules_df,\n",
    "    \"Translators\": translators_df\n",
    "}"
   ]
  },
  {
   "cell_type": "code",
   "execution_count": 179,
   "metadata": {},
   "outputs": [
    {
     "name": "stdout",
     "output_type": "stream",
     "text": [
      "MISSING VALUES \n",
      "\n",
      "Clients Dataset\n",
      "\t0 missing values\n",
      "\n",
      "Sample Dataset\n",
      "\t0 missing values\n",
      "\n",
      "Schedules Dataset\n",
      "\t0 missing values\n",
      "\n",
      "Translators Dataset\n",
      "\t0 missing values\n",
      "\n"
     ]
    }
   ],
   "source": [
    "print(\"MISSING VALUES\", \"\\n\")\n",
    "\n",
    "for name, df in tuples_df.items():\n",
    "    print(f\"{name} Dataset\")\n",
    "    print(f\"\\t{df.isnull().sum().sum()} missing values\")\n",
    "    print()"
   ]
  },
  {
   "cell_type": "code",
   "execution_count": 180,
   "metadata": {},
   "outputs": [
    {
     "name": "stdout",
     "output_type": "stream",
     "text": [
      "DUPLICATED VALUES \n",
      "\n",
      "Clients Dataset\n",
      "\t0 duplicated values\n",
      "\n",
      "Sample Dataset\n",
      "\t0 duplicated values\n",
      "\n",
      "Schedules Dataset\n",
      "\t0 duplicated values\n",
      "\n",
      "Translators Dataset\n",
      "\t0 duplicated values\n",
      "\n"
     ]
    }
   ],
   "source": [
    "print(\"DUPLICATED VALUES\", \"\\n\")\n",
    "\n",
    "for name, df in tuples_df.items():\n",
    "    print(f\"{name} Dataset\")\n",
    "    print(f\"\\t{df.duplicated().sum()} duplicated values\")\n",
    "    print()"
   ]
  },
  {
   "cell_type": "code",
   "execution_count": 181,
   "metadata": {},
   "outputs": [
    {
     "name": "stdout",
     "output_type": "stream",
     "text": [
      "UNIQUE VALUES \n",
      "\n",
      "Clients Dataset\n",
      "\tUnique Values:\n",
      "\t\tCLIENT_NAME: 2646\n",
      "\t\tSELLING_HOURLY_PRICE: 14\n",
      "\t\tMIN_QUALITY: 4\n",
      "\t\tWILDCARD: 3\n",
      "\n",
      "Sample Dataset\n",
      "\tUnique Values:\n",
      "\t\tPROJECT_ID: 1720\n",
      "\t\tPM: 4\n",
      "\t\tTASK_ID: 31009\n",
      "\t\tSTART: 18318\n",
      "\t\tEND: 6440\n",
      "\t\tTASK_TYPE: 6\n",
      "\t\tSOURCE_LANG: 11\n",
      "\t\tTARGET_LANG: 18\n",
      "\t\tTRANSLATOR: 228\n",
      "\t\tASSIGNED: 29949\n",
      "\t\tREADY: 30984\n",
      "\t\tWORKING: 30977\n",
      "\t\tDELIVERED: 30985\n",
      "\t\tRECEIVED: 29801\n",
      "\t\tCLOSE: 29665\n",
      "\t\tFORECAST: 2472\n",
      "\t\tHOURLY_RATE: 35\n",
      "\t\tCOST: 6824\n",
      "\t\tQUALITY_EVALUATION: 11\n",
      "\t\tMANUFACTURER: 250\n",
      "\t\tMANUFACTURER_SECTOR: 14\n",
      "\t\tMANUFACTURER_INDUSTRY_GROUP: 70\n",
      "\t\tMANUFACTURER_INDUSTRY: 85\n",
      "\t\tMANUFACTURER_SUBINDUSTRY: 92\n",
      "\n",
      "Schedules Dataset\n",
      "\tUnique Values:\n",
      "\t\tNAME: 983\n",
      "\t\tSTART: 22\n",
      "\t\tEND: 22\n",
      "\t\tMON: 2\n",
      "\t\tTUES: 2\n",
      "\t\tWED: 2\n",
      "\t\tTHURS: 2\n",
      "\t\tFRI: 2\n",
      "\t\tSAT: 2\n",
      "\t\tSUN: 2\n",
      "\n",
      "Translators Dataset\n",
      "\tUnique Values:\n",
      "\t\tTRANSLATOR: 983\n",
      "\t\tSOURCE_LANG: 40\n",
      "\t\tTARGET_LANG: 80\n",
      "\t\tHOURLY_RATE: 54\n",
      "\n"
     ]
    }
   ],
   "source": [
    "print(\"UNIQUE VALUES\", \"\\n\")\n",
    "\n",
    "for name, df in tuples_df.items():\n",
    "    print(f\"{name} Dataset\")\n",
    "    print(f\"\\tUnique Values:\")\n",
    "    for col in df.columns:\n",
    "        print(f\"\\t\\t{col}: {df[col].nunique()}\")    \n",
    "    print()"
   ]
  },
  {
   "cell_type": "code",
   "execution_count": 182,
   "metadata": {},
   "outputs": [
    {
     "name": "stdout",
     "output_type": "stream",
     "text": [
      "DATASETS \n",
      "\n",
      "Clients Dataset\n",
      "\t2646 rows and 4 columns\n",
      "\tData Types:\n",
      "\t\tCLIENT_NAME: object\n",
      "\t\tSELLING_HOURLY_PRICE: int64\n",
      "\t\tMIN_QUALITY: float64\n",
      "\t\tWILDCARD: object\n",
      "\n",
      "Sample Dataset\n",
      "\t31017 rows and 24 columns\n",
      "\tData Types:\n",
      "\t\tPROJECT_ID: object\n",
      "\t\tPM: object\n",
      "\t\tTASK_ID: int64\n",
      "\t\tSTART: object\n",
      "\t\tEND: object\n",
      "\t\tTASK_TYPE: object\n",
      "\t\tSOURCE_LANG: object\n",
      "\t\tTARGET_LANG: object\n",
      "\t\tTRANSLATOR: object\n",
      "\t\tASSIGNED: object\n",
      "\t\tREADY: object\n",
      "\t\tWORKING: object\n",
      "\t\tDELIVERED: object\n",
      "\t\tRECEIVED: object\n",
      "\t\tCLOSE: object\n",
      "\t\tFORECAST: float64\n",
      "\t\tHOURLY_RATE: int64\n",
      "\t\tCOST: float64\n",
      "\t\tQUALITY_EVALUATION: int64\n",
      "\t\tMANUFACTURER: object\n",
      "\t\tMANUFACTURER_SECTOR: object\n",
      "\t\tMANUFACTURER_INDUSTRY_GROUP: object\n",
      "\t\tMANUFACTURER_INDUSTRY: object\n",
      "\t\tMANUFACTURER_SUBINDUSTRY: object\n",
      "\n",
      "Schedules Dataset\n",
      "\t983 rows and 10 columns\n",
      "\tData Types:\n",
      "\t\tNAME: object\n",
      "\t\tSTART: object\n",
      "\t\tEND: object\n",
      "\t\tMON: int64\n",
      "\t\tTUES: int64\n",
      "\t\tWED: int64\n",
      "\t\tTHURS: int64\n",
      "\t\tFRI: int64\n",
      "\t\tSAT: int64\n",
      "\t\tSUN: int64\n",
      "\n",
      "Translators Dataset\n",
      "\t4690 rows and 4 columns\n",
      "\tData Types:\n",
      "\t\tTRANSLATOR: object\n",
      "\t\tSOURCE_LANG: object\n",
      "\t\tTARGET_LANG: object\n",
      "\t\tHOURLY_RATE: int64\n",
      "\n"
     ]
    }
   ],
   "source": [
    "print(\"DATASETS\", \"\\n\")\n",
    "\n",
    "for name, df in tuples_df.items():\n",
    "    print(f\"{name} Dataset\")\n",
    "    print(f\"\\t{df.shape[0]} rows and {df.shape[1]} columns\")\n",
    "    print(f\"\\tData Types:\")\n",
    "    for col, dtype in df.dtypes.items():\n",
    "        print(f\"\\t\\t{col}: {dtype}\")\n",
    "    print()"
   ]
  },
  {
   "cell_type": "markdown",
   "metadata": {},
   "source": [
    "### CSV"
   ]
  },
  {
   "cell_type": "code",
   "execution_count": 183,
   "metadata": {},
   "outputs": [],
   "source": [
    "def get_unique_values(df):\n",
    "    \"\"\"\n",
    "    Get unique values for each column in a DataFrame\n",
    "\n",
    "    Parameters:\n",
    "    df (pd.DataFrame): DataFrame to get unique values from\n",
    "\n",
    "    Returns:\n",
    "    dict: Unique values for each column\n",
    "    \"\"\"\n",
    "\n",
    "    unique_values = {}\n",
    "    for col in df.columns:\n",
    "        unique_values[col] = df[col].unique()\n",
    "    return unique_values\n"
   ]
  },
  {
   "cell_type": "code",
   "execution_count": 184,
   "metadata": {},
   "outputs": [],
   "source": [
    "cols_useful = {\n",
    "    \"Clients\": [\"CLIENT_NAME\", \"WILDCARD\"],\n",
    "    \"Sample\": [\n",
    "        \"TASK_TYPE\",\n",
    "        \"SOURCE_LANG\",\n",
    "        \"TARGET_LANG\",\n",
    "        \"TRANSLATOR\",\n",
    "        \"MANUFACTURER\",\n",
    "        \"MANUFACTURER_SECTOR\",\n",
    "        \"MANUFACTURER_INDUSTRY_GROUP\",\n",
    "        \"MANUFACTURER_INDUSTRY\",\n",
    "        \"MANUFACTURER_SUBINDUSTRY\",\n",
    "    ],\n",
    "    \"Schedules\": [\"NAME\"],\n",
    "    \"Translators\": [\"TRANSLATOR\", \"SOURCE_LANG\", \"TARGET_LANG\", \"HOURLY_RATE\"],\n",
    "}"
   ]
  },
  {
   "cell_type": "code",
   "execution_count": 185,
   "metadata": {},
   "outputs": [
    {
     "name": "stdout",
     "output_type": "stream",
     "text": [
      "UNIQUE VALUES\n",
      "\n",
      "Clients Dataset\n"
     ]
    },
    {
     "data": {
      "application/vnd.microsoft.datawrangler.viewer.v0+json": {
       "columns": [
        {
         "name": "index",
         "rawType": "int64",
         "type": "integer"
        },
        {
         "name": "CLIENT_NAME",
         "rawType": "object",
         "type": "string"
        }
       ],
       "conversionMethod": "pd.DataFrame",
       "ref": "bcdbed8f-15e0-499a-9387-a0f75bf9b346",
       "rows": [
        [
         "0",
         "Accesstra"
        ],
        [
         "1",
         "AccuBank Industries"
        ],
        [
         "2",
         "AccuBuild Industries"
        ],
        [
         "3",
         "AccuPulse"
        ],
        [
         "4",
         "Accura Systems"
        ],
        [
         "5",
         "AccuSense"
        ],
        [
         "6",
         "AccuTech"
        ],
        [
         "7",
         "AccuVision"
        ],
        [
         "8",
         "Acme Corporation"
        ],
        [
         "9",
         "AcmeTech"
        ],
        [
         "10",
         "Acrylon"
        ],
        [
         "11",
         "Acuity Automation Solutions"
        ],
        [
         "12",
         "AdeptTech"
        ],
        [
         "13",
         "AdMakers Industrial"
        ],
        [
         "14",
         "Advanced Manufacturing"
        ],
        [
         "15",
         "AdvancedEndo"
        ],
        [
         "16",
         "AdvancedHealthTech"
        ],
        [
         "17",
         "AdVantage Solutions"
        ],
        [
         "18",
         "Advantech Machinery"
        ],
        [
         "19",
         "AdWorks Manufacturing"
        ],
        [
         "20",
         "AeroAdventures"
        ],
        [
         "21",
         "AeroCargo Solutions"
        ],
        [
         "22",
         "AeroChem"
        ],
        [
         "23",
         "AeroComposites"
        ],
        [
         "24",
         "AeroDrill Industries"
        ],
        [
         "25",
         "Aerodyne Tech"
        ],
        [
         "26",
         "AeroFab"
        ],
        [
         "27",
         "AeroForge"
        ],
        [
         "28",
         "AeroForge Corporation"
        ],
        [
         "29",
         "AeroFresh"
        ],
        [
         "30",
         "AeroGuard"
        ],
        [
         "31",
         "AeroHealth Systems"
        ],
        [
         "32",
         "AeroIndustries"
        ],
        [
         "33",
         "AeroLand"
        ],
        [
         "34",
         "AeroLeisure"
        ],
        [
         "35",
         "AeroLink Logistics"
        ],
        [
         "36",
         "AeroLogic"
        ],
        [
         "37",
         "AeroLogix"
        ],
        [
         "38",
         "AeroMech Industries"
        ],
        [
         "39",
         "AeroMed"
        ],
        [
         "40",
         "AeroMed Industries"
        ],
        [
         "41",
         "AeroMedical Devices"
        ],
        [
         "42",
         "AeroMetrix Industries"
        ],
        [
         "43",
         "AeroMotive Solutions"
        ],
        [
         "44",
         "AeroNet"
        ],
        [
         "45",
         "AeroPro"
        ],
        [
         "46",
         "AeroPulse Solutions"
        ],
        [
         "47",
         "Aerospace & Defense"
        ],
        [
         "48",
         "AeroSysTech"
        ],
        [
         "49",
         "AeroTech"
        ]
       ],
       "shape": {
        "columns": 1,
        "rows": 2646
       }
      },
      "text/html": [
       "<div>\n",
       "<style scoped>\n",
       "    .dataframe tbody tr th:only-of-type {\n",
       "        vertical-align: middle;\n",
       "    }\n",
       "\n",
       "    .dataframe tbody tr th {\n",
       "        vertical-align: top;\n",
       "    }\n",
       "\n",
       "    .dataframe thead th {\n",
       "        text-align: right;\n",
       "    }\n",
       "</style>\n",
       "<table border=\"1\" class=\"dataframe\">\n",
       "  <thead>\n",
       "    <tr style=\"text-align: right;\">\n",
       "      <th></th>\n",
       "      <th>CLIENT_NAME</th>\n",
       "    </tr>\n",
       "  </thead>\n",
       "  <tbody>\n",
       "    <tr>\n",
       "      <th>0</th>\n",
       "      <td>Accesstra</td>\n",
       "    </tr>\n",
       "    <tr>\n",
       "      <th>1</th>\n",
       "      <td>AccuBank Industries</td>\n",
       "    </tr>\n",
       "    <tr>\n",
       "      <th>2</th>\n",
       "      <td>AccuBuild Industries</td>\n",
       "    </tr>\n",
       "    <tr>\n",
       "      <th>3</th>\n",
       "      <td>AccuPulse</td>\n",
       "    </tr>\n",
       "    <tr>\n",
       "      <th>4</th>\n",
       "      <td>Accura Systems</td>\n",
       "    </tr>\n",
       "    <tr>\n",
       "      <th>...</th>\n",
       "      <td>...</td>\n",
       "    </tr>\n",
       "    <tr>\n",
       "      <th>2641</th>\n",
       "      <td>Zenith Zippers</td>\n",
       "    </tr>\n",
       "    <tr>\n",
       "      <th>2642</th>\n",
       "      <td>ZenithSoft</td>\n",
       "    </tr>\n",
       "    <tr>\n",
       "      <th>2643</th>\n",
       "      <td>ZenithWorks Industrial Systems</td>\n",
       "    </tr>\n",
       "    <tr>\n",
       "      <th>2644</th>\n",
       "      <td>Zentech Machines</td>\n",
       "    </tr>\n",
       "    <tr>\n",
       "      <th>2645</th>\n",
       "      <td>ZipCom</td>\n",
       "    </tr>\n",
       "  </tbody>\n",
       "</table>\n",
       "<p>2646 rows × 1 columns</p>\n",
       "</div>"
      ],
      "text/plain": [
       "                         CLIENT_NAME\n",
       "0                          Accesstra\n",
       "1                AccuBank Industries\n",
       "2               AccuBuild Industries\n",
       "3                          AccuPulse\n",
       "4                     Accura Systems\n",
       "...                              ...\n",
       "2641                  Zenith Zippers\n",
       "2642                      ZenithSoft\n",
       "2643  ZenithWorks Industrial Systems\n",
       "2644                Zentech Machines\n",
       "2645                          ZipCom\n",
       "\n",
       "[2646 rows x 1 columns]"
      ]
     },
     "metadata": {},
     "output_type": "display_data"
    },
    {
     "data": {
      "application/vnd.microsoft.datawrangler.viewer.v0+json": {
       "columns": [
        {
         "name": "index",
         "rawType": "int64",
         "type": "integer"
        },
        {
         "name": "WILDCARD",
         "rawType": "object",
         "type": "string"
        }
       ],
       "conversionMethod": "pd.DataFrame",
       "ref": "fdf0cfc8-4a46-4fd4-8ff4-495081683b15",
       "rows": [
        [
         "0",
         "Quality"
        ],
        [
         "1",
         "Deadline"
        ],
        [
         "2",
         "Price"
        ]
       ],
       "shape": {
        "columns": 1,
        "rows": 3
       }
      },
      "text/html": [
       "<div>\n",
       "<style scoped>\n",
       "    .dataframe tbody tr th:only-of-type {\n",
       "        vertical-align: middle;\n",
       "    }\n",
       "\n",
       "    .dataframe tbody tr th {\n",
       "        vertical-align: top;\n",
       "    }\n",
       "\n",
       "    .dataframe thead th {\n",
       "        text-align: right;\n",
       "    }\n",
       "</style>\n",
       "<table border=\"1\" class=\"dataframe\">\n",
       "  <thead>\n",
       "    <tr style=\"text-align: right;\">\n",
       "      <th></th>\n",
       "      <th>WILDCARD</th>\n",
       "    </tr>\n",
       "  </thead>\n",
       "  <tbody>\n",
       "    <tr>\n",
       "      <th>0</th>\n",
       "      <td>Quality</td>\n",
       "    </tr>\n",
       "    <tr>\n",
       "      <th>1</th>\n",
       "      <td>Deadline</td>\n",
       "    </tr>\n",
       "    <tr>\n",
       "      <th>2</th>\n",
       "      <td>Price</td>\n",
       "    </tr>\n",
       "  </tbody>\n",
       "</table>\n",
       "</div>"
      ],
      "text/plain": [
       "   WILDCARD\n",
       "0   Quality\n",
       "1  Deadline\n",
       "2     Price"
      ]
     },
     "metadata": {},
     "output_type": "display_data"
    },
    {
     "name": "stdout",
     "output_type": "stream",
     "text": [
      "\n",
      "Sample Dataset\n"
     ]
    },
    {
     "data": {
      "application/vnd.microsoft.datawrangler.viewer.v0+json": {
       "columns": [
        {
         "name": "index",
         "rawType": "int64",
         "type": "integer"
        },
        {
         "name": "TASK_TYPE",
         "rawType": "object",
         "type": "string"
        }
       ],
       "conversionMethod": "pd.DataFrame",
       "ref": "319ab545-44f7-4f9f-b44e-60c2272730e2",
       "rows": [
        [
         "0",
         "Engineering"
        ],
        [
         "1",
         "Management"
        ],
        [
         "2",
         "Miscellaneous"
        ],
        [
         "3",
         "Translation"
        ],
        [
         "4",
         "ProofReading"
        ],
        [
         "5",
         "DTP"
        ]
       ],
       "shape": {
        "columns": 1,
        "rows": 6
       }
      },
      "text/html": [
       "<div>\n",
       "<style scoped>\n",
       "    .dataframe tbody tr th:only-of-type {\n",
       "        vertical-align: middle;\n",
       "    }\n",
       "\n",
       "    .dataframe tbody tr th {\n",
       "        vertical-align: top;\n",
       "    }\n",
       "\n",
       "    .dataframe thead th {\n",
       "        text-align: right;\n",
       "    }\n",
       "</style>\n",
       "<table border=\"1\" class=\"dataframe\">\n",
       "  <thead>\n",
       "    <tr style=\"text-align: right;\">\n",
       "      <th></th>\n",
       "      <th>TASK_TYPE</th>\n",
       "    </tr>\n",
       "  </thead>\n",
       "  <tbody>\n",
       "    <tr>\n",
       "      <th>0</th>\n",
       "      <td>Engineering</td>\n",
       "    </tr>\n",
       "    <tr>\n",
       "      <th>1</th>\n",
       "      <td>Management</td>\n",
       "    </tr>\n",
       "    <tr>\n",
       "      <th>2</th>\n",
       "      <td>Miscellaneous</td>\n",
       "    </tr>\n",
       "    <tr>\n",
       "      <th>3</th>\n",
       "      <td>Translation</td>\n",
       "    </tr>\n",
       "    <tr>\n",
       "      <th>4</th>\n",
       "      <td>ProofReading</td>\n",
       "    </tr>\n",
       "    <tr>\n",
       "      <th>5</th>\n",
       "      <td>DTP</td>\n",
       "    </tr>\n",
       "  </tbody>\n",
       "</table>\n",
       "</div>"
      ],
      "text/plain": [
       "       TASK_TYPE\n",
       "0    Engineering\n",
       "1     Management\n",
       "2  Miscellaneous\n",
       "3    Translation\n",
       "4   ProofReading\n",
       "5            DTP"
      ]
     },
     "metadata": {},
     "output_type": "display_data"
    },
    {
     "data": {
      "application/vnd.microsoft.datawrangler.viewer.v0+json": {
       "columns": [
        {
         "name": "index",
         "rawType": "int64",
         "type": "integer"
        },
        {
         "name": "SOURCE_LANG",
         "rawType": "object",
         "type": "string"
        }
       ],
       "conversionMethod": "pd.DataFrame",
       "ref": "3b2948ae-8445-4dc1-820b-7f77d2bec9aa",
       "rows": [
        [
         "0",
         "English"
        ],
        [
         "1",
         "Catalan"
        ],
        [
         "2",
         "Spanish (Iberian)"
        ],
        [
         "3",
         "French"
        ],
        [
         "4",
         "German"
        ],
        [
         "5",
         "Spanish (Global)"
        ],
        [
         "6",
         "Dutch"
        ],
        [
         "7",
         "Italian"
        ],
        [
         "8",
         "Spanish (LA)"
        ],
        [
         "9",
         "Portuguese (Brazil)"
        ],
        [
         "10",
         "Galician"
        ]
       ],
       "shape": {
        "columns": 1,
        "rows": 11
       }
      },
      "text/html": [
       "<div>\n",
       "<style scoped>\n",
       "    .dataframe tbody tr th:only-of-type {\n",
       "        vertical-align: middle;\n",
       "    }\n",
       "\n",
       "    .dataframe tbody tr th {\n",
       "        vertical-align: top;\n",
       "    }\n",
       "\n",
       "    .dataframe thead th {\n",
       "        text-align: right;\n",
       "    }\n",
       "</style>\n",
       "<table border=\"1\" class=\"dataframe\">\n",
       "  <thead>\n",
       "    <tr style=\"text-align: right;\">\n",
       "      <th></th>\n",
       "      <th>SOURCE_LANG</th>\n",
       "    </tr>\n",
       "  </thead>\n",
       "  <tbody>\n",
       "    <tr>\n",
       "      <th>0</th>\n",
       "      <td>English</td>\n",
       "    </tr>\n",
       "    <tr>\n",
       "      <th>1</th>\n",
       "      <td>Catalan</td>\n",
       "    </tr>\n",
       "    <tr>\n",
       "      <th>2</th>\n",
       "      <td>Spanish (Iberian)</td>\n",
       "    </tr>\n",
       "    <tr>\n",
       "      <th>3</th>\n",
       "      <td>French</td>\n",
       "    </tr>\n",
       "    <tr>\n",
       "      <th>4</th>\n",
       "      <td>German</td>\n",
       "    </tr>\n",
       "    <tr>\n",
       "      <th>5</th>\n",
       "      <td>Spanish (Global)</td>\n",
       "    </tr>\n",
       "    <tr>\n",
       "      <th>6</th>\n",
       "      <td>Dutch</td>\n",
       "    </tr>\n",
       "    <tr>\n",
       "      <th>7</th>\n",
       "      <td>Italian</td>\n",
       "    </tr>\n",
       "    <tr>\n",
       "      <th>8</th>\n",
       "      <td>Spanish (LA)</td>\n",
       "    </tr>\n",
       "    <tr>\n",
       "      <th>9</th>\n",
       "      <td>Portuguese (Brazil)</td>\n",
       "    </tr>\n",
       "    <tr>\n",
       "      <th>10</th>\n",
       "      <td>Galician</td>\n",
       "    </tr>\n",
       "  </tbody>\n",
       "</table>\n",
       "</div>"
      ],
      "text/plain": [
       "            SOURCE_LANG\n",
       "0               English\n",
       "1               Catalan\n",
       "2     Spanish (Iberian)\n",
       "3                French\n",
       "4                German\n",
       "5      Spanish (Global)\n",
       "6                 Dutch\n",
       "7               Italian\n",
       "8          Spanish (LA)\n",
       "9   Portuguese (Brazil)\n",
       "10             Galician"
      ]
     },
     "metadata": {},
     "output_type": "display_data"
    },
    {
     "data": {
      "application/vnd.microsoft.datawrangler.viewer.v0+json": {
       "columns": [
        {
         "name": "index",
         "rawType": "int64",
         "type": "integer"
        },
        {
         "name": "TARGET_LANG",
         "rawType": "object",
         "type": "string"
        }
       ],
       "conversionMethod": "pd.DataFrame",
       "ref": "039ff87d-6a52-40ea-b1b3-f59328b2edeb",
       "rows": [
        [
         "0",
         "Portuguese (Brazil)"
        ],
        [
         "1",
         "Spanish (Iberian)"
        ],
        [
         "2",
         "Catalan"
        ],
        [
         "3",
         "Galician"
        ],
        [
         "4",
         "Spanish (Global)"
        ],
        [
         "5",
         "English"
        ],
        [
         "6",
         "Basque"
        ],
        [
         "7",
         "Spanish (LA)"
        ],
        [
         "8",
         "Portuguese (Iberian)"
        ],
        [
         "9",
         "French"
        ],
        [
         "10",
         "German"
        ],
        [
         "11",
         "Italian"
        ],
        [
         "12",
         "Arabic"
        ],
        [
         "13",
         "Romanian"
        ],
        [
         "14",
         "Russian"
        ],
        [
         "15",
         "Chinese (Simplified)"
        ],
        [
         "16",
         "Dutch"
        ],
        [
         "17",
         "Czech"
        ]
       ],
       "shape": {
        "columns": 1,
        "rows": 18
       }
      },
      "text/html": [
       "<div>\n",
       "<style scoped>\n",
       "    .dataframe tbody tr th:only-of-type {\n",
       "        vertical-align: middle;\n",
       "    }\n",
       "\n",
       "    .dataframe tbody tr th {\n",
       "        vertical-align: top;\n",
       "    }\n",
       "\n",
       "    .dataframe thead th {\n",
       "        text-align: right;\n",
       "    }\n",
       "</style>\n",
       "<table border=\"1\" class=\"dataframe\">\n",
       "  <thead>\n",
       "    <tr style=\"text-align: right;\">\n",
       "      <th></th>\n",
       "      <th>TARGET_LANG</th>\n",
       "    </tr>\n",
       "  </thead>\n",
       "  <tbody>\n",
       "    <tr>\n",
       "      <th>0</th>\n",
       "      <td>Portuguese (Brazil)</td>\n",
       "    </tr>\n",
       "    <tr>\n",
       "      <th>1</th>\n",
       "      <td>Spanish (Iberian)</td>\n",
       "    </tr>\n",
       "    <tr>\n",
       "      <th>2</th>\n",
       "      <td>Catalan</td>\n",
       "    </tr>\n",
       "    <tr>\n",
       "      <th>3</th>\n",
       "      <td>Galician</td>\n",
       "    </tr>\n",
       "    <tr>\n",
       "      <th>4</th>\n",
       "      <td>Spanish (Global)</td>\n",
       "    </tr>\n",
       "    <tr>\n",
       "      <th>5</th>\n",
       "      <td>English</td>\n",
       "    </tr>\n",
       "    <tr>\n",
       "      <th>6</th>\n",
       "      <td>Basque</td>\n",
       "    </tr>\n",
       "    <tr>\n",
       "      <th>7</th>\n",
       "      <td>Spanish (LA)</td>\n",
       "    </tr>\n",
       "    <tr>\n",
       "      <th>8</th>\n",
       "      <td>Portuguese (Iberian)</td>\n",
       "    </tr>\n",
       "    <tr>\n",
       "      <th>9</th>\n",
       "      <td>French</td>\n",
       "    </tr>\n",
       "    <tr>\n",
       "      <th>10</th>\n",
       "      <td>German</td>\n",
       "    </tr>\n",
       "    <tr>\n",
       "      <th>11</th>\n",
       "      <td>Italian</td>\n",
       "    </tr>\n",
       "    <tr>\n",
       "      <th>12</th>\n",
       "      <td>Arabic</td>\n",
       "    </tr>\n",
       "    <tr>\n",
       "      <th>13</th>\n",
       "      <td>Romanian</td>\n",
       "    </tr>\n",
       "    <tr>\n",
       "      <th>14</th>\n",
       "      <td>Russian</td>\n",
       "    </tr>\n",
       "    <tr>\n",
       "      <th>15</th>\n",
       "      <td>Chinese (Simplified)</td>\n",
       "    </tr>\n",
       "    <tr>\n",
       "      <th>16</th>\n",
       "      <td>Dutch</td>\n",
       "    </tr>\n",
       "    <tr>\n",
       "      <th>17</th>\n",
       "      <td>Czech</td>\n",
       "    </tr>\n",
       "  </tbody>\n",
       "</table>\n",
       "</div>"
      ],
      "text/plain": [
       "             TARGET_LANG\n",
       "0    Portuguese (Brazil)\n",
       "1      Spanish (Iberian)\n",
       "2                Catalan\n",
       "3               Galician\n",
       "4       Spanish (Global)\n",
       "5                English\n",
       "6                 Basque\n",
       "7           Spanish (LA)\n",
       "8   Portuguese (Iberian)\n",
       "9                 French\n",
       "10                German\n",
       "11               Italian\n",
       "12                Arabic\n",
       "13              Romanian\n",
       "14               Russian\n",
       "15  Chinese (Simplified)\n",
       "16                 Dutch\n",
       "17                 Czech"
      ]
     },
     "metadata": {},
     "output_type": "display_data"
    },
    {
     "data": {
      "application/vnd.microsoft.datawrangler.viewer.v0+json": {
       "columns": [
        {
         "name": "index",
         "rawType": "int64",
         "type": "integer"
        },
        {
         "name": "TRANSLATOR",
         "rawType": "object",
         "type": "string"
        }
       ],
       "conversionMethod": "pd.DataFrame",
       "ref": "8d75a32d-e0fd-4e81-a44b-8f4adf04c771",
       "rows": [
        [
         "0",
         "Estela"
        ],
        [
         "1",
         "Jeronimo"
        ],
        [
         "2",
         "Octavi"
        ],
        [
         "3",
         "Ramiro Josafat"
        ],
        [
         "4",
         "Victor"
        ],
        [
         "5",
         "Severino"
        ],
        [
         "6",
         "Pau"
        ],
        [
         "7",
         "Maria Alexandra"
        ],
        [
         "8",
         "Esteban Yoselin"
        ],
        [
         "9",
         "Felipe Aldana"
        ],
        [
         "10",
         "Ryan"
        ],
        [
         "11",
         "Bartolome"
        ],
        [
         "12",
         "Usula"
        ],
        [
         "13",
         "Almudena Fiamma"
        ],
        [
         "14",
         "Erico"
        ],
        [
         "15",
         "Luis Felipe"
        ],
        [
         "16",
         "Marti"
        ],
        [
         "17",
         "Pol"
        ],
        [
         "18",
         "Gala"
        ],
        [
         "19",
         "Ekain"
        ],
        [
         "20",
         "Markel"
        ],
        [
         "21",
         "Abdon Isaias"
        ],
        [
         "22",
         "Acacio Poncio"
        ],
        [
         "23",
         "Bernarda"
        ],
        [
         "24",
         "Salma Benedicto"
        ],
        [
         "25",
         "Ariadna Laurina"
        ],
        [
         "26",
         "Ivon Patricio"
        ],
        [
         "27",
         "Isaac"
        ],
        [
         "28",
         "Salma"
        ],
        [
         "29",
         "Valerio"
        ],
        [
         "30",
         "Nemesio Laureano"
        ],
        [
         "31",
         "Simon"
        ],
        [
         "32",
         "Basileo"
        ],
        [
         "33",
         "Sanson"
        ],
        [
         "34",
         "Juan Carlos"
        ],
        [
         "35",
         "Maximo Inmaculada"
        ],
        [
         "36",
         "Primo Almudena"
        ],
        [
         "37",
         "Victorino"
        ],
        [
         "38",
         "Agueda"
        ],
        [
         "39",
         "Salomon Kimberly"
        ],
        [
         "40",
         "Hildegarda Leonor"
        ],
        [
         "41",
         "Joshua"
        ],
        [
         "42",
         "Genoveva"
        ],
        [
         "43",
         "Gisela Ildefonso"
        ],
        [
         "44",
         "Alejo"
        ],
        [
         "45",
         "Guido"
        ],
        [
         "46",
         "Balduino"
        ],
        [
         "47",
         "German"
        ],
        [
         "48",
         "Sergi"
        ],
        [
         "49",
         "Aritza"
        ]
       ],
       "shape": {
        "columns": 1,
        "rows": 228
       }
      },
      "text/html": [
       "<div>\n",
       "<style scoped>\n",
       "    .dataframe tbody tr th:only-of-type {\n",
       "        vertical-align: middle;\n",
       "    }\n",
       "\n",
       "    .dataframe tbody tr th {\n",
       "        vertical-align: top;\n",
       "    }\n",
       "\n",
       "    .dataframe thead th {\n",
       "        text-align: right;\n",
       "    }\n",
       "</style>\n",
       "<table border=\"1\" class=\"dataframe\">\n",
       "  <thead>\n",
       "    <tr style=\"text-align: right;\">\n",
       "      <th></th>\n",
       "      <th>TRANSLATOR</th>\n",
       "    </tr>\n",
       "  </thead>\n",
       "  <tbody>\n",
       "    <tr>\n",
       "      <th>0</th>\n",
       "      <td>Estela</td>\n",
       "    </tr>\n",
       "    <tr>\n",
       "      <th>1</th>\n",
       "      <td>Jeronimo</td>\n",
       "    </tr>\n",
       "    <tr>\n",
       "      <th>2</th>\n",
       "      <td>Octavi</td>\n",
       "    </tr>\n",
       "    <tr>\n",
       "      <th>3</th>\n",
       "      <td>Ramiro Josafat</td>\n",
       "    </tr>\n",
       "    <tr>\n",
       "      <th>4</th>\n",
       "      <td>Victor</td>\n",
       "    </tr>\n",
       "    <tr>\n",
       "      <th>...</th>\n",
       "      <td>...</td>\n",
       "    </tr>\n",
       "    <tr>\n",
       "      <th>223</th>\n",
       "      <td>Gregorio Luis</td>\n",
       "    </tr>\n",
       "    <tr>\n",
       "      <th>224</th>\n",
       "      <td>Greta</td>\n",
       "    </tr>\n",
       "    <tr>\n",
       "      <th>225</th>\n",
       "      <td>Donato</td>\n",
       "    </tr>\n",
       "    <tr>\n",
       "      <th>226</th>\n",
       "      <td>Fiamma</td>\n",
       "    </tr>\n",
       "    <tr>\n",
       "      <th>227</th>\n",
       "      <td>Pedro Miguel</td>\n",
       "    </tr>\n",
       "  </tbody>\n",
       "</table>\n",
       "<p>228 rows × 1 columns</p>\n",
       "</div>"
      ],
      "text/plain": [
       "         TRANSLATOR\n",
       "0            Estela\n",
       "1          Jeronimo\n",
       "2            Octavi\n",
       "3    Ramiro Josafat\n",
       "4            Victor\n",
       "..              ...\n",
       "223   Gregorio Luis\n",
       "224           Greta\n",
       "225          Donato\n",
       "226          Fiamma\n",
       "227    Pedro Miguel\n",
       "\n",
       "[228 rows x 1 columns]"
      ]
     },
     "metadata": {},
     "output_type": "display_data"
    },
    {
     "data": {
      "application/vnd.microsoft.datawrangler.viewer.v0+json": {
       "columns": [
        {
         "name": "index",
         "rawType": "int64",
         "type": "integer"
        },
        {
         "name": "MANUFACTURER",
         "rawType": "object",
         "type": "string"
        }
       ],
       "conversionMethod": "pd.DataFrame",
       "ref": "411663c5-d580-4dad-85cd-ec97b08dca25",
       "rows": [
        [
         "0",
         "Coastal Cottage"
        ],
        [
         "1",
         "HealthyLife"
        ],
        [
         "2",
         "AeroSysTech"
        ],
        [
         "3",
         "MetaPro"
        ],
        [
         "4",
         "SunTech"
        ],
        [
         "5",
         "NexisOne"
        ],
        [
         "6",
         "Zenith Tires & Engineering"
        ],
        [
         "7",
         "DesarrolloYa"
        ],
        [
         "8",
         "QuantumLogic"
        ],
        [
         "9",
         "ZenithSoft"
        ],
        [
         "10",
         "Global Trading Solutions"
        ],
        [
         "11",
         "TruVision"
        ],
        [
         "12",
         "GenomicSolutions"
        ],
        [
         "13",
         "WaveMaster"
        ],
        [
         "14",
         "AeroIndustries"
        ],
        [
         "15",
         "MotorForge"
        ],
        [
         "16",
         "SkyBridge Technologies"
        ],
        [
         "17",
         "CatalystIndustries"
        ],
        [
         "18",
         "TrueConnect"
        ],
        [
         "19",
         "FrontierTech"
        ],
        [
         "20",
         "SolutionSavvy"
        ],
        [
         "21",
         "Zenith Semiconductors"
        ],
        [
         "22",
         "Hyperion Industries"
        ],
        [
         "23",
         "Moneylosing"
        ],
        [
         "24",
         "Askaden"
        ],
        [
         "25",
         "Cogent Innovations"
        ],
        [
         "26",
         "Flux Fuel"
        ],
        [
         "27",
         "AlphaTech Industrial Services"
        ],
        [
         "28",
         "EcoSolar"
        ],
        [
         "29",
         "IndustrialGenius"
        ],
        [
         "30",
         "PureWater"
        ],
        [
         "31",
         "RoboIndus"
        ],
        [
         "32",
         "HealthBridge Dynamics"
        ],
        [
         "33",
         "Nexus Software"
        ],
        [
         "34",
         "AllaHuAk"
        ],
        [
         "35",
         "PixelWave"
        ],
        [
         "36",
         "Equipronix"
        ],
        [
         "37",
         "NexiGen"
        ],
        [
         "38",
         "CyberTronics"
        ],
        [
         "39",
         "FabricatePro"
        ],
        [
         "40",
         "CommuniLink"
        ],
        [
         "41",
         "TechForge"
        ],
        [
         "42",
         "ElementalTech"
        ],
        [
         "43",
         "SignalWave"
        ],
        [
         "44",
         "TechCity"
        ],
        [
         "45",
         "TelestoTech"
        ],
        [
         "46",
         "Modern Millworks"
        ],
        [
         "47",
         "ProgramaYa"
        ],
        [
         "48",
         "Quantum Processing Technologies"
        ],
        [
         "49",
         "Synthet"
        ]
       ],
       "shape": {
        "columns": 1,
        "rows": 250
       }
      },
      "text/html": [
       "<div>\n",
       "<style scoped>\n",
       "    .dataframe tbody tr th:only-of-type {\n",
       "        vertical-align: middle;\n",
       "    }\n",
       "\n",
       "    .dataframe tbody tr th {\n",
       "        vertical-align: top;\n",
       "    }\n",
       "\n",
       "    .dataframe thead th {\n",
       "        text-align: right;\n",
       "    }\n",
       "</style>\n",
       "<table border=\"1\" class=\"dataframe\">\n",
       "  <thead>\n",
       "    <tr style=\"text-align: right;\">\n",
       "      <th></th>\n",
       "      <th>MANUFACTURER</th>\n",
       "    </tr>\n",
       "  </thead>\n",
       "  <tbody>\n",
       "    <tr>\n",
       "      <th>0</th>\n",
       "      <td>Coastal Cottage</td>\n",
       "    </tr>\n",
       "    <tr>\n",
       "      <th>1</th>\n",
       "      <td>HealthyLife</td>\n",
       "    </tr>\n",
       "    <tr>\n",
       "      <th>2</th>\n",
       "      <td>AeroSysTech</td>\n",
       "    </tr>\n",
       "    <tr>\n",
       "      <th>3</th>\n",
       "      <td>MetaPro</td>\n",
       "    </tr>\n",
       "    <tr>\n",
       "      <th>4</th>\n",
       "      <td>SunTech</td>\n",
       "    </tr>\n",
       "    <tr>\n",
       "      <th>...</th>\n",
       "      <td>...</td>\n",
       "    </tr>\n",
       "    <tr>\n",
       "      <th>245</th>\n",
       "      <td>VidaCore Biotech</td>\n",
       "    </tr>\n",
       "    <tr>\n",
       "      <th>246</th>\n",
       "      <td>NexaPharm</td>\n",
       "    </tr>\n",
       "    <tr>\n",
       "      <th>247</th>\n",
       "      <td>ProximaMed</td>\n",
       "    </tr>\n",
       "    <tr>\n",
       "      <th>248</th>\n",
       "      <td>Workhorse Industries</td>\n",
       "    </tr>\n",
       "    <tr>\n",
       "      <th>249</th>\n",
       "      <td>CareGenius Corp.</td>\n",
       "    </tr>\n",
       "  </tbody>\n",
       "</table>\n",
       "<p>250 rows × 1 columns</p>\n",
       "</div>"
      ],
      "text/plain": [
       "             MANUFACTURER\n",
       "0         Coastal Cottage\n",
       "1             HealthyLife\n",
       "2             AeroSysTech\n",
       "3                 MetaPro\n",
       "4                 SunTech\n",
       "..                    ...\n",
       "245      VidaCore Biotech\n",
       "246             NexaPharm\n",
       "247            ProximaMed\n",
       "248  Workhorse Industries\n",
       "249      CareGenius Corp.\n",
       "\n",
       "[250 rows x 1 columns]"
      ]
     },
     "metadata": {},
     "output_type": "display_data"
    },
    {
     "data": {
      "application/vnd.microsoft.datawrangler.viewer.v0+json": {
       "columns": [
        {
         "name": "index",
         "rawType": "int64",
         "type": "integer"
        },
        {
         "name": "MANUFACTURER_SECTOR",
         "rawType": "object",
         "type": "string"
        }
       ],
       "conversionMethod": "pd.DataFrame",
       "ref": "9aac4a0a-9d08-422e-9c97-2e765cea6dce",
       "rows": [
        [
         "0",
         "Consumer Discretionary"
        ],
        [
         "1",
         "Health Care"
        ],
        [
         "2",
         "Information Technology"
        ],
        [
         "3",
         "Industrials"
        ],
        [
         "4",
         "Technology Hardware"
        ],
        [
         "5",
         "Consumer Staples"
        ],
        [
         "6",
         "Communication Services"
        ],
        [
         "7",
         "Utilities"
        ],
        [
         "8",
         "Materials"
        ],
        [
         "9",
         "Financials"
        ],
        [
         "10",
         "Consumer Goods"
        ],
        [
         "11",
         "Commercial Services"
        ],
        [
         "12",
         "Technology"
        ],
        [
         "13",
         "Public Institution"
        ]
       ],
       "shape": {
        "columns": 1,
        "rows": 14
       }
      },
      "text/html": [
       "<div>\n",
       "<style scoped>\n",
       "    .dataframe tbody tr th:only-of-type {\n",
       "        vertical-align: middle;\n",
       "    }\n",
       "\n",
       "    .dataframe tbody tr th {\n",
       "        vertical-align: top;\n",
       "    }\n",
       "\n",
       "    .dataframe thead th {\n",
       "        text-align: right;\n",
       "    }\n",
       "</style>\n",
       "<table border=\"1\" class=\"dataframe\">\n",
       "  <thead>\n",
       "    <tr style=\"text-align: right;\">\n",
       "      <th></th>\n",
       "      <th>MANUFACTURER_SECTOR</th>\n",
       "    </tr>\n",
       "  </thead>\n",
       "  <tbody>\n",
       "    <tr>\n",
       "      <th>0</th>\n",
       "      <td>Consumer Discretionary</td>\n",
       "    </tr>\n",
       "    <tr>\n",
       "      <th>1</th>\n",
       "      <td>Health Care</td>\n",
       "    </tr>\n",
       "    <tr>\n",
       "      <th>2</th>\n",
       "      <td>Information Technology</td>\n",
       "    </tr>\n",
       "    <tr>\n",
       "      <th>3</th>\n",
       "      <td>Industrials</td>\n",
       "    </tr>\n",
       "    <tr>\n",
       "      <th>4</th>\n",
       "      <td>Technology Hardware</td>\n",
       "    </tr>\n",
       "    <tr>\n",
       "      <th>5</th>\n",
       "      <td>Consumer Staples</td>\n",
       "    </tr>\n",
       "    <tr>\n",
       "      <th>6</th>\n",
       "      <td>Communication Services</td>\n",
       "    </tr>\n",
       "    <tr>\n",
       "      <th>7</th>\n",
       "      <td>Utilities</td>\n",
       "    </tr>\n",
       "    <tr>\n",
       "      <th>8</th>\n",
       "      <td>Materials</td>\n",
       "    </tr>\n",
       "    <tr>\n",
       "      <th>9</th>\n",
       "      <td>Financials</td>\n",
       "    </tr>\n",
       "    <tr>\n",
       "      <th>10</th>\n",
       "      <td>Consumer Goods</td>\n",
       "    </tr>\n",
       "    <tr>\n",
       "      <th>11</th>\n",
       "      <td>Commercial Services</td>\n",
       "    </tr>\n",
       "    <tr>\n",
       "      <th>12</th>\n",
       "      <td>Technology</td>\n",
       "    </tr>\n",
       "    <tr>\n",
       "      <th>13</th>\n",
       "      <td>Public Institution</td>\n",
       "    </tr>\n",
       "  </tbody>\n",
       "</table>\n",
       "</div>"
      ],
      "text/plain": [
       "       MANUFACTURER_SECTOR\n",
       "0   Consumer Discretionary\n",
       "1              Health Care\n",
       "2   Information Technology\n",
       "3              Industrials\n",
       "4      Technology Hardware\n",
       "5         Consumer Staples\n",
       "6   Communication Services\n",
       "7                Utilities\n",
       "8                Materials\n",
       "9               Financials\n",
       "10          Consumer Goods\n",
       "11     Commercial Services\n",
       "12              Technology\n",
       "13      Public Institution"
      ]
     },
     "metadata": {},
     "output_type": "display_data"
    },
    {
     "data": {
      "application/vnd.microsoft.datawrangler.viewer.v0+json": {
       "columns": [
        {
         "name": "index",
         "rawType": "int64",
         "type": "integer"
        },
        {
         "name": "MANUFACTURER_INDUSTRY_GROUP",
         "rawType": "object",
         "type": "string"
        }
       ],
       "conversionMethod": "pd.DataFrame",
       "ref": "a37c1c82-d52d-4f24-8e4d-e310b6896893",
       "rows": [
        [
         "0",
         "Consumer Services"
        ],
        [
         "1",
         "Health Care Providers"
        ],
        [
         "2",
         "Software & Services"
        ],
        [
         "3",
         "Electrical Equipment"
        ],
        [
         "4",
         "Technology Hardware & Equipment"
        ],
        [
         "5",
         "Technology"
        ],
        [
         "6",
         "Tobacco"
        ],
        [
         "7",
         "Capital Goods"
        ],
        [
         "8",
         "Retailing"
        ],
        [
         "9",
         "Biotechnology"
        ],
        [
         "10",
         "Communications Equipment"
        ],
        [
         "11",
         "Automobiles & Components"
        ],
        [
         "12",
         "Interactive Media & Services"
        ],
        [
         "13",
         "Semiconductors & Semiconductor Equipment"
        ],
        [
         "14",
         "Media"
        ],
        [
         "15",
         "Electronic Equipment, Instruments & Components"
        ],
        [
         "16",
         "Renewable Utilities"
        ],
        [
         "17",
         "Health Care Providers & Services"
        ],
        [
         "18",
         "Wireless Telecommunication Services"
        ],
        [
         "19",
         "Health Care Equipment & Services"
        ],
        [
         "20",
         "Leisure Products"
        ],
        [
         "21",
         "Health Care Equipment & Supplies"
        ],
        [
         "22",
         "Technology Hardware, Storage & Peripherals"
        ],
        [
         "23",
         "Media & Entertainment"
        ],
        [
         "24",
         "Communication Services"
        ],
        [
         "25",
         "Entertainment"
        ],
        [
         "26",
         "Diversified Telecommunication Services"
        ],
        [
         "27",
         "Semiconductors & Semiconductor"
        ],
        [
         "28",
         "Industrial Machinery"
        ],
        [
         "29",
         "Technology Hardware & Equip"
        ],
        [
         "30",
         "Industrial Conglomerates"
        ],
        [
         "31",
         "Pharmaceuticals"
        ],
        [
         "32",
         "Commercial Services & Supplies"
        ],
        [
         "33",
         "Aerospace & Defense"
        ],
        [
         "34",
         "Health Care Technology Services"
        ],
        [
         "35",
         "Materials"
        ],
        [
         "36",
         "Machinery"
        ],
        [
         "37",
         "Food & Staples Retailing"
        ],
        [
         "38",
         "Software"
        ],
        [
         "39",
         "Capital Markets"
        ],
        [
         "40",
         "Health Care Equipment"
        ],
        [
         "41",
         "Household & Personal Products"
        ],
        [
         "42",
         "Transportation"
        ],
        [
         "43",
         "Commercial & Professional Services"
        ],
        [
         "44",
         "Insurance"
        ],
        [
         "45",
         "Automobiles"
        ],
        [
         "46",
         "Textiles, Apparel & Luxury Goods"
        ],
        [
         "47",
         "Diversified Financials"
        ],
        [
         "48",
         "Food, Beverage & Tobacco"
        ],
        [
         "49",
         "Software & Svcs"
        ]
       ],
       "shape": {
        "columns": 1,
        "rows": 70
       }
      },
      "text/html": [
       "<div>\n",
       "<style scoped>\n",
       "    .dataframe tbody tr th:only-of-type {\n",
       "        vertical-align: middle;\n",
       "    }\n",
       "\n",
       "    .dataframe tbody tr th {\n",
       "        vertical-align: top;\n",
       "    }\n",
       "\n",
       "    .dataframe thead th {\n",
       "        text-align: right;\n",
       "    }\n",
       "</style>\n",
       "<table border=\"1\" class=\"dataframe\">\n",
       "  <thead>\n",
       "    <tr style=\"text-align: right;\">\n",
       "      <th></th>\n",
       "      <th>MANUFACTURER_INDUSTRY_GROUP</th>\n",
       "    </tr>\n",
       "  </thead>\n",
       "  <tbody>\n",
       "    <tr>\n",
       "      <th>0</th>\n",
       "      <td>Consumer Services</td>\n",
       "    </tr>\n",
       "    <tr>\n",
       "      <th>1</th>\n",
       "      <td>Health Care Providers</td>\n",
       "    </tr>\n",
       "    <tr>\n",
       "      <th>2</th>\n",
       "      <td>Software &amp; Services</td>\n",
       "    </tr>\n",
       "    <tr>\n",
       "      <th>3</th>\n",
       "      <td>Electrical Equipment</td>\n",
       "    </tr>\n",
       "    <tr>\n",
       "      <th>4</th>\n",
       "      <td>Technology Hardware &amp; Equipment</td>\n",
       "    </tr>\n",
       "    <tr>\n",
       "      <th>...</th>\n",
       "      <td>...</td>\n",
       "    </tr>\n",
       "    <tr>\n",
       "      <th>65</th>\n",
       "      <td>Public Fundation</td>\n",
       "    </tr>\n",
       "    <tr>\n",
       "      <th>66</th>\n",
       "      <td>IT Services</td>\n",
       "    </tr>\n",
       "    <tr>\n",
       "      <th>67</th>\n",
       "      <td>Health Care Equipment &amp; Svcs.</td>\n",
       "    </tr>\n",
       "    <tr>\n",
       "      <th>68</th>\n",
       "      <td>Internet &amp; Direct Marketing Retail</td>\n",
       "    </tr>\n",
       "    <tr>\n",
       "      <th>69</th>\n",
       "      <td>Health Care Equipment &amp; Sup</td>\n",
       "    </tr>\n",
       "  </tbody>\n",
       "</table>\n",
       "<p>70 rows × 1 columns</p>\n",
       "</div>"
      ],
      "text/plain": [
       "           MANUFACTURER_INDUSTRY_GROUP\n",
       "0                    Consumer Services\n",
       "1                Health Care Providers\n",
       "2                  Software & Services\n",
       "3                 Electrical Equipment\n",
       "4      Technology Hardware & Equipment\n",
       "..                                 ...\n",
       "65                    Public Fundation\n",
       "66                         IT Services\n",
       "67       Health Care Equipment & Svcs.\n",
       "68  Internet & Direct Marketing Retail\n",
       "69         Health Care Equipment & Sup\n",
       "\n",
       "[70 rows x 1 columns]"
      ]
     },
     "metadata": {},
     "output_type": "display_data"
    },
    {
     "data": {
      "application/vnd.microsoft.datawrangler.viewer.v0+json": {
       "columns": [
        {
         "name": "index",
         "rawType": "int64",
         "type": "integer"
        },
        {
         "name": "MANUFACTURER_INDUSTRY",
         "rawType": "object",
         "type": "string"
        }
       ],
       "conversionMethod": "pd.DataFrame",
       "ref": "66cc2b61-ab4e-4a68-9b9d-152dbdd1457e",
       "rows": [
        [
         "0",
         "Hotels, Restaurants & Leisure"
        ],
        [
         "1",
         "Health Care Facilities"
        ],
        [
         "2",
         "Application Software"
        ],
        [
         "3",
         "Electrical Components & Equipment"
        ],
        [
         "4",
         "Technology Hardware, Storage & Peripherals"
        ],
        [
         "5",
         "Tobacco"
        ],
        [
         "6",
         "Systems Software"
        ],
        [
         "7",
         "Trading Companies & Distributors"
        ],
        [
         "8",
         "Internet & Direct Marketing Retail"
        ],
        [
         "9",
         "Biotechnology"
        ],
        [
         "10",
         "Communications Equipment"
        ],
        [
         "11",
         "Automobiles"
        ],
        [
         "12",
         "Aerospace & Defense"
        ],
        [
         "13",
         "Internet Services & Infrastructure"
        ],
        [
         "14",
         "Software"
        ],
        [
         "15",
         "Semiconductors & Semiconductor Equipment"
        ],
        [
         "16",
         "Publishing"
        ],
        [
         "17",
         "Casinos & Gaming"
        ],
        [
         "18",
         "Electronic Equipment"
        ],
        [
         "19",
         "Machinery"
        ],
        [
         "20",
         "Internet Software & Services"
        ],
        [
         "21",
         "Renewable Electricity"
        ],
        [
         "22",
         "Health Care Services"
        ],
        [
         "23",
         "Health Care Equipment"
        ],
        [
         "24",
         "Leisure Products"
        ],
        [
         "25",
         "Interactive Media & Services"
        ],
        [
         "26",
         "Industrial Machinery"
        ],
        [
         "27",
         "Integrated Telecommunication Services"
        ],
        [
         "28",
         "Specialty Retail"
        ],
        [
         "29",
         "Computer Hardware"
        ],
        [
         "30",
         "Semiconductors"
        ],
        [
         "31",
         "IT Services"
        ],
        [
         "32",
         "Distributors"
        ],
        [
         "33",
         "Auto Components"
        ],
        [
         "34",
         "Industrial Conglomerates"
        ],
        [
         "35",
         "Pharmaceuticals"
        ],
        [
         "36",
         "Office Services & Supplies"
        ],
        [
         "37",
         "Health Care Technology Services"
        ],
        [
         "38",
         "Containers & Packaging"
        ],
        [
         "39",
         "Food Retail"
        ],
        [
         "40",
         "Asset Management & Custody Banks"
        ],
        [
         "41",
         "Metals"
        ],
        [
         "42",
         "Health Care Equipment & Supplies"
        ],
        [
         "43",
         "Household Products"
        ],
        [
         "44",
         "Commercial Services & Supplies"
        ],
        [
         "45",
         "Diversified Consumer Services"
        ],
        [
         "46",
         "Air Freight & Logistics"
        ],
        [
         "47",
         "Internet Services & Products"
        ],
        [
         "48",
         "Electronic Equipment & Instruments"
        ],
        [
         "49",
         "Electrical Equipment"
        ]
       ],
       "shape": {
        "columns": 1,
        "rows": 85
       }
      },
      "text/html": [
       "<div>\n",
       "<style scoped>\n",
       "    .dataframe tbody tr th:only-of-type {\n",
       "        vertical-align: middle;\n",
       "    }\n",
       "\n",
       "    .dataframe tbody tr th {\n",
       "        vertical-align: top;\n",
       "    }\n",
       "\n",
       "    .dataframe thead th {\n",
       "        text-align: right;\n",
       "    }\n",
       "</style>\n",
       "<table border=\"1\" class=\"dataframe\">\n",
       "  <thead>\n",
       "    <tr style=\"text-align: right;\">\n",
       "      <th></th>\n",
       "      <th>MANUFACTURER_INDUSTRY</th>\n",
       "    </tr>\n",
       "  </thead>\n",
       "  <tbody>\n",
       "    <tr>\n",
       "      <th>0</th>\n",
       "      <td>Hotels, Restaurants &amp; Leisure</td>\n",
       "    </tr>\n",
       "    <tr>\n",
       "      <th>1</th>\n",
       "      <td>Health Care Facilities</td>\n",
       "    </tr>\n",
       "    <tr>\n",
       "      <th>2</th>\n",
       "      <td>Application Software</td>\n",
       "    </tr>\n",
       "    <tr>\n",
       "      <th>3</th>\n",
       "      <td>Electrical Components &amp; Equipment</td>\n",
       "    </tr>\n",
       "    <tr>\n",
       "      <th>4</th>\n",
       "      <td>Technology Hardware, Storage &amp; Peripherals</td>\n",
       "    </tr>\n",
       "    <tr>\n",
       "      <th>...</th>\n",
       "      <td>...</td>\n",
       "    </tr>\n",
       "    <tr>\n",
       "      <th>80</th>\n",
       "      <td>Public Fundation</td>\n",
       "    </tr>\n",
       "    <tr>\n",
       "      <th>81</th>\n",
       "      <td>Broadcasting &amp; Cable TV</td>\n",
       "    </tr>\n",
       "    <tr>\n",
       "      <th>82</th>\n",
       "      <td>IT Consulting &amp; Other Services</td>\n",
       "    </tr>\n",
       "    <tr>\n",
       "      <th>83</th>\n",
       "      <td>Health Care Providers &amp; Services</td>\n",
       "    </tr>\n",
       "    <tr>\n",
       "      <th>84</th>\n",
       "      <td>Internet Retail</td>\n",
       "    </tr>\n",
       "  </tbody>\n",
       "</table>\n",
       "<p>85 rows × 1 columns</p>\n",
       "</div>"
      ],
      "text/plain": [
       "                         MANUFACTURER_INDUSTRY\n",
       "0                Hotels, Restaurants & Leisure\n",
       "1                       Health Care Facilities\n",
       "2                         Application Software\n",
       "3            Electrical Components & Equipment\n",
       "4   Technology Hardware, Storage & Peripherals\n",
       "..                                         ...\n",
       "80                            Public Fundation\n",
       "81                     Broadcasting & Cable TV\n",
       "82              IT Consulting & Other Services\n",
       "83            Health Care Providers & Services\n",
       "84                             Internet Retail\n",
       "\n",
       "[85 rows x 1 columns]"
      ]
     },
     "metadata": {},
     "output_type": "display_data"
    },
    {
     "data": {
      "application/vnd.microsoft.datawrangler.viewer.v0+json": {
       "columns": [
        {
         "name": "index",
         "rawType": "int64",
         "type": "integer"
        },
        {
         "name": "MANUFACTURER_SUBINDUSTRY",
         "rawType": "object",
         "type": "string"
        }
       ],
       "conversionMethod": "pd.DataFrame",
       "ref": "f794ebc9-82db-4c4c-9c8f-ba60ed0237e7",
       "rows": [
        [
         "0",
         "Hotels, Resorts & Cruise Lines"
        ],
        [
         "1",
         "Long-Term Care Facilities"
        ],
        [
         "2",
         "Systems Software"
        ],
        [
         "3",
         "Electrical Components & Equipment"
        ],
        [
         "4",
         "Technology Hardware, Storage & Peripherals"
        ],
        [
         "5",
         "Tobacco"
        ],
        [
         "6",
         "Trading Companies & Distributors"
        ],
        [
         "7",
         "Internet & Direct Marketing Retail Retailing"
        ],
        [
         "8",
         "Biotechnology Health Care"
        ],
        [
         "9",
         "Communications Equipment"
        ],
        [
         "10",
         "Automobile Manufacturers"
        ],
        [
         "11",
         "Aerospace & Defense"
        ],
        [
         "12",
         "Internet Services & Infrastructure"
        ],
        [
         "13",
         "Application Software"
        ],
        [
         "14",
         "Semiconductors & Semiconductor Equipment"
        ],
        [
         "15",
         "Publishing"
        ],
        [
         "16",
         "Casinos & Gaming Consumer Services"
        ],
        [
         "17",
         "Electronic Equipment"
        ],
        [
         "18",
         "Industrial Machinery"
        ],
        [
         "19",
         "Internet Software & Services"
        ],
        [
         "20",
         "Solar"
        ],
        [
         "21",
         "Health Care Services"
        ],
        [
         "22",
         "Health Care Equipment"
        ],
        [
         "23",
         "Leisure Products"
        ],
        [
         "24",
         "Interactive Media & Services"
        ],
        [
         "25",
         "Interactive Home Entertainment"
        ],
        [
         "26",
         "Integrated Telecommunication Services"
        ],
        [
         "27",
         "Homefurnishing Retail"
        ],
        [
         "28",
         "Computer Storage & Peripherals"
        ],
        [
         "29",
         "Semiconductors"
        ],
        [
         "30",
         "IT Consulting & Other Services"
        ],
        [
         "31",
         "Distributors"
        ],
        [
         "32",
         "Biotechnology"
        ],
        [
         "33",
         "Auto Parts & Equipment"
        ],
        [
         "34",
         "Industrial Conglomerates"
        ],
        [
         "35",
         "Pharmaceuticals"
        ],
        [
         "36",
         "Office Services & Supplies"
        ],
        [
         "37",
         "Health Care Supplies"
        ],
        [
         "38",
         "Health Care Technology Services"
        ],
        [
         "39",
         "Metal & Glass Containers"
        ],
        [
         "40",
         "Food Retail"
        ],
        [
         "41",
         "Asset Management & Custody Banks"
        ],
        [
         "42",
         "Steel"
        ],
        [
         "43",
         "Specialty Stores"
        ],
        [
         "44",
         "Household Products"
        ],
        [
         "45",
         "Education Services"
        ],
        [
         "46",
         "Air Freight & Logistics"
        ],
        [
         "47",
         "Diversified Support Services"
        ],
        [
         "48",
         "Electronic Equipment & Instruments Manufacturing"
        ],
        [
         "49",
         "Property & Casualty Insurance"
        ]
       ],
       "shape": {
        "columns": 1,
        "rows": 92
       }
      },
      "text/html": [
       "<div>\n",
       "<style scoped>\n",
       "    .dataframe tbody tr th:only-of-type {\n",
       "        vertical-align: middle;\n",
       "    }\n",
       "\n",
       "    .dataframe tbody tr th {\n",
       "        vertical-align: top;\n",
       "    }\n",
       "\n",
       "    .dataframe thead th {\n",
       "        text-align: right;\n",
       "    }\n",
       "</style>\n",
       "<table border=\"1\" class=\"dataframe\">\n",
       "  <thead>\n",
       "    <tr style=\"text-align: right;\">\n",
       "      <th></th>\n",
       "      <th>MANUFACTURER_SUBINDUSTRY</th>\n",
       "    </tr>\n",
       "  </thead>\n",
       "  <tbody>\n",
       "    <tr>\n",
       "      <th>0</th>\n",
       "      <td>Hotels, Resorts &amp; Cruise Lines</td>\n",
       "    </tr>\n",
       "    <tr>\n",
       "      <th>1</th>\n",
       "      <td>Long-Term Care Facilities</td>\n",
       "    </tr>\n",
       "    <tr>\n",
       "      <th>2</th>\n",
       "      <td>Systems Software</td>\n",
       "    </tr>\n",
       "    <tr>\n",
       "      <th>3</th>\n",
       "      <td>Electrical Components &amp; Equipment</td>\n",
       "    </tr>\n",
       "    <tr>\n",
       "      <th>4</th>\n",
       "      <td>Technology Hardware, Storage &amp; Peripherals</td>\n",
       "    </tr>\n",
       "    <tr>\n",
       "      <th>...</th>\n",
       "      <td>...</td>\n",
       "    </tr>\n",
       "    <tr>\n",
       "      <th>87</th>\n",
       "      <td>Capital Markets</td>\n",
       "    </tr>\n",
       "    <tr>\n",
       "      <th>88</th>\n",
       "      <td>Health Care Providers &amp; Services</td>\n",
       "    </tr>\n",
       "    <tr>\n",
       "      <th>89</th>\n",
       "      <td>Internet Retail</td>\n",
       "    </tr>\n",
       "    <tr>\n",
       "      <th>90</th>\n",
       "      <td>Tissue, Paper &amp; Forest Products</td>\n",
       "    </tr>\n",
       "    <tr>\n",
       "      <th>91</th>\n",
       "      <td>Medical Devices &amp; Equipment</td>\n",
       "    </tr>\n",
       "  </tbody>\n",
       "</table>\n",
       "<p>92 rows × 1 columns</p>\n",
       "</div>"
      ],
      "text/plain": [
       "                      MANUFACTURER_SUBINDUSTRY\n",
       "0               Hotels, Resorts & Cruise Lines\n",
       "1                    Long-Term Care Facilities\n",
       "2                             Systems Software\n",
       "3            Electrical Components & Equipment\n",
       "4   Technology Hardware, Storage & Peripherals\n",
       "..                                         ...\n",
       "87                             Capital Markets\n",
       "88            Health Care Providers & Services\n",
       "89                             Internet Retail\n",
       "90             Tissue, Paper & Forest Products\n",
       "91                 Medical Devices & Equipment\n",
       "\n",
       "[92 rows x 1 columns]"
      ]
     },
     "metadata": {},
     "output_type": "display_data"
    },
    {
     "name": "stdout",
     "output_type": "stream",
     "text": [
      "\n",
      "Schedules Dataset\n"
     ]
    },
    {
     "data": {
      "application/vnd.microsoft.datawrangler.viewer.v0+json": {
       "columns": [
        {
         "name": "index",
         "rawType": "int64",
         "type": "integer"
        },
        {
         "name": "NAME",
         "rawType": "object",
         "type": "string"
        }
       ],
       "conversionMethod": "pd.DataFrame",
       "ref": "918b0c52-b640-4800-9a4b-ba771a4914c9",
       "rows": [
        [
         "0",
         "Abigail"
        ],
        [
         "1",
         "Abelardo"
        ],
        [
         "2",
         "Margarita"
        ],
        [
         "3",
         "Davide"
        ],
        [
         "4",
         "Paul"
        ],
        [
         "5",
         "Sabine"
        ],
        [
         "6",
         "Alessandro"
        ],
        [
         "7",
         "Daiana Rosario"
        ],
        [
         "8",
         "Francisco Jose"
        ],
        [
         "9",
         "Carles"
        ],
        [
         "10",
         "Connor"
        ],
        [
         "11",
         "John"
        ],
        [
         "12",
         "Ambrosia Adon"
        ],
        [
         "13",
         "Vidal"
        ],
        [
         "14",
         "Celine"
        ],
        [
         "15",
         "Charlotte"
        ],
        [
         "16",
         "Fausto"
        ],
        [
         "17",
         "Ethan"
        ],
        [
         "18",
         "Dario"
        ],
        [
         "19",
         "Marie"
        ],
        [
         "20",
         "Martina"
        ],
        [
         "21",
         "Gianluigi"
        ],
        [
         "22",
         "Emil"
        ],
        [
         "23",
         "Armando"
        ],
        [
         "24",
         "Ana Belen"
        ],
        [
         "25",
         "Kristina"
        ],
        [
         "26",
         "Pau"
        ],
        [
         "27",
         "Adam"
        ],
        [
         "28",
         "Ascension"
        ],
        [
         "29",
         "Vinicius"
        ],
        [
         "30",
         "Bartosz"
        ],
        [
         "31",
         "Olga"
        ],
        [
         "32",
         "Amelie"
        ],
        [
         "33",
         "Laureano Facundo"
        ],
        [
         "34",
         "Xoana"
        ],
        [
         "35",
         "Luc"
        ],
        [
         "36",
         "Aino"
        ],
        [
         "37",
         "Rafaela"
        ],
        [
         "38",
         "Juan Carlos"
        ],
        [
         "39",
         "Guillermo"
        ],
        [
         "40",
         "Olivia"
        ],
        [
         "41",
         "Pio Pio"
        ],
        [
         "42",
         "Ester"
        ],
        [
         "43",
         "Isaias Venancio"
        ],
        [
         "44",
         "Pol"
        ],
        [
         "45",
         "Antoine"
        ],
        [
         "46",
         "Isaac"
        ],
        [
         "47",
         "James"
        ],
        [
         "48",
         "Ramiro Josafat"
        ],
        [
         "49",
         "Severino"
        ]
       ],
       "shape": {
        "columns": 1,
        "rows": 983
       }
      },
      "text/html": [
       "<div>\n",
       "<style scoped>\n",
       "    .dataframe tbody tr th:only-of-type {\n",
       "        vertical-align: middle;\n",
       "    }\n",
       "\n",
       "    .dataframe tbody tr th {\n",
       "        vertical-align: top;\n",
       "    }\n",
       "\n",
       "    .dataframe thead th {\n",
       "        text-align: right;\n",
       "    }\n",
       "</style>\n",
       "<table border=\"1\" class=\"dataframe\">\n",
       "  <thead>\n",
       "    <tr style=\"text-align: right;\">\n",
       "      <th></th>\n",
       "      <th>NAME</th>\n",
       "    </tr>\n",
       "  </thead>\n",
       "  <tbody>\n",
       "    <tr>\n",
       "      <th>0</th>\n",
       "      <td>Abigail</td>\n",
       "    </tr>\n",
       "    <tr>\n",
       "      <th>1</th>\n",
       "      <td>Abelardo</td>\n",
       "    </tr>\n",
       "    <tr>\n",
       "      <th>2</th>\n",
       "      <td>Margarita</td>\n",
       "    </tr>\n",
       "    <tr>\n",
       "      <th>3</th>\n",
       "      <td>Davide</td>\n",
       "    </tr>\n",
       "    <tr>\n",
       "      <th>4</th>\n",
       "      <td>Paul</td>\n",
       "    </tr>\n",
       "    <tr>\n",
       "      <th>...</th>\n",
       "      <td>...</td>\n",
       "    </tr>\n",
       "    <tr>\n",
       "      <th>978</th>\n",
       "      <td>Genoveva</td>\n",
       "    </tr>\n",
       "    <tr>\n",
       "      <th>979</th>\n",
       "      <td>Sergi</td>\n",
       "    </tr>\n",
       "    <tr>\n",
       "      <th>980</th>\n",
       "      <td>Acolmiztli</td>\n",
       "    </tr>\n",
       "    <tr>\n",
       "      <th>981</th>\n",
       "      <td>Ana Clara</td>\n",
       "    </tr>\n",
       "    <tr>\n",
       "      <th>982</th>\n",
       "      <td>Arami</td>\n",
       "    </tr>\n",
       "  </tbody>\n",
       "</table>\n",
       "<p>983 rows × 1 columns</p>\n",
       "</div>"
      ],
      "text/plain": [
       "           NAME\n",
       "0       Abigail\n",
       "1      Abelardo\n",
       "2     Margarita\n",
       "3        Davide\n",
       "4          Paul\n",
       "..          ...\n",
       "978    Genoveva\n",
       "979       Sergi\n",
       "980  Acolmiztli\n",
       "981   Ana Clara\n",
       "982       Arami\n",
       "\n",
       "[983 rows x 1 columns]"
      ]
     },
     "metadata": {},
     "output_type": "display_data"
    },
    {
     "name": "stdout",
     "output_type": "stream",
     "text": [
      "\n",
      "Translators Dataset\n"
     ]
    },
    {
     "data": {
      "application/vnd.microsoft.datawrangler.viewer.v0+json": {
       "columns": [
        {
         "name": "index",
         "rawType": "int64",
         "type": "integer"
        },
        {
         "name": "TRANSLATOR",
         "rawType": "object",
         "type": "string"
        }
       ],
       "conversionMethod": "pd.DataFrame",
       "ref": "2f0ed835-633b-4ad2-8d58-0e0e8aecf4cb",
       "rows": [
        [
         "0",
         "Aaron"
        ],
        [
         "1",
         "Abdon"
        ],
        [
         "2",
         "Abdon Isaias"
        ],
        [
         "3",
         "Abdon Luis"
        ],
        [
         "4",
         "Abel Irene"
        ],
        [
         "5",
         "Abelardo"
        ],
        [
         "6",
         "Abigail"
        ],
        [
         "7",
         "Abraham Alejo"
        ],
        [
         "8",
         "Abril"
        ],
        [
         "9",
         "Acacio Cayetano"
        ],
        [
         "10",
         "Acacio Montserrat"
        ],
        [
         "11",
         "Acacio Poncio"
        ],
        [
         "12",
         "Acolmiztli"
        ],
        [
         "13",
         "Adalberto"
        ],
        [
         "14",
         "Adalberto Anatolio"
        ],
        [
         "15",
         "Adam"
        ],
        [
         "16",
         "Adan"
        ],
        [
         "17",
         "Addison"
        ],
        [
         "18",
         "Adela"
        ],
        [
         "19",
         "Adela Esteban"
        ],
        [
         "20",
         "Adele"
        ],
        [
         "21",
         "Adelia"
        ],
        [
         "22",
         "Adrien"
        ],
        [
         "23",
         "Agathe"
        ],
        [
         "24",
         "Ager"
        ],
        [
         "25",
         "Agostinho"
        ],
        [
         "26",
         "Agueda"
        ],
        [
         "27",
         "Agustina"
        ],
        [
         "28",
         "Agustina Greta"
        ],
        [
         "29",
         "Aide"
        ],
        [
         "30",
         "Aide Matias"
        ],
        [
         "31",
         "Aina"
        ],
        [
         "32",
         "Ainhoa"
        ],
        [
         "33",
         "Aino"
        ],
        [
         "34",
         "Aisha"
        ],
        [
         "35",
         "Aitor"
        ],
        [
         "36",
         "Akira"
        ],
        [
         "37",
         "Akos"
        ],
        [
         "38",
         "Akseli"
        ],
        [
         "39",
         "Alain"
        ],
        [
         "40",
         "Alba"
        ],
        [
         "41",
         "Alban"
        ],
        [
         "42",
         "Albina Adan"
        ],
        [
         "43",
         "Aldara"
        ],
        [
         "44",
         "Alejandria"
        ],
        [
         "45",
         "Alejandria Itzel"
        ],
        [
         "46",
         "Alejandria Leon"
        ],
        [
         "47",
         "Alejandro"
        ],
        [
         "48",
         "Alejo"
        ],
        [
         "49",
         "Alejo Esdras"
        ]
       ],
       "shape": {
        "columns": 1,
        "rows": 983
       }
      },
      "text/html": [
       "<div>\n",
       "<style scoped>\n",
       "    .dataframe tbody tr th:only-of-type {\n",
       "        vertical-align: middle;\n",
       "    }\n",
       "\n",
       "    .dataframe tbody tr th {\n",
       "        vertical-align: top;\n",
       "    }\n",
       "\n",
       "    .dataframe thead th {\n",
       "        text-align: right;\n",
       "    }\n",
       "</style>\n",
       "<table border=\"1\" class=\"dataframe\">\n",
       "  <thead>\n",
       "    <tr style=\"text-align: right;\">\n",
       "      <th></th>\n",
       "      <th>TRANSLATOR</th>\n",
       "    </tr>\n",
       "  </thead>\n",
       "  <tbody>\n",
       "    <tr>\n",
       "      <th>0</th>\n",
       "      <td>Aaron</td>\n",
       "    </tr>\n",
       "    <tr>\n",
       "      <th>1</th>\n",
       "      <td>Abdon</td>\n",
       "    </tr>\n",
       "    <tr>\n",
       "      <th>2</th>\n",
       "      <td>Abdon Isaias</td>\n",
       "    </tr>\n",
       "    <tr>\n",
       "      <th>3</th>\n",
       "      <td>Abdon Luis</td>\n",
       "    </tr>\n",
       "    <tr>\n",
       "      <th>4</th>\n",
       "      <td>Abel Irene</td>\n",
       "    </tr>\n",
       "    <tr>\n",
       "      <th>...</th>\n",
       "      <td>...</td>\n",
       "    </tr>\n",
       "    <tr>\n",
       "      <th>978</th>\n",
       "      <td>Zacarias Casio</td>\n",
       "    </tr>\n",
       "    <tr>\n",
       "      <th>979</th>\n",
       "      <td>Zacarias Marcelino</td>\n",
       "    </tr>\n",
       "    <tr>\n",
       "      <th>980</th>\n",
       "      <td>Zachary</td>\n",
       "    </tr>\n",
       "    <tr>\n",
       "      <th>981</th>\n",
       "      <td>Zlatan</td>\n",
       "    </tr>\n",
       "    <tr>\n",
       "      <th>982</th>\n",
       "      <td>Zlatko</td>\n",
       "    </tr>\n",
       "  </tbody>\n",
       "</table>\n",
       "<p>983 rows × 1 columns</p>\n",
       "</div>"
      ],
      "text/plain": [
       "             TRANSLATOR\n",
       "0                 Aaron\n",
       "1                 Abdon\n",
       "2          Abdon Isaias\n",
       "3            Abdon Luis\n",
       "4            Abel Irene\n",
       "..                  ...\n",
       "978      Zacarias Casio\n",
       "979  Zacarias Marcelino\n",
       "980             Zachary\n",
       "981              Zlatan\n",
       "982              Zlatko\n",
       "\n",
       "[983 rows x 1 columns]"
      ]
     },
     "metadata": {},
     "output_type": "display_data"
    },
    {
     "data": {
      "application/vnd.microsoft.datawrangler.viewer.v0+json": {
       "columns": [
        {
         "name": "index",
         "rawType": "int64",
         "type": "integer"
        },
        {
         "name": "SOURCE_LANG",
         "rawType": "object",
         "type": "string"
        }
       ],
       "conversionMethod": "pd.DataFrame",
       "ref": "b1677103-bd51-440c-a756-0ce157872317",
       "rows": [
        [
         "0",
         "English"
        ],
        [
         "1",
         "French"
        ],
        [
         "2",
         "German"
        ],
        [
         "3",
         "Italian"
        ],
        [
         "4",
         "Catalan"
        ],
        [
         "5",
         "Spanish (Global)"
        ],
        [
         "6",
         "Spanish (Iberian)"
        ],
        [
         "7",
         "Spanish (LA)"
        ],
        [
         "8",
         "Dutch"
        ],
        [
         "9",
         "English (UK)"
        ],
        [
         "10",
         "English (US)"
        ],
        [
         "11",
         "Korean"
        ],
        [
         "12",
         "Polish"
        ],
        [
         "13",
         "Portuguese (Iberian)"
        ],
        [
         "14",
         "Galician"
        ],
        [
         "15",
         "Portuguese (Brazil)"
        ],
        [
         "16",
         "Portuguese (SOURCE)"
        ],
        [
         "17",
         "Danish"
        ],
        [
         "18",
         "Greek"
        ],
        [
         "19",
         "Swedish"
        ],
        [
         "20",
         "Spanish (Mexico)"
        ],
        [
         "21",
         "Afrikaans"
        ],
        [
         "22",
         "Estonian"
        ],
        [
         "23",
         "Norwegian"
        ],
        [
         "24",
         "Russian"
        ],
        [
         "25",
         "Basque"
        ],
        [
         "26",
         "Spanish (SOURCE)"
        ],
        [
         "27",
         "Chinese (Simplified)"
        ],
        [
         "28",
         "Japanese"
        ],
        [
         "29",
         "Slovak"
        ],
        [
         "30",
         "Guaraní"
        ],
        [
         "31",
         "Arabic"
        ],
        [
         "32",
         "Finnish"
        ],
        [
         "33",
         "French (Canadian)"
        ],
        [
         "34",
         "Quiche"
        ],
        [
         "35",
         "Czech"
        ],
        [
         "36",
         "Aymara"
        ],
        [
         "37",
         "Quechua"
        ],
        [
         "38",
         "Persian"
        ],
        [
         "39",
         "Qeqchi"
        ]
       ],
       "shape": {
        "columns": 1,
        "rows": 40
       }
      },
      "text/html": [
       "<div>\n",
       "<style scoped>\n",
       "    .dataframe tbody tr th:only-of-type {\n",
       "        vertical-align: middle;\n",
       "    }\n",
       "\n",
       "    .dataframe tbody tr th {\n",
       "        vertical-align: top;\n",
       "    }\n",
       "\n",
       "    .dataframe thead th {\n",
       "        text-align: right;\n",
       "    }\n",
       "</style>\n",
       "<table border=\"1\" class=\"dataframe\">\n",
       "  <thead>\n",
       "    <tr style=\"text-align: right;\">\n",
       "      <th></th>\n",
       "      <th>SOURCE_LANG</th>\n",
       "    </tr>\n",
       "  </thead>\n",
       "  <tbody>\n",
       "    <tr>\n",
       "      <th>0</th>\n",
       "      <td>English</td>\n",
       "    </tr>\n",
       "    <tr>\n",
       "      <th>1</th>\n",
       "      <td>French</td>\n",
       "    </tr>\n",
       "    <tr>\n",
       "      <th>2</th>\n",
       "      <td>German</td>\n",
       "    </tr>\n",
       "    <tr>\n",
       "      <th>3</th>\n",
       "      <td>Italian</td>\n",
       "    </tr>\n",
       "    <tr>\n",
       "      <th>4</th>\n",
       "      <td>Catalan</td>\n",
       "    </tr>\n",
       "    <tr>\n",
       "      <th>5</th>\n",
       "      <td>Spanish (Global)</td>\n",
       "    </tr>\n",
       "    <tr>\n",
       "      <th>6</th>\n",
       "      <td>Spanish (Iberian)</td>\n",
       "    </tr>\n",
       "    <tr>\n",
       "      <th>7</th>\n",
       "      <td>Spanish (LA)</td>\n",
       "    </tr>\n",
       "    <tr>\n",
       "      <th>8</th>\n",
       "      <td>Dutch</td>\n",
       "    </tr>\n",
       "    <tr>\n",
       "      <th>9</th>\n",
       "      <td>English (UK)</td>\n",
       "    </tr>\n",
       "    <tr>\n",
       "      <th>10</th>\n",
       "      <td>English (US)</td>\n",
       "    </tr>\n",
       "    <tr>\n",
       "      <th>11</th>\n",
       "      <td>Korean</td>\n",
       "    </tr>\n",
       "    <tr>\n",
       "      <th>12</th>\n",
       "      <td>Polish</td>\n",
       "    </tr>\n",
       "    <tr>\n",
       "      <th>13</th>\n",
       "      <td>Portuguese (Iberian)</td>\n",
       "    </tr>\n",
       "    <tr>\n",
       "      <th>14</th>\n",
       "      <td>Galician</td>\n",
       "    </tr>\n",
       "    <tr>\n",
       "      <th>15</th>\n",
       "      <td>Portuguese (Brazil)</td>\n",
       "    </tr>\n",
       "    <tr>\n",
       "      <th>16</th>\n",
       "      <td>Portuguese (SOURCE)</td>\n",
       "    </tr>\n",
       "    <tr>\n",
       "      <th>17</th>\n",
       "      <td>Danish</td>\n",
       "    </tr>\n",
       "    <tr>\n",
       "      <th>18</th>\n",
       "      <td>Greek</td>\n",
       "    </tr>\n",
       "    <tr>\n",
       "      <th>19</th>\n",
       "      <td>Swedish</td>\n",
       "    </tr>\n",
       "    <tr>\n",
       "      <th>20</th>\n",
       "      <td>Spanish (Mexico)</td>\n",
       "    </tr>\n",
       "    <tr>\n",
       "      <th>21</th>\n",
       "      <td>Afrikaans</td>\n",
       "    </tr>\n",
       "    <tr>\n",
       "      <th>22</th>\n",
       "      <td>Estonian</td>\n",
       "    </tr>\n",
       "    <tr>\n",
       "      <th>23</th>\n",
       "      <td>Norwegian</td>\n",
       "    </tr>\n",
       "    <tr>\n",
       "      <th>24</th>\n",
       "      <td>Russian</td>\n",
       "    </tr>\n",
       "    <tr>\n",
       "      <th>25</th>\n",
       "      <td>Basque</td>\n",
       "    </tr>\n",
       "    <tr>\n",
       "      <th>26</th>\n",
       "      <td>Spanish (SOURCE)</td>\n",
       "    </tr>\n",
       "    <tr>\n",
       "      <th>27</th>\n",
       "      <td>Chinese (Simplified)</td>\n",
       "    </tr>\n",
       "    <tr>\n",
       "      <th>28</th>\n",
       "      <td>Japanese</td>\n",
       "    </tr>\n",
       "    <tr>\n",
       "      <th>29</th>\n",
       "      <td>Slovak</td>\n",
       "    </tr>\n",
       "    <tr>\n",
       "      <th>30</th>\n",
       "      <td>Guaraní</td>\n",
       "    </tr>\n",
       "    <tr>\n",
       "      <th>31</th>\n",
       "      <td>Arabic</td>\n",
       "    </tr>\n",
       "    <tr>\n",
       "      <th>32</th>\n",
       "      <td>Finnish</td>\n",
       "    </tr>\n",
       "    <tr>\n",
       "      <th>33</th>\n",
       "      <td>French (Canadian)</td>\n",
       "    </tr>\n",
       "    <tr>\n",
       "      <th>34</th>\n",
       "      <td>Quiche</td>\n",
       "    </tr>\n",
       "    <tr>\n",
       "      <th>35</th>\n",
       "      <td>Czech</td>\n",
       "    </tr>\n",
       "    <tr>\n",
       "      <th>36</th>\n",
       "      <td>Aymara</td>\n",
       "    </tr>\n",
       "    <tr>\n",
       "      <th>37</th>\n",
       "      <td>Quechua</td>\n",
       "    </tr>\n",
       "    <tr>\n",
       "      <th>38</th>\n",
       "      <td>Persian</td>\n",
       "    </tr>\n",
       "    <tr>\n",
       "      <th>39</th>\n",
       "      <td>Qeqchi</td>\n",
       "    </tr>\n",
       "  </tbody>\n",
       "</table>\n",
       "</div>"
      ],
      "text/plain": [
       "             SOURCE_LANG\n",
       "0                English\n",
       "1                 French\n",
       "2                 German\n",
       "3                Italian\n",
       "4                Catalan\n",
       "5       Spanish (Global)\n",
       "6      Spanish (Iberian)\n",
       "7           Spanish (LA)\n",
       "8                  Dutch\n",
       "9           English (UK)\n",
       "10          English (US)\n",
       "11                Korean\n",
       "12                Polish\n",
       "13  Portuguese (Iberian)\n",
       "14              Galician\n",
       "15   Portuguese (Brazil)\n",
       "16   Portuguese (SOURCE)\n",
       "17                Danish\n",
       "18                 Greek\n",
       "19               Swedish\n",
       "20      Spanish (Mexico)\n",
       "21             Afrikaans\n",
       "22              Estonian\n",
       "23             Norwegian\n",
       "24               Russian\n",
       "25                Basque\n",
       "26      Spanish (SOURCE)\n",
       "27  Chinese (Simplified)\n",
       "28              Japanese\n",
       "29                Slovak\n",
       "30               Guaraní\n",
       "31                Arabic\n",
       "32               Finnish\n",
       "33     French (Canadian)\n",
       "34                Quiche\n",
       "35                 Czech\n",
       "36                Aymara\n",
       "37               Quechua\n",
       "38               Persian\n",
       "39                Qeqchi"
      ]
     },
     "metadata": {},
     "output_type": "display_data"
    },
    {
     "data": {
      "application/vnd.microsoft.datawrangler.viewer.v0+json": {
       "columns": [
        {
         "name": "index",
         "rawType": "int64",
         "type": "integer"
        },
        {
         "name": "TARGET_LANG",
         "rawType": "object",
         "type": "string"
        }
       ],
       "conversionMethod": "pd.DataFrame",
       "ref": "aa377d1e-74b0-44e6-a7fa-629bb10789cc",
       "rows": [
        [
         "0",
         "Basque"
        ],
        [
         "1",
         "Catalan"
        ],
        [
         "2",
         "Galician"
        ],
        [
         "3",
         "German"
        ],
        [
         "4",
         "Portuguese (Brazil)"
        ],
        [
         "5",
         "Portuguese (Iberian)"
        ],
        [
         "6",
         "Spanish (Global)"
        ],
        [
         "7",
         "Spanish (Iberian)"
        ],
        [
         "8",
         "Spanish (LA)"
        ],
        [
         "9",
         "French (Morocco)"
        ],
        [
         "10",
         "English"
        ],
        [
         "11",
         "English (UK)"
        ],
        [
         "12",
         "Bulgarian"
        ],
        [
         "13",
         "Chinese (Simplified)"
        ],
        [
         "14",
         "Czech"
        ],
        [
         "15",
         "Finnish"
        ],
        [
         "16",
         "French"
        ],
        [
         "17",
         "Greek"
        ],
        [
         "18",
         "Hebrew"
        ],
        [
         "19",
         "Hindi"
        ],
        [
         "20",
         "Hungarian"
        ],
        [
         "21",
         "Italian"
        ],
        [
         "22",
         "Japanese"
        ],
        [
         "23",
         "Korean"
        ],
        [
         "24",
         "Polish"
        ],
        [
         "25",
         "Romanian"
        ],
        [
         "26",
         "Russian"
        ],
        [
         "27",
         "Slovak"
        ],
        [
         "28",
         "Spanish (US)"
        ],
        [
         "29",
         "Swedish"
        ],
        [
         "30",
         "Urdu"
        ],
        [
         "31",
         "English (US)"
        ],
        [
         "32",
         "Dutch"
        ],
        [
         "33",
         "French (Canadian)"
        ],
        [
         "34",
         "Norwegian"
        ],
        [
         "35",
         "Valencian"
        ],
        [
         "36",
         "Spanish (Argentina)"
        ],
        [
         "37",
         "Nahuatl"
        ],
        [
         "38",
         "Spanish (Mexico)"
        ],
        [
         "39",
         "Danish"
        ],
        [
         "40",
         "Flemish"
        ],
        [
         "41",
         "Latvian"
        ],
        [
         "42",
         "Lithuanian"
        ],
        [
         "43",
         "Maltese"
        ],
        [
         "44",
         "French (Switzerland)"
        ],
        [
         "45",
         "Arabic"
        ],
        [
         "46",
         "Azeri"
        ],
        [
         "47",
         "Belorussian"
        ],
        [
         "48",
         "Chinese(Traditional)"
        ],
        [
         "49",
         "Indonesian"
        ]
       ],
       "shape": {
        "columns": 1,
        "rows": 80
       }
      },
      "text/html": [
       "<div>\n",
       "<style scoped>\n",
       "    .dataframe tbody tr th:only-of-type {\n",
       "        vertical-align: middle;\n",
       "    }\n",
       "\n",
       "    .dataframe tbody tr th {\n",
       "        vertical-align: top;\n",
       "    }\n",
       "\n",
       "    .dataframe thead th {\n",
       "        text-align: right;\n",
       "    }\n",
       "</style>\n",
       "<table border=\"1\" class=\"dataframe\">\n",
       "  <thead>\n",
       "    <tr style=\"text-align: right;\">\n",
       "      <th></th>\n",
       "      <th>TARGET_LANG</th>\n",
       "    </tr>\n",
       "  </thead>\n",
       "  <tbody>\n",
       "    <tr>\n",
       "      <th>0</th>\n",
       "      <td>Basque</td>\n",
       "    </tr>\n",
       "    <tr>\n",
       "      <th>1</th>\n",
       "      <td>Catalan</td>\n",
       "    </tr>\n",
       "    <tr>\n",
       "      <th>2</th>\n",
       "      <td>Galician</td>\n",
       "    </tr>\n",
       "    <tr>\n",
       "      <th>3</th>\n",
       "      <td>German</td>\n",
       "    </tr>\n",
       "    <tr>\n",
       "      <th>4</th>\n",
       "      <td>Portuguese (Brazil)</td>\n",
       "    </tr>\n",
       "    <tr>\n",
       "      <th>...</th>\n",
       "      <td>...</td>\n",
       "    </tr>\n",
       "    <tr>\n",
       "      <th>75</th>\n",
       "      <td>Qeqchi</td>\n",
       "    </tr>\n",
       "    <tr>\n",
       "      <th>76</th>\n",
       "      <td>Fulah</td>\n",
       "    </tr>\n",
       "    <tr>\n",
       "      <th>77</th>\n",
       "      <td>Scottish</td>\n",
       "    </tr>\n",
       "    <tr>\n",
       "      <th>78</th>\n",
       "      <td>German (Switzerland)</td>\n",
       "    </tr>\n",
       "    <tr>\n",
       "      <th>79</th>\n",
       "      <td>Asturian</td>\n",
       "    </tr>\n",
       "  </tbody>\n",
       "</table>\n",
       "<p>80 rows × 1 columns</p>\n",
       "</div>"
      ],
      "text/plain": [
       "             TARGET_LANG\n",
       "0                 Basque\n",
       "1                Catalan\n",
       "2               Galician\n",
       "3                 German\n",
       "4    Portuguese (Brazil)\n",
       "..                   ...\n",
       "75                Qeqchi\n",
       "76                 Fulah\n",
       "77              Scottish\n",
       "78  German (Switzerland)\n",
       "79              Asturian\n",
       "\n",
       "[80 rows x 1 columns]"
      ]
     },
     "metadata": {},
     "output_type": "display_data"
    },
    {
     "data": {
      "application/vnd.microsoft.datawrangler.viewer.v0+json": {
       "columns": [
        {
         "name": "index",
         "rawType": "int64",
         "type": "integer"
        },
        {
         "name": "HOURLY_RATE",
         "rawType": "int64",
         "type": "integer"
        }
       ],
       "conversionMethod": "pd.DataFrame",
       "ref": "e01d5b5b-61f2-4d21-bd95-60c18d821535",
       "rows": [
        [
         "0",
         "27"
        ],
        [
         "1",
         "17"
        ],
        [
         "2",
         "20"
        ],
        [
         "3",
         "32"
        ],
        [
         "4",
         "21"
        ],
        [
         "5",
         "18"
        ],
        [
         "6",
         "14"
        ],
        [
         "7",
         "19"
        ],
        [
         "8",
         "25"
        ],
        [
         "9",
         "24"
        ],
        [
         "10",
         "16"
        ],
        [
         "11",
         "13"
        ],
        [
         "12",
         "15"
        ],
        [
         "13",
         "23"
        ],
        [
         "14",
         "35"
        ],
        [
         "15",
         "22"
        ],
        [
         "16",
         "30"
        ],
        [
         "17",
         "40"
        ],
        [
         "18",
         "33"
        ],
        [
         "19",
         "26"
        ],
        [
         "20",
         "50"
        ],
        [
         "21",
         "41"
        ],
        [
         "22",
         "49"
        ],
        [
         "23",
         "48"
        ],
        [
         "24",
         "29"
        ],
        [
         "25",
         "34"
        ],
        [
         "26",
         "28"
        ],
        [
         "27",
         "37"
        ],
        [
         "28",
         "38"
        ],
        [
         "29",
         "36"
        ],
        [
         "30",
         "31"
        ],
        [
         "31",
         "11"
        ],
        [
         "32",
         "12"
        ],
        [
         "33",
         "9"
        ],
        [
         "34",
         "10"
        ],
        [
         "35",
         "44"
        ],
        [
         "36",
         "58"
        ],
        [
         "37",
         "46"
        ],
        [
         "38",
         "39"
        ],
        [
         "39",
         "57"
        ],
        [
         "40",
         "43"
        ],
        [
         "41",
         "52"
        ],
        [
         "42",
         "45"
        ],
        [
         "43",
         "59"
        ],
        [
         "44",
         "60"
        ],
        [
         "45",
         "53"
        ],
        [
         "46",
         "54"
        ],
        [
         "47",
         "47"
        ],
        [
         "48",
         "42"
        ],
        [
         "49",
         "62"
        ]
       ],
       "shape": {
        "columns": 1,
        "rows": 54
       }
      },
      "text/html": [
       "<div>\n",
       "<style scoped>\n",
       "    .dataframe tbody tr th:only-of-type {\n",
       "        vertical-align: middle;\n",
       "    }\n",
       "\n",
       "    .dataframe tbody tr th {\n",
       "        vertical-align: top;\n",
       "    }\n",
       "\n",
       "    .dataframe thead th {\n",
       "        text-align: right;\n",
       "    }\n",
       "</style>\n",
       "<table border=\"1\" class=\"dataframe\">\n",
       "  <thead>\n",
       "    <tr style=\"text-align: right;\">\n",
       "      <th></th>\n",
       "      <th>HOURLY_RATE</th>\n",
       "    </tr>\n",
       "  </thead>\n",
       "  <tbody>\n",
       "    <tr>\n",
       "      <th>0</th>\n",
       "      <td>27</td>\n",
       "    </tr>\n",
       "    <tr>\n",
       "      <th>1</th>\n",
       "      <td>17</td>\n",
       "    </tr>\n",
       "    <tr>\n",
       "      <th>2</th>\n",
       "      <td>20</td>\n",
       "    </tr>\n",
       "    <tr>\n",
       "      <th>3</th>\n",
       "      <td>32</td>\n",
       "    </tr>\n",
       "    <tr>\n",
       "      <th>4</th>\n",
       "      <td>21</td>\n",
       "    </tr>\n",
       "    <tr>\n",
       "      <th>...</th>\n",
       "      <td>...</td>\n",
       "    </tr>\n",
       "    <tr>\n",
       "      <th>49</th>\n",
       "      <td>62</td>\n",
       "    </tr>\n",
       "    <tr>\n",
       "      <th>50</th>\n",
       "      <td>8</td>\n",
       "    </tr>\n",
       "    <tr>\n",
       "      <th>51</th>\n",
       "      <td>55</td>\n",
       "    </tr>\n",
       "    <tr>\n",
       "      <th>52</th>\n",
       "      <td>51</td>\n",
       "    </tr>\n",
       "    <tr>\n",
       "      <th>53</th>\n",
       "      <td>56</td>\n",
       "    </tr>\n",
       "  </tbody>\n",
       "</table>\n",
       "<p>54 rows × 1 columns</p>\n",
       "</div>"
      ],
      "text/plain": [
       "    HOURLY_RATE\n",
       "0            27\n",
       "1            17\n",
       "2            20\n",
       "3            32\n",
       "4            21\n",
       "..          ...\n",
       "49           62\n",
       "50            8\n",
       "51           55\n",
       "52           51\n",
       "53           56\n",
       "\n",
       "[54 rows x 1 columns]"
      ]
     },
     "metadata": {},
     "output_type": "display_data"
    },
    {
     "name": "stdout",
     "output_type": "stream",
     "text": [
      "\n"
     ]
    }
   ],
   "source": [
    "print(\"UNIQUE VALUES\")\n",
    "print()\n",
    "\n",
    "# Unique values for each column in each DataFrame\n",
    "unique_values = {}\n",
    "\n",
    "for name, df in tuples_df.items():\n",
    "    unique_values[name] = get_unique_values(df[cols_useful[name]])   \n",
    "\n",
    "for name, values in unique_values.items():\n",
    "    print(f\"{name} Dataset\")\n",
    "    for col, unique_vals in values.items():\n",
    "        display(pd.DataFrame({col: unique_vals}))\n",
    "    print()"
   ]
  },
  {
   "cell_type": "markdown",
   "metadata": {},
   "source": [
    "#### CSV Clients"
   ]
  },
  {
   "cell_type": "code",
   "execution_count": 186,
   "metadata": {},
   "outputs": [
    {
     "name": "stdout",
     "output_type": "stream",
     "text": [
      "Number of unique clients: 2646\n"
     ]
    }
   ],
   "source": [
    "print(f\"Number of unique clients: {clients_df['CLIENT_NAME'].nunique()}\")"
   ]
  },
  {
   "cell_type": "code",
   "execution_count": 187,
   "metadata": {},
   "outputs": [
    {
     "data": {
      "image/png": "[encoded data removed]",
      "text/plain": [
       "<Figure size 1200x500 with 2 Axes>"
      ]
     },
     "metadata": {},
     "output_type": "display_data"
    }
   ],
   "source": [
    "# Distribution - Selling prices & Minimum quality requirements\n",
    "plt.figure(figsize=(12, 5))\n",
    "\n",
    "plt.subplot(1, 2, 1)\n",
    "sns.histplot(clients_df[\"SELLING_HOURLY_PRICE\"], kde=True)\n",
    "plt.title(\"Distribution of Selling Hourly Prices\")\n",
    "plt.xlabel(\"Price\")\n",
    "plt.ylabel(\"Count\")\n",
    "\n",
    "plt.subplot(1, 2, 2)\n",
    "sns.histplot(clients_df[\"MIN_QUALITY\"], kde=True)\n",
    "plt.title(\"Distribution of Minimum Quality Requirements\")\n",
    "plt.xlabel(\"Minimum Quality\")\n",
    "plt.ylabel(\"Count\")\n",
    "\n",
    "plt.tight_layout()\n",
    "plt.show()"
   ]
  },
  {
   "cell_type": "code",
   "execution_count": 188,
   "metadata": {},
   "outputs": [
    {
     "data": {
      "image/png": "[encoded data removed]",
      "text/plain": [
       "<Figure size 1000x600 with 1 Axes>"
      ]
     },
     "metadata": {},
     "output_type": "display_data"
    }
   ],
   "source": [
    "# Analyze relationship - Selling price & Minimum quality\n",
    "plt.figure(figsize=(10, 6))\n",
    "sns.scatterplot(x=\"MIN_QUALITY\", y=\"SELLING_HOURLY_PRICE\", data=clients_df)\n",
    "plt.title(\"Relationship between Minimum Quality and Selling Price\")\n",
    "plt.xlabel(\"Minimum Quality\")\n",
    "plt.ylabel(\"Selling Hourly Price\")\n",
    "plt.show()"
   ]
  },
  {
   "cell_type": "markdown",
   "metadata": {},
   "source": [
    "#### CSV Schedule"
   ]
  },
  {
   "cell_type": "code",
   "execution_count": 189,
   "metadata": {},
   "outputs": [
    {
     "name": "stderr",
     "output_type": "stream",
     "text": [
      "/var/folders/mn/5b1ysnv91r7c936pgxljq3v80000gn/T/ipykernel_4480/3149020227.py:3: UserWarning: Could not infer format, so each element will be parsed individually, falling back to `dateutil`. To ensure parsing is consistent and as-expected, please specify a format.\n",
      "  schedules_df[\"START\"] = pd.to_datetime(schedules_df[\"START\"], errors=\"coerce\")\n",
      "/var/folders/mn/5b1ysnv91r7c936pgxljq3v80000gn/T/ipykernel_4480/3149020227.py:4: UserWarning: Could not infer format, so each element will be parsed individually, falling back to `dateutil`. To ensure parsing is consistent and as-expected, please specify a format.\n",
      "  schedules_df[\"END\"] = pd.to_datetime(schedules_df[\"END\"], errors=\"coerce\")\n"
     ]
    }
   ],
   "source": [
    "# Parse dates\n",
    "if schedules_df[\"START\"].dtype == \"object\":\n",
    "    schedules_df[\"START\"] = pd.to_datetime(schedules_df[\"START\"], errors=\"coerce\")\n",
    "    schedules_df[\"END\"] = pd.to_datetime(schedules_df[\"END\"], errors=\"coerce\")"
   ]
  },
  {
   "cell_type": "code",
   "execution_count": 190,
   "metadata": {},
   "outputs": [
    {
     "name": "stdout",
     "output_type": "stream",
     "text": [
      "Basic information:\n",
      "<class 'pandas.core.frame.DataFrame'>\n",
      "RangeIndex: 983 entries, 0 to 982\n",
      "Data columns (total 10 columns):\n",
      " #   Column  Non-Null Count  Dtype         \n",
      "---  ------  --------------  -----         \n",
      " 0   NAME    983 non-null    object        \n",
      " 1   START   983 non-null    datetime64[ns]\n",
      " 2   END     983 non-null    datetime64[ns]\n",
      " 3   MON     983 non-null    int64         \n",
      " 4   TUES    983 non-null    int64         \n",
      " 5   WED     983 non-null    int64         \n",
      " 6   THURS   983 non-null    int64         \n",
      " 7   FRI     983 non-null    int64         \n",
      " 8   SAT     983 non-null    int64         \n",
      " 9   SUN     983 non-null    int64         \n",
      "dtypes: datetime64[ns](2), int64(7), object(1)\n",
      "memory usage: 76.9+ KB\n"
     ]
    }
   ],
   "source": [
    "print(\"Basic information:\")\n",
    "schedules_df.info()"
   ]
  },
  {
   "cell_type": "code",
   "execution_count": 191,
   "metadata": {},
   "outputs": [
    {
     "name": "stdout",
     "output_type": "stream",
     "text": [
      "Statistical summary:\n"
     ]
    },
    {
     "data": {
      "application/vnd.microsoft.datawrangler.viewer.v0+json": {
       "columns": [
        {
         "name": "index",
         "rawType": "object",
         "type": "string"
        },
        {
         "name": "START",
         "rawType": "object",
         "type": "unknown"
        },
        {
         "name": "END",
         "rawType": "object",
         "type": "unknown"
        },
        {
         "name": "MON",
         "rawType": "float64",
         "type": "float"
        },
        {
         "name": "TUES",
         "rawType": "float64",
         "type": "float"
        },
        {
         "name": "WED",
         "rawType": "float64",
         "type": "float"
        },
        {
         "name": "THURS",
         "rawType": "float64",
         "type": "float"
        },
        {
         "name": "FRI",
         "rawType": "float64",
         "type": "float"
        },
        {
         "name": "SAT",
         "rawType": "float64",
         "type": "float"
        },
        {
         "name": "SUN",
         "rawType": "float64",
         "type": "float"
        }
       ],
       "conversionMethod": "pd.DataFrame",
       "ref": "3b7fd068-0be5-4312-bd34-ad2fdcfc72d2",
       "rows": [
        [
         "count",
         "983",
         "983",
         "983.0",
         "983.0",
         "983.0",
         "983.0",
         "983.0",
         "983.0",
         "983.0"
        ],
        [
         "mean",
         "2025-03-13 08:44:00.488301056",
         "2025-03-13 18:13:14.710071296",
         "0.74",
         "0.73",
         "0.73",
         "0.73",
         "0.74",
         "0.42",
         "0.43"
        ],
        [
         "min",
         "2025-03-13 00:00:00",
         "2025-03-13 00:00:00",
         "0.0",
         "0.0",
         "0.0",
         "0.0",
         "0.0",
         "0.0",
         "0.0"
        ],
        [
         "25%",
         "2025-03-13 08:00:00",
         "2025-03-13 18:00:00",
         "0.0",
         "0.0",
         "0.0",
         "0.0",
         "0.0",
         "0.0",
         "0.0"
        ],
        [
         "50%",
         "2025-03-13 09:00:00",
         "2025-03-13 19:00:00",
         "1.0",
         "1.0",
         "1.0",
         "1.0",
         "1.0",
         "0.0",
         "0.0"
        ],
        [
         "75%",
         "2025-03-13 10:00:00",
         "2025-03-13 20:00:00",
         "1.0",
         "1.0",
         "1.0",
         "1.0",
         "1.0",
         "1.0",
         "1.0"
        ],
        [
         "max",
         "2025-03-13 23:00:00",
         "2025-03-13 23:00:00",
         "1.0",
         "1.0",
         "1.0",
         "1.0",
         "1.0",
         "1.0",
         "1.0"
        ],
        [
         "std",
         null,
         null,
         "0.44",
         "0.44",
         "0.44",
         "0.44",
         "0.44",
         "0.49",
         "0.49"
        ]
       ],
       "shape": {
        "columns": 9,
        "rows": 8
       }
      },
      "text/html": [
       "<div>\n",
       "<style scoped>\n",
       "    .dataframe tbody tr th:only-of-type {\n",
       "        vertical-align: middle;\n",
       "    }\n",
       "\n",
       "    .dataframe tbody tr th {\n",
       "        vertical-align: top;\n",
       "    }\n",
       "\n",
       "    .dataframe thead th {\n",
       "        text-align: right;\n",
       "    }\n",
       "</style>\n",
       "<table border=\"1\" class=\"dataframe\">\n",
       "  <thead>\n",
       "    <tr style=\"text-align: right;\">\n",
       "      <th></th>\n",
       "      <th>START</th>\n",
       "      <th>END</th>\n",
       "      <th>MON</th>\n",
       "      <th>TUES</th>\n",
       "      <th>WED</th>\n",
       "      <th>THURS</th>\n",
       "      <th>FRI</th>\n",
       "      <th>SAT</th>\n",
       "      <th>SUN</th>\n",
       "    </tr>\n",
       "  </thead>\n",
       "  <tbody>\n",
       "    <tr>\n",
       "      <th>count</th>\n",
       "      <td>983</td>\n",
       "      <td>983</td>\n",
       "      <td>983.00</td>\n",
       "      <td>983.00</td>\n",
       "      <td>983.00</td>\n",
       "      <td>983.00</td>\n",
       "      <td>983.00</td>\n",
       "      <td>983.00</td>\n",
       "      <td>983.00</td>\n",
       "    </tr>\n",
       "    <tr>\n",
       "      <th>mean</th>\n",
       "      <td>2025-03-13 08:44:00.488301056</td>\n",
       "      <td>2025-03-13 18:13:14.710071296</td>\n",
       "      <td>0.74</td>\n",
       "      <td>0.73</td>\n",
       "      <td>0.73</td>\n",
       "      <td>0.73</td>\n",
       "      <td>0.74</td>\n",
       "      <td>0.42</td>\n",
       "      <td>0.43</td>\n",
       "    </tr>\n",
       "    <tr>\n",
       "      <th>min</th>\n",
       "      <td>2025-03-13 00:00:00</td>\n",
       "      <td>2025-03-13 00:00:00</td>\n",
       "      <td>0.00</td>\n",
       "      <td>0.00</td>\n",
       "      <td>0.00</td>\n",
       "      <td>0.00</td>\n",
       "      <td>0.00</td>\n",
       "      <td>0.00</td>\n",
       "      <td>0.00</td>\n",
       "    </tr>\n",
       "    <tr>\n",
       "      <th>25%</th>\n",
       "      <td>2025-03-13 08:00:00</td>\n",
       "      <td>2025-03-13 18:00:00</td>\n",
       "      <td>0.00</td>\n",
       "      <td>0.00</td>\n",
       "      <td>0.00</td>\n",
       "      <td>0.00</td>\n",
       "      <td>0.00</td>\n",
       "      <td>0.00</td>\n",
       "      <td>0.00</td>\n",
       "    </tr>\n",
       "    <tr>\n",
       "      <th>50%</th>\n",
       "      <td>2025-03-13 09:00:00</td>\n",
       "      <td>2025-03-13 19:00:00</td>\n",
       "      <td>1.00</td>\n",
       "      <td>1.00</td>\n",
       "      <td>1.00</td>\n",
       "      <td>1.00</td>\n",
       "      <td>1.00</td>\n",
       "      <td>0.00</td>\n",
       "      <td>0.00</td>\n",
       "    </tr>\n",
       "    <tr>\n",
       "      <th>75%</th>\n",
       "      <td>2025-03-13 10:00:00</td>\n",
       "      <td>2025-03-13 20:00:00</td>\n",
       "      <td>1.00</td>\n",
       "      <td>1.00</td>\n",
       "      <td>1.00</td>\n",
       "      <td>1.00</td>\n",
       "      <td>1.00</td>\n",
       "      <td>1.00</td>\n",
       "      <td>1.00</td>\n",
       "    </tr>\n",
       "    <tr>\n",
       "      <th>max</th>\n",
       "      <td>2025-03-13 23:00:00</td>\n",
       "      <td>2025-03-13 23:00:00</td>\n",
       "      <td>1.00</td>\n",
       "      <td>1.00</td>\n",
       "      <td>1.00</td>\n",
       "      <td>1.00</td>\n",
       "      <td>1.00</td>\n",
       "      <td>1.00</td>\n",
       "      <td>1.00</td>\n",
       "    </tr>\n",
       "    <tr>\n",
       "      <th>std</th>\n",
       "      <td>NaN</td>\n",
       "      <td>NaN</td>\n",
       "      <td>0.44</td>\n",
       "      <td>0.44</td>\n",
       "      <td>0.44</td>\n",
       "      <td>0.44</td>\n",
       "      <td>0.44</td>\n",
       "      <td>0.49</td>\n",
       "      <td>0.49</td>\n",
       "    </tr>\n",
       "  </tbody>\n",
       "</table>\n",
       "</div>"
      ],
      "text/plain": [
       "                               START                            END     MON    TUES     WED   THURS     FRI     SAT     SUN\n",
       "count                            983                            983  983.00  983.00  983.00  983.00  983.00  983.00  983.00\n",
       "mean   2025-03-13 08:44:00.488301056  2025-03-13 18:13:14.710071296    0.74    0.73    0.73    0.73    0.74    0.42    0.43\n",
       "min              2025-03-13 00:00:00            2025-03-13 00:00:00    0.00    0.00    0.00    0.00    0.00    0.00    0.00\n",
       "25%              2025-03-13 08:00:00            2025-03-13 18:00:00    0.00    0.00    0.00    0.00    0.00    0.00    0.00\n",
       "50%              2025-03-13 09:00:00            2025-03-13 19:00:00    1.00    1.00    1.00    1.00    1.00    0.00    0.00\n",
       "75%              2025-03-13 10:00:00            2025-03-13 20:00:00    1.00    1.00    1.00    1.00    1.00    1.00    1.00\n",
       "max              2025-03-13 23:00:00            2025-03-13 23:00:00    1.00    1.00    1.00    1.00    1.00    1.00    1.00\n",
       "std                              NaN                            NaN    0.44    0.44    0.44    0.44    0.44    0.49    0.49"
      ]
     },
     "metadata": {},
     "output_type": "display_data"
    }
   ],
   "source": [
    "print(\"Statistical summary:\")\n",
    "display(schedules_df.describe().round(2))"
   ]
  },
  {
   "cell_type": "code",
   "execution_count": 192,
   "metadata": {},
   "outputs": [
    {
     "name": "stdout",
     "output_type": "stream",
     "text": [
      "CSV Schedules Data\n"
     ]
    },
    {
     "data": {
      "application/vnd.microsoft.datawrangler.viewer.v0+json": {
       "columns": [
        {
         "name": "index",
         "rawType": "int64",
         "type": "integer"
        },
        {
         "name": "NAME",
         "rawType": "object",
         "type": "string"
        },
        {
         "name": "START",
         "rawType": "datetime64[ns]",
         "type": "datetime"
        },
        {
         "name": "END",
         "rawType": "datetime64[ns]",
         "type": "datetime"
        },
        {
         "name": "MON",
         "rawType": "int64",
         "type": "integer"
        },
        {
         "name": "TUES",
         "rawType": "int64",
         "type": "integer"
        },
        {
         "name": "WED",
         "rawType": "int64",
         "type": "integer"
        },
        {
         "name": "THURS",
         "rawType": "int64",
         "type": "integer"
        },
        {
         "name": "FRI",
         "rawType": "int64",
         "type": "integer"
        },
        {
         "name": "SAT",
         "rawType": "int64",
         "type": "integer"
        },
        {
         "name": "SUN",
         "rawType": "int64",
         "type": "integer"
        }
       ],
       "conversionMethod": "pd.DataFrame",
       "ref": "8cb1677a-0a60-490f-85d0-4312885dc866",
       "rows": [
        [
         "0",
         "Abigail",
         "2025-03-13 08:00:00",
         "2025-03-13 18:00:00",
         "1",
         "1",
         "1",
         "1",
         "1",
         "0",
         "0"
        ],
        [
         "1",
         "Abelardo",
         "2025-03-13 06:00:00",
         "2025-03-13 16:00:00",
         "1",
         "1",
         "1",
         "1",
         "1",
         "1",
         "1"
        ],
        [
         "2",
         "Margarita",
         "2025-03-13 08:00:00",
         "2025-03-13 18:00:00",
         "1",
         "1",
         "1",
         "1",
         "1",
         "1",
         "1"
        ],
        [
         "3",
         "Davide",
         "2025-03-13 09:00:00",
         "2025-03-13 19:00:00",
         "1",
         "1",
         "1",
         "1",
         "1",
         "1",
         "1"
        ],
        [
         "4",
         "Paul",
         "2025-03-13 07:00:00",
         "2025-03-13 17:00:00",
         "1",
         "1",
         "1",
         "1",
         "1",
         "1",
         "1"
        ]
       ],
       "shape": {
        "columns": 10,
        "rows": 5
       }
      },
      "text/html": [
       "<div>\n",
       "<style scoped>\n",
       "    .dataframe tbody tr th:only-of-type {\n",
       "        vertical-align: middle;\n",
       "    }\n",
       "\n",
       "    .dataframe tbody tr th {\n",
       "        vertical-align: top;\n",
       "    }\n",
       "\n",
       "    .dataframe thead th {\n",
       "        text-align: right;\n",
       "    }\n",
       "</style>\n",
       "<table border=\"1\" class=\"dataframe\">\n",
       "  <thead>\n",
       "    <tr style=\"text-align: right;\">\n",
       "      <th></th>\n",
       "      <th>NAME</th>\n",
       "      <th>START</th>\n",
       "      <th>END</th>\n",
       "      <th>MON</th>\n",
       "      <th>TUES</th>\n",
       "      <th>WED</th>\n",
       "      <th>THURS</th>\n",
       "      <th>FRI</th>\n",
       "      <th>SAT</th>\n",
       "      <th>SUN</th>\n",
       "    </tr>\n",
       "  </thead>\n",
       "  <tbody>\n",
       "    <tr>\n",
       "      <th>0</th>\n",
       "      <td>Abigail</td>\n",
       "      <td>2025-03-13 08:00:00</td>\n",
       "      <td>2025-03-13 18:00:00</td>\n",
       "      <td>1</td>\n",
       "      <td>1</td>\n",
       "      <td>1</td>\n",
       "      <td>1</td>\n",
       "      <td>1</td>\n",
       "      <td>0</td>\n",
       "      <td>0</td>\n",
       "    </tr>\n",
       "    <tr>\n",
       "      <th>1</th>\n",
       "      <td>Abelardo</td>\n",
       "      <td>2025-03-13 06:00:00</td>\n",
       "      <td>2025-03-13 16:00:00</td>\n",
       "      <td>1</td>\n",
       "      <td>1</td>\n",
       "      <td>1</td>\n",
       "      <td>1</td>\n",
       "      <td>1</td>\n",
       "      <td>1</td>\n",
       "      <td>1</td>\n",
       "    </tr>\n",
       "    <tr>\n",
       "      <th>2</th>\n",
       "      <td>Margarita</td>\n",
       "      <td>2025-03-13 08:00:00</td>\n",
       "      <td>2025-03-13 18:00:00</td>\n",
       "      <td>1</td>\n",
       "      <td>1</td>\n",
       "      <td>1</td>\n",
       "      <td>1</td>\n",
       "      <td>1</td>\n",
       "      <td>1</td>\n",
       "      <td>1</td>\n",
       "    </tr>\n",
       "    <tr>\n",
       "      <th>3</th>\n",
       "      <td>Davide</td>\n",
       "      <td>2025-03-13 09:00:00</td>\n",
       "      <td>2025-03-13 19:00:00</td>\n",
       "      <td>1</td>\n",
       "      <td>1</td>\n",
       "      <td>1</td>\n",
       "      <td>1</td>\n",
       "      <td>1</td>\n",
       "      <td>1</td>\n",
       "      <td>1</td>\n",
       "    </tr>\n",
       "    <tr>\n",
       "      <th>4</th>\n",
       "      <td>Paul</td>\n",
       "      <td>2025-03-13 07:00:00</td>\n",
       "      <td>2025-03-13 17:00:00</td>\n",
       "      <td>1</td>\n",
       "      <td>1</td>\n",
       "      <td>1</td>\n",
       "      <td>1</td>\n",
       "      <td>1</td>\n",
       "      <td>1</td>\n",
       "      <td>1</td>\n",
       "    </tr>\n",
       "  </tbody>\n",
       "</table>\n",
       "</div>"
      ],
      "text/plain": [
       "        NAME               START                 END  MON  TUES  WED  THURS  FRI  SAT  SUN\n",
       "0    Abigail 2025-03-13 08:00:00 2025-03-13 18:00:00    1     1    1      1    1    0    0\n",
       "1   Abelardo 2025-03-13 06:00:00 2025-03-13 16:00:00    1     1    1      1    1    1    1\n",
       "2  Margarita 2025-03-13 08:00:00 2025-03-13 18:00:00    1     1    1      1    1    1    1\n",
       "3     Davide 2025-03-13 09:00:00 2025-03-13 19:00:00    1     1    1      1    1    1    1\n",
       "4       Paul 2025-03-13 07:00:00 2025-03-13 17:00:00    1     1    1      1    1    1    1"
      ]
     },
     "metadata": {},
     "output_type": "display_data"
    }
   ],
   "source": [
    "print(\"CSV Schedules Data\")\n",
    "display(schedules_df.head())"
   ]
  },
  {
   "cell_type": "code",
   "execution_count": 193,
   "metadata": {},
   "outputs": [
    {
     "name": "stdout",
     "output_type": "stream",
     "text": [
      "Total Hours Per Name:\n"
     ]
    },
    {
     "data": {
      "application/vnd.microsoft.datawrangler.viewer.v0+json": {
       "columns": [
        {
         "name": "index",
         "rawType": "int64",
         "type": "integer"
        },
        {
         "name": "NAME",
         "rawType": "object",
         "type": "string"
        },
        {
         "name": "HOURS",
         "rawType": "float64",
         "type": "float"
        }
       ],
       "conversionMethod": "pd.DataFrame",
       "ref": "8a3e7a83-828a-4041-a435-da60a93fadcf",
       "rows": [
        [
         "0",
         "Aaron",
         "10.0"
        ],
        [
         "1",
         "Abdon",
         "10.0"
        ],
        [
         "2",
         "Abdon Isaias",
         "10.0"
        ],
        [
         "3",
         "Abdon Luis",
         "10.0"
        ],
        [
         "4",
         "Abel Irene",
         "10.0"
        ],
        [
         "5",
         "Abelardo",
         "10.0"
        ],
        [
         "6",
         "Abigail",
         "10.0"
        ],
        [
         "7",
         "Abraham Alejo",
         "10.0"
        ],
        [
         "8",
         "Abril",
         "10.0"
        ],
        [
         "9",
         "Acacio Cayetano",
         "10.0"
        ],
        [
         "10",
         "Acacio Montserrat",
         "10.0"
        ],
        [
         "11",
         "Acacio Poncio",
         "10.0"
        ],
        [
         "12",
         "Acolmiztli",
         "10.0"
        ],
        [
         "13",
         "Adalberto",
         "10.0"
        ],
        [
         "14",
         "Adalberto Anatolio",
         "10.0"
        ],
        [
         "15",
         "Adam",
         "10.0"
        ],
        [
         "16",
         "Adan",
         "10.0"
        ],
        [
         "17",
         "Addison",
         "10.0"
        ],
        [
         "18",
         "Adela",
         "10.0"
        ],
        [
         "19",
         "Adela Esteban",
         "10.0"
        ],
        [
         "20",
         "Adele",
         "10.0"
        ],
        [
         "21",
         "Adelia",
         "10.0"
        ],
        [
         "22",
         "Adrien",
         "10.0"
        ],
        [
         "23",
         "Agathe",
         "10.0"
        ],
        [
         "24",
         "Ager",
         "10.0"
        ],
        [
         "25",
         "Agostinho",
         "10.0"
        ],
        [
         "26",
         "Agueda",
         "10.0"
        ],
        [
         "27",
         "Agustina",
         "10.0"
        ],
        [
         "28",
         "Agustina Greta",
         "10.0"
        ],
        [
         "29",
         "Aide",
         "10.0"
        ],
        [
         "30",
         "Aide Matias",
         "10.0"
        ],
        [
         "31",
         "Aina",
         "10.0"
        ],
        [
         "32",
         "Ainhoa",
         "10.0"
        ],
        [
         "33",
         "Aino",
         "10.0"
        ],
        [
         "34",
         "Aisha",
         "10.0"
        ],
        [
         "35",
         "Aitor",
         "10.0"
        ],
        [
         "36",
         "Akira",
         "10.0"
        ],
        [
         "37",
         "Akos",
         "10.0"
        ],
        [
         "38",
         "Akseli",
         "10.0"
        ],
        [
         "39",
         "Alain",
         "10.0"
        ],
        [
         "40",
         "Alba",
         "10.0"
        ],
        [
         "41",
         "Alban",
         "10.0"
        ],
        [
         "42",
         "Albina Adan",
         "10.0"
        ],
        [
         "43",
         "Aldara",
         "10.0"
        ],
        [
         "44",
         "Alejandria",
         "-14.0"
        ],
        [
         "45",
         "Alejandria Itzel",
         "10.0"
        ],
        [
         "46",
         "Alejandria Leon",
         "10.0"
        ],
        [
         "47",
         "Alejandro",
         "10.0"
        ],
        [
         "48",
         "Alejo",
         "10.0"
        ],
        [
         "49",
         "Alejo Esdras",
         "10.0"
        ]
       ],
       "shape": {
        "columns": 2,
        "rows": 983
       }
      },
      "text/html": [
       "<div>\n",
       "<style scoped>\n",
       "    .dataframe tbody tr th:only-of-type {\n",
       "        vertical-align: middle;\n",
       "    }\n",
       "\n",
       "    .dataframe tbody tr th {\n",
       "        vertical-align: top;\n",
       "    }\n",
       "\n",
       "    .dataframe thead th {\n",
       "        text-align: right;\n",
       "    }\n",
       "</style>\n",
       "<table border=\"1\" class=\"dataframe\">\n",
       "  <thead>\n",
       "    <tr style=\"text-align: right;\">\n",
       "      <th></th>\n",
       "      <th>NAME</th>\n",
       "      <th>HOURS</th>\n",
       "    </tr>\n",
       "  </thead>\n",
       "  <tbody>\n",
       "    <tr>\n",
       "      <th>0</th>\n",
       "      <td>Aaron</td>\n",
       "      <td>10.0</td>\n",
       "    </tr>\n",
       "    <tr>\n",
       "      <th>1</th>\n",
       "      <td>Abdon</td>\n",
       "      <td>10.0</td>\n",
       "    </tr>\n",
       "    <tr>\n",
       "      <th>2</th>\n",
       "      <td>Abdon Isaias</td>\n",
       "      <td>10.0</td>\n",
       "    </tr>\n",
       "    <tr>\n",
       "      <th>3</th>\n",
       "      <td>Abdon Luis</td>\n",
       "      <td>10.0</td>\n",
       "    </tr>\n",
       "    <tr>\n",
       "      <th>4</th>\n",
       "      <td>Abel Irene</td>\n",
       "      <td>10.0</td>\n",
       "    </tr>\n",
       "    <tr>\n",
       "      <th>...</th>\n",
       "      <td>...</td>\n",
       "      <td>...</td>\n",
       "    </tr>\n",
       "    <tr>\n",
       "      <th>978</th>\n",
       "      <td>Zacarias Casio</td>\n",
       "      <td>10.0</td>\n",
       "    </tr>\n",
       "    <tr>\n",
       "      <th>979</th>\n",
       "      <td>Zacarias Marcelino</td>\n",
       "      <td>10.0</td>\n",
       "    </tr>\n",
       "    <tr>\n",
       "      <th>980</th>\n",
       "      <td>Zachary</td>\n",
       "      <td>10.0</td>\n",
       "    </tr>\n",
       "    <tr>\n",
       "      <th>981</th>\n",
       "      <td>Zlatan</td>\n",
       "      <td>10.0</td>\n",
       "    </tr>\n",
       "    <tr>\n",
       "      <th>982</th>\n",
       "      <td>Zlatko</td>\n",
       "      <td>10.0</td>\n",
       "    </tr>\n",
       "  </tbody>\n",
       "</table>\n",
       "<p>983 rows × 2 columns</p>\n",
       "</div>"
      ],
      "text/plain": [
       "                   NAME  HOURS\n",
       "0                 Aaron   10.0\n",
       "1                 Abdon   10.0\n",
       "2          Abdon Isaias   10.0\n",
       "3            Abdon Luis   10.0\n",
       "4            Abel Irene   10.0\n",
       "..                  ...    ...\n",
       "978      Zacarias Casio   10.0\n",
       "979  Zacarias Marcelino   10.0\n",
       "980             Zachary   10.0\n",
       "981              Zlatan   10.0\n",
       "982              Zlatko   10.0\n",
       "\n",
       "[983 rows x 2 columns]"
      ]
     },
     "metadata": {},
     "output_type": "display_data"
    },
    {
     "name": "stdout",
     "output_type": "stream",
     "text": [
      "Names with Negative Hours (Incorrect Data):\n"
     ]
    },
    {
     "data": {
      "application/vnd.microsoft.datawrangler.viewer.v0+json": {
       "columns": [
        {
         "name": "index",
         "rawType": "int64",
         "type": "integer"
        },
        {
         "name": "NAME",
         "rawType": "object",
         "type": "string"
        },
        {
         "name": "HOURS",
         "rawType": "float64",
         "type": "float"
        }
       ],
       "conversionMethod": "pd.DataFrame",
       "ref": "1a6cfb7d-2aca-4c7c-b405-da21f6f00c9c",
       "rows": [
        [
         "44",
         "Alejandria",
         "-14.0"
        ],
        [
         "71",
         "Almudena Jorge",
         "-14.0"
        ],
        [
         "85",
         "Amelia",
         "-14.0"
        ],
        [
         "145",
         "Araceli Enrique",
         "-14.0"
        ],
        [
         "151",
         "Aresio Casimiro",
         "-14.0"
        ],
        [
         "238",
         "Carmen Maria",
         "-14.0"
        ],
        [
         "247",
         "Catherine",
         "-14.0"
        ],
        [
         "341",
         "Edgar",
         "-14.0"
        ],
        [
         "365",
         "Emanuel",
         "-14.0"
        ],
        [
         "410",
         "Federico Alipio",
         "-14.0"
        ],
        [
         "432",
         "Francoise",
         "-14.0"
        ],
        [
         "455",
         "Godofredo",
         "-14.0"
        ],
        [
         "524",
         "Ismael Fortunato",
         "-14.0"
        ],
        [
         "682",
         "Maite",
         "-14.0"
        ],
        [
         "830",
         "Pere",
         "-14.0"
        ],
        [
         "869",
         "Roberto Carlos",
         "-14.0"
        ],
        [
         "902",
         "Segismundo Aaron",
         "-14.0"
        ],
        [
         "903",
         "Segismundo Sixto",
         "-14.0"
        ],
        [
         "922",
         "Tamagnini",
         "-14.0"
        ],
        [
         "968",
         "Wolfgang",
         "-14.0"
        ],
        [
         "970",
         "Xavi",
         "-14.0"
        ]
       ],
       "shape": {
        "columns": 2,
        "rows": 21
       }
      },
      "text/html": [
       "<div>\n",
       "<style scoped>\n",
       "    .dataframe tbody tr th:only-of-type {\n",
       "        vertical-align: middle;\n",
       "    }\n",
       "\n",
       "    .dataframe tbody tr th {\n",
       "        vertical-align: top;\n",
       "    }\n",
       "\n",
       "    .dataframe thead th {\n",
       "        text-align: right;\n",
       "    }\n",
       "</style>\n",
       "<table border=\"1\" class=\"dataframe\">\n",
       "  <thead>\n",
       "    <tr style=\"text-align: right;\">\n",
       "      <th></th>\n",
       "      <th>NAME</th>\n",
       "      <th>HOURS</th>\n",
       "    </tr>\n",
       "  </thead>\n",
       "  <tbody>\n",
       "    <tr>\n",
       "      <th>44</th>\n",
       "      <td>Alejandria</td>\n",
       "      <td>-14.0</td>\n",
       "    </tr>\n",
       "    <tr>\n",
       "      <th>71</th>\n",
       "      <td>Almudena Jorge</td>\n",
       "      <td>-14.0</td>\n",
       "    </tr>\n",
       "    <tr>\n",
       "      <th>85</th>\n",
       "      <td>Amelia</td>\n",
       "      <td>-14.0</td>\n",
       "    </tr>\n",
       "    <tr>\n",
       "      <th>145</th>\n",
       "      <td>Araceli Enrique</td>\n",
       "      <td>-14.0</td>\n",
       "    </tr>\n",
       "    <tr>\n",
       "      <th>151</th>\n",
       "      <td>Aresio Casimiro</td>\n",
       "      <td>-14.0</td>\n",
       "    </tr>\n",
       "    <tr>\n",
       "      <th>238</th>\n",
       "      <td>Carmen Maria</td>\n",
       "      <td>-14.0</td>\n",
       "    </tr>\n",
       "    <tr>\n",
       "      <th>247</th>\n",
       "      <td>Catherine</td>\n",
       "      <td>-14.0</td>\n",
       "    </tr>\n",
       "    <tr>\n",
       "      <th>341</th>\n",
       "      <td>Edgar</td>\n",
       "      <td>-14.0</td>\n",
       "    </tr>\n",
       "    <tr>\n",
       "      <th>365</th>\n",
       "      <td>Emanuel</td>\n",
       "      <td>-14.0</td>\n",
       "    </tr>\n",
       "    <tr>\n",
       "      <th>410</th>\n",
       "      <td>Federico Alipio</td>\n",
       "      <td>-14.0</td>\n",
       "    </tr>\n",
       "    <tr>\n",
       "      <th>432</th>\n",
       "      <td>Francoise</td>\n",
       "      <td>-14.0</td>\n",
       "    </tr>\n",
       "    <tr>\n",
       "      <th>455</th>\n",
       "      <td>Godofredo</td>\n",
       "      <td>-14.0</td>\n",
       "    </tr>\n",
       "    <tr>\n",
       "      <th>524</th>\n",
       "      <td>Ismael Fortunato</td>\n",
       "      <td>-14.0</td>\n",
       "    </tr>\n",
       "    <tr>\n",
       "      <th>682</th>\n",
       "      <td>Maite</td>\n",
       "      <td>-14.0</td>\n",
       "    </tr>\n",
       "    <tr>\n",
       "      <th>830</th>\n",
       "      <td>Pere</td>\n",
       "      <td>-14.0</td>\n",
       "    </tr>\n",
       "    <tr>\n",
       "      <th>869</th>\n",
       "      <td>Roberto Carlos</td>\n",
       "      <td>-14.0</td>\n",
       "    </tr>\n",
       "    <tr>\n",
       "      <th>902</th>\n",
       "      <td>Segismundo Aaron</td>\n",
       "      <td>-14.0</td>\n",
       "    </tr>\n",
       "    <tr>\n",
       "      <th>903</th>\n",
       "      <td>Segismundo Sixto</td>\n",
       "      <td>-14.0</td>\n",
       "    </tr>\n",
       "    <tr>\n",
       "      <th>922</th>\n",
       "      <td>Tamagnini</td>\n",
       "      <td>-14.0</td>\n",
       "    </tr>\n",
       "    <tr>\n",
       "      <th>968</th>\n",
       "      <td>Wolfgang</td>\n",
       "      <td>-14.0</td>\n",
       "    </tr>\n",
       "    <tr>\n",
       "      <th>970</th>\n",
       "      <td>Xavi</td>\n",
       "      <td>-14.0</td>\n",
       "    </tr>\n",
       "  </tbody>\n",
       "</table>\n",
       "</div>"
      ],
      "text/plain": [
       "                 NAME  HOURS\n",
       "44         Alejandria  -14.0\n",
       "71     Almudena Jorge  -14.0\n",
       "85             Amelia  -14.0\n",
       "145   Araceli Enrique  -14.0\n",
       "151   Aresio Casimiro  -14.0\n",
       "238      Carmen Maria  -14.0\n",
       "247         Catherine  -14.0\n",
       "341             Edgar  -14.0\n",
       "365           Emanuel  -14.0\n",
       "410   Federico Alipio  -14.0\n",
       "432         Francoise  -14.0\n",
       "455         Godofredo  -14.0\n",
       "524  Ismael Fortunato  -14.0\n",
       "682             Maite  -14.0\n",
       "830              Pere  -14.0\n",
       "869    Roberto Carlos  -14.0\n",
       "902  Segismundo Aaron  -14.0\n",
       "903  Segismundo Sixto  -14.0\n",
       "922         Tamagnini  -14.0\n",
       "968          Wolfgang  -14.0\n",
       "970              Xavi  -14.0"
      ]
     },
     "metadata": {},
     "output_type": "display_data"
    }
   ],
   "source": [
    "# TODO - Fix this error in preprocessing step\n",
    "\n",
    "# Duration in hours for each row\n",
    "schedules_df[\"HOURS\"] = (schedules_df[\"END\"] - schedules_df[\"START\"]).dt.total_seconds() / 3600\n",
    "\n",
    "# Group by NAME and sum the hours\n",
    "total_hours_per_name = schedules_df.groupby(\"NAME\")[\"HOURS\"].sum().reset_index()\n",
    "\n",
    "\n",
    "# Obtain ONLY\n",
    "negative_hours = total_hours_per_name[total_hours_per_name[\"HOURS\"] < 0]\n",
    "\n",
    "\n",
    "print(\"Total Hours Per Name:\")\n",
    "display(total_hours_per_name)\n",
    "\n",
    "if not negative_hours.empty:\n",
    "    print(\"Names with Negative Hours (Incorrect Data):\")\n",
    "    display(negative_hours)\n",
    "else:\n",
    "    print(\"No negative hours detected\")\n"
   ]
  },
  {
   "cell_type": "code",
   "execution_count": 194,
   "metadata": {},
   "outputs": [
    {
     "data": {
      "image/png": "[encoded data removed]",
      "text/plain": [
       "<Figure size 1000x600 with 2 Axes>"
      ]
     },
     "metadata": {},
     "output_type": "display_data"
    }
   ],
   "source": [
    "# TODO - Overworking hours...\n",
    "\n",
    "# Calculate weekday and weekend hours directly\n",
    "weekday_hours = schedules_df[[\"MON\", \"TUES\", \"WED\", \"THURS\", \"FRI\"]].sum(axis=1)\n",
    "weekend_hours = schedules_df[[\"SAT\", \"SUN\"]].sum(axis=1)\n",
    "\n",
    "# Create a heatmap of weekday vs weekend hours\n",
    "heatmap_data, x_edges, y_edges = np.histogram2d(weekday_hours, weekend_hours, bins=(6, 3))\n",
    "\n",
    "# Plot the heatmap\n",
    "plt.figure(figsize=(10, 6))\n",
    "plt.imshow(heatmap_data.T, origin=\"lower\", cmap=\"YlGnBu\", aspect=\"auto\",\n",
    "           extent=[x_edges[0], x_edges[-1], y_edges[0], y_edges[-1]])\n",
    "plt.colorbar(label=\"Frequency\")\n",
    "plt.title(\"Heatmap of Weekday vs Weekend Availability\")\n",
    "plt.xlabel(\"Weekday Hours\")\n",
    "plt.ylabel(\"Weekend Hours\")\n",
    "plt.xticks(range(int(x_edges[0]), int(x_edges[-1]) + 1))\n",
    "plt.yticks(range(int(y_edges[0]), int(y_edges[-1]) + 1))\n",
    "plt.show()\n"
   ]
  },
  {
   "cell_type": "markdown",
   "metadata": {},
   "source": [
    "#### CSV Translators Cost Pairs"
   ]
  },
  {
   "cell_type": "code",
   "execution_count": 195,
   "metadata": {},
   "outputs": [
    {
     "name": "stdout",
     "output_type": "stream",
     "text": [
      "Number of unique translators: 983\n",
      "Number of source languages: 40\n",
      "Number of target languages: 80\n",
      "Number of unique language pairs: 300\n"
     ]
    }
   ],
   "source": [
    "print(f\"Number of unique translators: {translators_df['TRANSLATOR'].nunique()}\")\n",
    "print(f\"Number of source languages: {translators_df['SOURCE_LANG'].nunique()}\")\n",
    "print(f\"Number of target languages: {translators_df['TARGET_LANG'].nunique()}\")\n",
    "print(f\"Number of unique language pairs: {translators_df.groupby(['SOURCE_LANG', 'TARGET_LANG']).ngroups}\")"
   ]
  },
  {
   "cell_type": "markdown",
   "metadata": {},
   "source": [
    "#### CSV Sample"
   ]
  },
  {
   "cell_type": "code",
   "execution_count": 196,
   "metadata": {},
   "outputs": [
    {
     "name": "stdout",
     "output_type": "stream",
     "text": [
      "Basic information:\n",
      "<class 'pandas.core.frame.DataFrame'>\n",
      "RangeIndex: 31017 entries, 0 to 31016\n",
      "Data columns (total 24 columns):\n",
      " #   Column                       Non-Null Count  Dtype  \n",
      "---  ------                       --------------  -----  \n",
      " 0   PROJECT_ID                   31017 non-null  object \n",
      " 1   PM                           31017 non-null  object \n",
      " 2   TASK_ID                      31017 non-null  int64  \n",
      " 3   START                        31017 non-null  object \n",
      " 4   END                          31017 non-null  object \n",
      " 5   TASK_TYPE                    31017 non-null  object \n",
      " 6   SOURCE_LANG                  31017 non-null  object \n",
      " 7   TARGET_LANG                  31017 non-null  object \n",
      " 8   TRANSLATOR                   31017 non-null  object \n",
      " 9   ASSIGNED                     31017 non-null  object \n",
      " 10  READY                        31017 non-null  object \n",
      " 11  WORKING                      31017 non-null  object \n",
      " 12  DELIVERED                    31017 non-null  object \n",
      " 13  RECEIVED                     31017 non-null  object \n",
      " 14  CLOSE                        31017 non-null  object \n",
      " 15  FORECAST                     31017 non-null  float64\n",
      " 16  HOURLY_RATE                  31017 non-null  int64  \n",
      " 17  COST                         31017 non-null  float64\n",
      " 18  QUALITY_EVALUATION           31017 non-null  int64  \n",
      " 19  MANUFACTURER                 31017 non-null  object \n",
      " 20  MANUFACTURER_SECTOR          31017 non-null  object \n",
      " 21  MANUFACTURER_INDUSTRY_GROUP  31017 non-null  object \n",
      " 22  MANUFACTURER_INDUSTRY        31017 non-null  object \n",
      " 23  MANUFACTURER_SUBINDUSTRY     31017 non-null  object \n",
      "dtypes: float64(2), int64(3), object(19)\n",
      "memory usage: 5.7+ MB\n"
     ]
    }
   ],
   "source": [
    "print(\"Basic information:\")\n",
    "sample_df.info()"
   ]
  },
  {
   "cell_type": "code",
   "execution_count": 197,
   "metadata": {},
   "outputs": [
    {
     "name": "stdout",
     "output_type": "stream",
     "text": [
      "Missing values by column:\n",
      "PROJECT_ID                     0\n",
      "PM                             0\n",
      "TASK_ID                        0\n",
      "START                          0\n",
      "END                            0\n",
      "TASK_TYPE                      0\n",
      "SOURCE_LANG                    0\n",
      "TARGET_LANG                    0\n",
      "TRANSLATOR                     0\n",
      "ASSIGNED                       0\n",
      "READY                          0\n",
      "WORKING                        0\n",
      "DELIVERED                      0\n",
      "RECEIVED                       0\n",
      "CLOSE                          0\n",
      "FORECAST                       0\n",
      "HOURLY_RATE                    0\n",
      "COST                           0\n",
      "QUALITY_EVALUATION             0\n",
      "MANUFACTURER                   0\n",
      "MANUFACTURER_SECTOR            0\n",
      "MANUFACTURER_INDUSTRY_GROUP    0\n",
      "MANUFACTURER_INDUSTRY          0\n",
      "MANUFACTURER_SUBINDUSTRY       0\n",
      "dtype: int64\n"
     ]
    }
   ],
   "source": [
    "print(\"Missing values by column:\")\n",
    "print(sample_df.isnull().sum())"
   ]
  },
  {
   "cell_type": "code",
   "execution_count": 198,
   "metadata": {},
   "outputs": [
    {
     "name": "stdout",
     "output_type": "stream",
     "text": [
      "Unique values for Categorical columns:\n",
      "\n",
      "PM: 4 unique values\n",
      "TASK_TYPE: 6 unique values\n",
      "SOURCE_LANG: 11 unique values\n",
      "TARGET_LANG: 18 unique values\n",
      "TRANSLATOR: 228 unique values\n",
      "MANUFACTURER: 250 unique values\n",
      "MANUFACTURER_SECTOR: 14 unique values\n",
      "MANUFACTURER_INDUSTRY_GROUP: 70 unique values\n",
      "MANUFACTURER_INDUSTRY: 85 unique values\n",
      "MANUFACTURER_SUBINDUSTRY: 92 unique values\n"
     ]
    }
   ],
   "source": [
    "# Count unique values for categorical columns\n",
    "categorical_cols = [\"PM\", \"TASK_TYPE\", \"SOURCE_LANG\", \"TARGET_LANG\", \n",
    "                   \"TRANSLATOR\", \"MANUFACTURER\", \"MANUFACTURER_SECTOR\",\n",
    "                   \"MANUFACTURER_INDUSTRY_GROUP\", \"MANUFACTURER_INDUSTRY\", \n",
    "                   \"MANUFACTURER_SUBINDUSTRY\"]\n",
    "\n",
    "print(\"Unique values for Categorical columns:\")\n",
    "print()\n",
    "for col in categorical_cols:\n",
    "    print(f\"{col}: {sample_df[col].nunique()} unique values\")"
   ]
  },
  {
   "cell_type": "code",
   "execution_count": 199,
   "metadata": {},
   "outputs": [
    {
     "data": {
      "application/vnd.microsoft.datawrangler.viewer.v0+json": {
       "columns": [
        {
         "name": "index",
         "rawType": "int64",
         "type": "integer"
        },
        {
         "name": "MANUFACTURER",
         "rawType": "object",
         "type": "string"
        },
        {
         "name": "MANUFACTURER_SECTOR",
         "rawType": "object",
         "type": "string"
        },
        {
         "name": "MANUFACTURER_INDUSTRY_GROUP",
         "rawType": "object",
         "type": "string"
        },
        {
         "name": "MANUFACTURER_INDUSTRY",
         "rawType": "object",
         "type": "string"
        },
        {
         "name": "MANUFACTURER_SUBINDUSTRY",
         "rawType": "object",
         "type": "string"
        }
       ],
       "conversionMethod": "pd.DataFrame",
       "ref": "5a73a890-a69b-411b-ace3-348e7af3fbe3",
       "rows": [
        [
         "0",
         "Coastal Cottage",
         "Consumer Discretionary",
         "Consumer Services",
         "Hotels, Restaurants & Leisure",
         "Hotels, Resorts & Cruise Lines"
        ],
        [
         "1",
         "HealthyLife",
         "Health Care",
         "Health Care Providers",
         "Health Care Facilities",
         "Long-Term Care Facilities"
        ],
        [
         "2",
         "AeroSysTech",
         "Information Technology",
         "Software & Services",
         "Application Software",
         "Systems Software"
        ],
        [
         "3",
         "MetaPro",
         "Industrials",
         "Electrical Equipment",
         "Electrical Components & Equipment",
         "Electrical Components & Equipment"
        ],
        [
         "4",
         "SunTech",
         "Information Technology",
         "Technology Hardware & Equipment",
         "Technology Hardware, Storage & Peripherals",
         "Technology Hardware, Storage & Peripherals"
        ]
       ],
       "shape": {
        "columns": 5,
        "rows": 5
       }
      },
      "text/html": [
       "<div>\n",
       "<style scoped>\n",
       "    .dataframe tbody tr th:only-of-type {\n",
       "        vertical-align: middle;\n",
       "    }\n",
       "\n",
       "    .dataframe tbody tr th {\n",
       "        vertical-align: top;\n",
       "    }\n",
       "\n",
       "    .dataframe thead th {\n",
       "        text-align: right;\n",
       "    }\n",
       "</style>\n",
       "<table border=\"1\" class=\"dataframe\">\n",
       "  <thead>\n",
       "    <tr style=\"text-align: right;\">\n",
       "      <th></th>\n",
       "      <th>MANUFACTURER</th>\n",
       "      <th>MANUFACTURER_SECTOR</th>\n",
       "      <th>MANUFACTURER_INDUSTRY_GROUP</th>\n",
       "      <th>MANUFACTURER_INDUSTRY</th>\n",
       "      <th>MANUFACTURER_SUBINDUSTRY</th>\n",
       "    </tr>\n",
       "  </thead>\n",
       "  <tbody>\n",
       "    <tr>\n",
       "      <th>0</th>\n",
       "      <td>Coastal Cottage</td>\n",
       "      <td>Consumer Discretionary</td>\n",
       "      <td>Consumer Services</td>\n",
       "      <td>Hotels, Restaurants &amp; Leisure</td>\n",
       "      <td>Hotels, Resorts &amp; Cruise Lines</td>\n",
       "    </tr>\n",
       "    <tr>\n",
       "      <th>1</th>\n",
       "      <td>HealthyLife</td>\n",
       "      <td>Health Care</td>\n",
       "      <td>Health Care Providers</td>\n",
       "      <td>Health Care Facilities</td>\n",
       "      <td>Long-Term Care Facilities</td>\n",
       "    </tr>\n",
       "    <tr>\n",
       "      <th>2</th>\n",
       "      <td>AeroSysTech</td>\n",
       "      <td>Information Technology</td>\n",
       "      <td>Software &amp; Services</td>\n",
       "      <td>Application Software</td>\n",
       "      <td>Systems Software</td>\n",
       "    </tr>\n",
       "    <tr>\n",
       "      <th>3</th>\n",
       "      <td>MetaPro</td>\n",
       "      <td>Industrials</td>\n",
       "      <td>Electrical Equipment</td>\n",
       "      <td>Electrical Components &amp; Equipment</td>\n",
       "      <td>Electrical Components &amp; Equipment</td>\n",
       "    </tr>\n",
       "    <tr>\n",
       "      <th>4</th>\n",
       "      <td>SunTech</td>\n",
       "      <td>Information Technology</td>\n",
       "      <td>Technology Hardware &amp; Equipment</td>\n",
       "      <td>Technology Hardware, Storage &amp; Peripherals</td>\n",
       "      <td>Technology Hardware, Storage &amp; Peripherals</td>\n",
       "    </tr>\n",
       "  </tbody>\n",
       "</table>\n",
       "</div>"
      ],
      "text/plain": [
       "      MANUFACTURER     MANUFACTURER_SECTOR      MANUFACTURER_INDUSTRY_GROUP                       MANUFACTURER_INDUSTRY                    MANUFACTURER_SUBINDUSTRY\n",
       "0  Coastal Cottage  Consumer Discretionary                Consumer Services               Hotels, Restaurants & Leisure              Hotels, Resorts & Cruise Lines\n",
       "1      HealthyLife             Health Care            Health Care Providers                      Health Care Facilities                   Long-Term Care Facilities\n",
       "2      AeroSysTech  Information Technology              Software & Services                        Application Software                            Systems Software\n",
       "3          MetaPro             Industrials             Electrical Equipment           Electrical Components & Equipment           Electrical Components & Equipment\n",
       "4          SunTech  Information Technology  Technology Hardware & Equipment  Technology Hardware, Storage & Peripherals  Technology Hardware, Storage & Peripherals"
      ]
     },
     "execution_count": 199,
     "metadata": {},
     "output_type": "execute_result"
    }
   ],
   "source": [
    "# Columns with possible repetitive information\n",
    "sample_df[[\"MANUFACTURER\", \"MANUFACTURER_SECTOR\", \"MANUFACTURER_INDUSTRY_GROUP\", \"MANUFACTURER_INDUSTRY\", \"MANUFACTURER_SUBINDUSTRY\"]].head()"
   ]
  },
  {
   "cell_type": "code",
   "execution_count": 200,
   "metadata": {},
   "outputs": [
    {
     "name": "stdout",
     "output_type": "stream",
     "text": [
      "Number of unique projects: 1720\n",
      "Number of unique tasks: 31009\n",
      "Number of unique translators: 228\n",
      "Number of source languages: 11\n",
      "Number of target languages: 18\n",
      "Number of unique task types: 6\n"
     ]
    }
   ],
   "source": [
    "print(f\"Number of unique projects: {sample_df['PROJECT_ID'].nunique()}\")\n",
    "print(f\"Number of unique tasks: {sample_df['TASK_ID'].nunique()}\")\n",
    "print(f\"Number of unique translators: {sample_df['TRANSLATOR'].nunique()}\")\n",
    "print(f\"Number of source languages: {sample_df['SOURCE_LANG'].nunique()}\")\n",
    "print(f\"Number of target languages: {sample_df['TARGET_LANG'].nunique()}\")\n",
    "print(f\"Number of unique task types: {sample_df['TASK_TYPE'].nunique()}\")"
   ]
  },
  {
   "cell_type": "code",
   "execution_count": 201,
   "metadata": {},
   "outputs": [
    {
     "data": {
      "image/png": "[encoded data removed]",
      "text/plain": [
       "<Figure size 1000x600 with 1 Axes>"
      ]
     },
     "metadata": {},
     "output_type": "display_data"
    }
   ],
   "source": [
    "# Check distribution of quality evaluations (quality control scores)\n",
    "plt.figure(figsize=(10, 6))\n",
    "sns.histplot(sample_df[\"QUALITY_EVALUATION\"].dropna(), bins=10, kde=True, alpha=0.75)\n",
    "plt.title(\"Distribution of Quality Evaluations\")\n",
    "plt.xlabel(\"Quality Score\")\n",
    "plt.ylabel(\"Count\")\n",
    "plt.show()\n"
   ]
  },
  {
   "cell_type": "code",
   "execution_count": 202,
   "metadata": {},
   "outputs": [
    {
     "data": {
      "image/png": "[encoded data removed]",
      "text/plain": [
       "<Figure size 1200x500 with 2 Axes>"
      ]
     },
     "metadata": {},
     "output_type": "display_data"
    }
   ],
   "source": [
    "# Distribution of hourly rates and costs\n",
    "plt.figure(figsize=(12, 5))\n",
    "\n",
    "plt.subplot(1, 2, 1)\n",
    "sns.histplot(sample_df[\"HOURLY_RATE\"].dropna())\n",
    "plt.title(\"Distribution of Hourly Rates\")\n",
    "plt.xlabel(\"Hourly Rate\")\n",
    "plt.ylabel(\"Count\")\n",
    "\n",
    "plt.subplot(1, 2, 2)\n",
    "sns.histplot(sample_df[\"COST\"].dropna())\n",
    "plt.title(\"Distribution of Costs\")\n",
    "plt.xlim(0, 500)\n",
    "plt.xlabel(\"Cost\")\n",
    "plt.ylabel(\"Count\")\n",
    "\n",
    "plt.tight_layout()\n",
    "plt.show()"
   ]
  },
  {
   "cell_type": "markdown",
   "metadata": {},
   "source": [
    "## Data Cleaning and Preprocessing"
   ]
  },
  {
   "cell_type": "code",
   "execution_count": 203,
   "metadata": {},
   "outputs": [],
   "source": [
    "def standardize_language(lang, database):\n",
    "    \"\"\"\n",
    "    Standardize a language name to match a reference list using Levenshtein distance\n",
    "\n",
    "    Parameters:\n",
    "    lang (str): Language to standardize\n",
    "    database (list): List of reference language names\n",
    "\n",
    "    Returns:\n",
    "    str: Standardized language name\n",
    "    \"\"\"\n",
    "    # Lowercase the language name\n",
    "    reference_list = [x.lower() for x in database if isinstance(x, str)]\n",
    "    \n",
    "    # Levenshtein distance to get the closest match\n",
    "    closest = difflib.get_close_matches(lang.lower(), reference_list, n=1, cutoff=0)[0]\n",
    "    \n",
    "    # Get the index of the closest match and return the original case from reference_list\n",
    "    index = reference_list.index(closest)\n",
    "    \n",
    "    return database[index]\n",
    "\n",
    "# Database\n",
    "all_languages = np.sort(pd.concat([\n",
    "    sample_df[\"SOURCE_LANG\"],\n",
    "    sample_df[\"TARGET_LANG\"],\n",
    "    translators_df[\"SOURCE_LANG\"],\n",
    "    translators_df[\"TARGET_LANG\"]\n",
    "]).dropna().unique())"
   ]
  },
  {
   "cell_type": "code",
   "execution_count": 204,
   "metadata": {},
   "outputs": [
    {
     "data": {
      "text/plain": [
       "array(['Afrikaans', 'Arabic', 'Asturian', 'Aymara', 'Azeri', 'Bahasa',\n",
       "       'Basque', 'Belorussian', 'Bulgarian', 'Catalan',\n",
       "       'Chinese (Simplified)', 'Chinese(Traditional)', 'Chuj', 'Croat',\n",
       "       'Czech', 'Danish', 'Dutch', 'English', 'English (UK)',\n",
       "       'English (US)', 'Estonian', 'Finnish', 'Flemish', 'French',\n",
       "       'French (Canadian)', 'French (Morocco)', 'French (Switzerland)',\n",
       "       'Fulah', 'Galician', 'German', 'German (Switzerland)', 'Greek',\n",
       "       'Guaraní', 'Hebrew', 'Hindi', 'Hungarian', 'Indonesian', 'Irish',\n",
       "       'Italian', 'Japanese', 'Kaqchikel', 'Kazakh', 'Korean', 'Latvian',\n",
       "       'Lithuanian', 'Majorcan', 'Maltese', 'Mam', 'Mixteco', 'Nahuatl',\n",
       "       'Norwegian', 'Persian', 'Polish', 'Portuguese (Brazil)',\n",
       "       'Portuguese (Iberian)', 'Portuguese (SOURCE)', 'Qeqchi', 'Quechua',\n",
       "       'Quiche', 'Romanian', 'Russian', 'Scottish', 'Serbian', 'Slovak',\n",
       "       'Slovenian', 'Spanish (Argentina)', 'Spanish (Chile)',\n",
       "       'Spanish (Global)', 'Spanish (Iberian)', 'Spanish (LA)',\n",
       "       'Spanish (Mexico)', 'Spanish (SOURCE)', 'Spanish (US)', 'Swedish',\n",
       "       'Thai', 'Turkish', 'Ukrainian', 'Urdu', 'Uzbek', 'Valencian',\n",
       "       'Vietnamese'], dtype=object)"
      ]
     },
     "execution_count": 204,
     "metadata": {},
     "output_type": "execute_result"
    }
   ],
   "source": [
    "all_languages"
   ]
  },
  {
   "cell_type": "markdown",
   "metadata": {},
   "source": [
    "```python\n",
    "# Example\n",
    "new_input_lang = \"Spanish (Iberiano)\"\n",
    "\n",
    "# Standardize the language\n",
    "standardized_lang = standardize_language(new_input_lang, all_languages)\n",
    "print(standardized_lang) \n",
    "\n",
    "\n",
    "# Example using Dataframe\n",
    "new_record = pd.DataFrame([{\n",
    "    \"PROJECT_ID\": 213495,\n",
    "    \"PM\": \"JSM\",\n",
    "    \"TASK_ID\": 10048286,\n",
    "    \"START\": \"2014-11-27 09:00:00\",\n",
    "    \"END\": \"2014-11-27 13:00:00\",\n",
    "    \"TASK_TYPE\": \"Translation\",\n",
    "    \"SOURCE_LANG\": \"Spanishh (Iberian)\",\n",
    "    \"TARGET_LANG\": \"Englisasdh\",\n",
    "    \"TRANSLATOR\": \"Carlos\",\n",
    "    \"ASSIGNED\": \"2014-11-27 08:30:00\",\n",
    "    \"CLOSE\": \"2014-11-27 14:00:00\",\n",
    "    \"FORECAST\": 0.5,\n",
    "    \"HOURLY_RATE\": 30,\n",
    "    \"COST\": 15.0,\n",
    "    \"QUALITY_EVALUATION\": 8,\n",
    "    \"MANUFACTURER\": \"Global Tech\",\n",
    "    \"MANUFACTURER_SECTOR\": \"Technology\",\n",
    "    \"MANUFACTURER_INDUSTRY_GROUP\": \"Software & Services\",\n",
    "    \"MANUFACTURER_INDUSTRY\": \"IT Services\",\n",
    "    \"MANUFACTURER_SUBINDUSTRY\": \"Data Processing & Outsourced Services\"\n",
    "}])\n",
    "\n",
    "# Dataframe\n",
    "new_record_df = new_record\n",
    "\n",
    "# Display results\n",
    "display(new_record_df)\n",
    "\n",
    "new_record_df[\"SOURCE_LANG\"] = new_record_df[\"SOURCE_LANG\"].apply(standardize_language, database=all_languages)\n",
    "new_record_df[\"TARGET_LANG\"] = new_record_df[\"TARGET_LANG\"].apply(standardize_language, database=all_languages)\n",
    "\n",
    "display(new_record_df)\n",
    "\n",
    "\n",
    "````"
   ]
  },
  {
   "cell_type": "code",
   "execution_count": null,
   "metadata": {},
   "outputs": [],
   "source": []
  }
 ],
 "metadata": {
  "kernelspec": {
   "display_name": "Synthesis",
   "language": "python",
   "name": "python3"
  },
  "language_info": {
   "codemirror_mode": {
    "name": "ipython",
    "version": 3
   },
   "file_extension": ".py",
   "mimetype": "text/x-python",
   "name": "python",
   "nbconvert_exporter": "python",
   "pygments_lexer": "ipython3",
   "version": "3.10.16"
  }
 },
 "nbformat": 4,
 "nbformat_minor": 4
}
